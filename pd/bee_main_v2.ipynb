{
 "cells": [
  {
   "cell_type": "markdown",
   "metadata": {},
   "source": [
    "## Naive Bees Classifier"
   ]
  },
  {
   "cell_type": "markdown",
   "metadata": {},
   "source": [
    "### Loading relevent libraries"
   ]
  },
  {
   "cell_type": "code",
   "execution_count": 109,
   "metadata": {
    "collapsed": true
   },
   "outputs": [],
   "source": [
    "import pandas as pd\n",
    "import os, shutil\n",
    "import numpy as np\n",
    "from keras.models import Sequential\n",
    "from keras.utils import np_utils\n",
    "from keras import layers, models, regularizers, optimizers\n",
    "from keras.layers import Conv2D, MaxPooling2D, Dense, Activation, Flatten, Dropout, BatchNormalization\n",
    "from keras.preprocessing.image import ImageDataGenerator\n",
    "from keras.preprocessing import image\n",
    "import matplotlib.pyplot as plt\n",
    "from PIL import Image\n",
    "from keras.applications import InceptionV3\n",
    "from keras import backend as K\n",
    "from sklearn.metrics import accuracy_score,f1_score,roc_auc_score\n",
    "\n",
    "%matplotlib inline"
   ]
  },
  {
   "cell_type": "markdown",
   "metadata": {},
   "source": [
    "### Prepairing Image Data"
   ]
  },
  {
   "cell_type": "code",
   "execution_count": 65,
   "metadata": {},
   "outputs": [
    {
     "data": {
      "text/html": [
       "<div>\n",
       "<style scoped>\n",
       "    .dataframe tbody tr th:only-of-type {\n",
       "        vertical-align: middle;\n",
       "    }\n",
       "\n",
       "    .dataframe tbody tr th {\n",
       "        vertical-align: top;\n",
       "    }\n",
       "\n",
       "    .dataframe thead th {\n",
       "        text-align: right;\n",
       "    }\n",
       "</style>\n",
       "<table border=\"1\" class=\"dataframe\">\n",
       "  <thead>\n",
       "    <tr style=\"text-align: right;\">\n",
       "      <th></th>\n",
       "      <th>id</th>\n",
       "      <th>genus</th>\n",
       "    </tr>\n",
       "  </thead>\n",
       "  <tbody>\n",
       "    <tr>\n",
       "      <th>0</th>\n",
       "      <td>520</td>\n",
       "      <td>1.0</td>\n",
       "    </tr>\n",
       "    <tr>\n",
       "      <th>1</th>\n",
       "      <td>3800</td>\n",
       "      <td>1.0</td>\n",
       "    </tr>\n",
       "    <tr>\n",
       "      <th>2</th>\n",
       "      <td>3289</td>\n",
       "      <td>1.0</td>\n",
       "    </tr>\n",
       "    <tr>\n",
       "      <th>3</th>\n",
       "      <td>2695</td>\n",
       "      <td>1.0</td>\n",
       "    </tr>\n",
       "    <tr>\n",
       "      <th>4</th>\n",
       "      <td>4922</td>\n",
       "      <td>1.0</td>\n",
       "    </tr>\n",
       "  </tbody>\n",
       "</table>\n",
       "</div>"
      ],
      "text/plain": [
       "     id  genus\n",
       "0   520    1.0\n",
       "1  3800    1.0\n",
       "2  3289    1.0\n",
       "3  2695    1.0\n",
       "4  4922    1.0"
      ]
     },
     "execution_count": 65,
     "metadata": {},
     "output_type": "execute_result"
    }
   ],
   "source": [
    "train_labels = pd.read_csv('dataset/train_labels.csv')\n",
    "train_labels.head()"
   ]
  },
  {
   "cell_type": "code",
   "execution_count": 66,
   "metadata": {},
   "outputs": [
    {
     "name": "stdout",
     "output_type": "stream",
     "text": [
      "(3969, 2)\n"
     ]
    },
    {
     "data": {
      "text/plain": [
       "1    3142\n",
       "0     827\n",
       "Name: genus, dtype: int64"
      ]
     },
     "execution_count": 66,
     "metadata": {},
     "output_type": "execute_result"
    }
   ],
   "source": [
    "train_labels.genus = train_labels.genus.astype('int64')\n",
    "print(train_labels.shape)\n",
    "train_labels.genus.value_counts()"
   ]
  },
  {
   "cell_type": "markdown",
   "metadata": {},
   "source": [
    "\n",
    "We can see that the dataset is quite imbalanced with a ***20:80 split *** between the two classes. If a guess of 1 is made then 80 % of the times it will be correct, on the other hand it is 20 % for 0.\n",
    "\n"
   ]
  },
  {
   "cell_type": "markdown",
   "metadata": {},
   "source": [
    "We will split the train data in 3 parts *** train set, validation set and test set***. The test set will be 10 % of the train data. We will use K-Fold cross validation on the other 90 % of the data left."
   ]
  },
  {
   "cell_type": "code",
   "execution_count": 67,
   "metadata": {
    "collapsed": true
   },
   "outputs": [],
   "source": [
    "original_dataset_dir = 'dataset/'\n",
    "base_dir_train = 'images/train/'\n",
    "base_dir_test = 'images/test/'\n",
    "\n",
    "train_set_split = os.path.join(original_dataset_dir,'train_set')\n",
    "test_set_split = os.path.join(original_dataset_dir,'test_set')\n",
    "val_set_split = os.path.join(original_dataset_dir,'val_set')"
   ]
  },
  {
   "cell_type": "markdown",
   "metadata": {},
   "source": [
    "We have defined 3 function below which are transfer files, cross validation and make k folders below. These 3 fucntion take the splits number and total splits as the arguemnt and divide the train data in 3 parts train set validation set and test set."
   ]
  },
  {
   "cell_type": "code",
   "execution_count": 68,
   "metadata": {
    "collapsed": true
   },
   "outputs": [],
   "source": [
    "def transfer_files(dest, files, cat):\n",
    "    if cat == 0:\n",
    "        dest = os.path.join(dest + '/0')\n",
    "    elif cat == 1:\n",
    "        dest = os.path.join(dest + '/1')\n",
    "    else:\n",
    "        print('Wrong category argument')\n",
    "    \n",
    "    for file in files:\n",
    "        filename = str(file) + '.jpg'\n",
    "        if os.path.isfile(original_dataset_dir + base_dir_train  + filename):\n",
    "            shutil.copy(os.path.join(original_dataset_dir + base_dir_train + filename), os.path.join(dest + '/' + filename))\n",
    "        else:\n",
    "            print('File missing! : ',filename)\n",
    "    "
   ]
  },
  {
   "cell_type": "code",
   "execution_count": 69,
   "metadata": {
    "collapsed": true
   },
   "outputs": [],
   "source": [
    "def cross_validation(k_i, splits):\n",
    "    train_files_0s = list(train_labels[train_labels.genus == 0].id)\n",
    "    train_files_1s = list(train_labels[train_labels.genus == 1].id)\n",
    "    \n",
    "    train_subset_0s = train_files_0s[:int(0.9 * len(train_files_0s))]\n",
    "    train_subset_1s = train_files_1s[:int(0.9 * len(train_files_1s))]\n",
    "    \n",
    "    factor = 1 / splits\n",
    "\n",
    "    train_set_0s = train_files_0s[:int(factor * k_i * len(train_subset_0s))] + train_files_0s[int(factor*(1 + k_i) * len(train_subset_0s)):] \n",
    "    train_set_1s = train_files_1s[:int(factor * k_i * len(train_subset_1s))] + train_files_1s[int(factor*(1 + k_i) * len(train_subset_1s)):] \n",
    "\n",
    "    val_set_0s = train_files_0s[int(factor * k_i * len(train_subset_0s)):int(factor * (1 + k_i) * len(train_subset_0s))]\n",
    "    val_set_1s = train_files_1s[int(factor * k_i * len(train_subset_1s)):int(factor * (1 + k_i) * len(train_subset_1s))]\n",
    "\n",
    "    test_set_0s = train_files_0s[int(0.9 * len(train_files_0s)):]\n",
    "    test_set_1s = train_files_1s[int(0.9 * len(train_files_1s)):]\n",
    "\n",
    "    transfer_files(train_set_split, train_set_0s, cat=0)\n",
    "    transfer_files(train_set_split, train_set_1s, cat=1)\n",
    "    \n",
    "    transfer_files(val_set_split, val_set_0s, cat=0)\n",
    "    transfer_files(val_set_split, val_set_1s, cat=1)\n",
    "    \n",
    "    transfer_files(test_set_split, test_set_0s, cat=0)\n",
    "    transfer_files(test_set_split, test_set_1s, cat=1)\n",
    "    \n",
    "    print('All file transfers done!')"
   ]
  },
  {
   "cell_type": "code",
   "execution_count": 70,
   "metadata": {
    "collapsed": true
   },
   "outputs": [],
   "source": [
    "def make_k_folders(k_i, splits):\n",
    "    train_set_split = os.path.join(original_dataset_dir,'train_set')\n",
    "    test_set_split = os.path.join(original_dataset_dir,'test_set')\n",
    "    val_set_split = os.path.join(original_dataset_dir,'val_set')\n",
    "    \n",
    "    categories = [i for i in range(2)]\n",
    "\n",
    "    if not os.path.exists(train_set_split):\n",
    "        os.mkdir(train_set_split)\n",
    "    if not os.path.exists(test_set_split):\n",
    "        os.mkdir(test_set_split)\n",
    "    if not os.path.exists(val_set_split):\n",
    "        os.mkdir(val_set_split)\n",
    "    \n",
    "    for i in categories:\n",
    "        train_set_split_cat = 'dataset/train_set/' + str(i)\n",
    "        test_set_split_cat = 'dataset/test_set/' + str(i)\n",
    "        val_set_split_cat = 'dataset/val_set/' + str(i)\n",
    "    \n",
    "        if not os.path.exists(train_set_split_cat):\n",
    "            os.mkdir(train_set_split_cat)\n",
    "        if not os.path.exists(test_set_split_cat):\n",
    "            os.mkdir(test_set_split_cat)\n",
    "        if not os.path.exists(val_set_split_cat):\n",
    "            os.mkdir(val_set_split_cat)\n",
    "        \n",
    "    cross_validation(k_i, splits)"
   ]
  },
  {
   "cell_type": "markdown",
   "metadata": {},
   "source": [
    "### CNN Network"
   ]
  },
  {
   "cell_type": "markdown",
   "metadata": {},
   "source": [
    "We will be using keras for building and trainig our CNN. We will be uisng F1 score as a metric for scores instead of AUC-ROC because keras doesn't support batch by batch AUC-ROC calculation.You can do it at the end of epoch instead. But these metrics are quite similar"
   ]
  },
  {
   "cell_type": "code",
   "execution_count": 71,
   "metadata": {
    "collapsed": true
   },
   "outputs": [],
   "source": [
    "def f1_score(y_true, y_pred):\n",
    "    def recall(y_true, y_pred):\n",
    "        true_positives = K.sum(K.round(K.clip(y_true * y_pred, 0, 1)))\n",
    "        possible_positives = K.sum(K.round(K.clip(y_true, 0, 1)))\n",
    "        recall = true_positives / (possible_positives + K.epsilon())\n",
    "        return recall\n",
    "\n",
    "    def precision(y_true, y_pred):\n",
    "        true_positives = K.sum(K.round(K.clip(y_true * y_pred, 0, 1)))\n",
    "        predicted_positives = K.sum(K.round(K.clip(y_pred, 0, 1)))\n",
    "        precision = true_positives / (predicted_positives + K.epsilon())\n",
    "        return precision\n",
    "    precision = precision(y_true, y_pred)\n",
    "    recall = recall(y_true, y_pred)\n",
    "    return 2*((precision*recall)/(precision+recall+K.epsilon()))"
   ]
  },
  {
   "cell_type": "markdown",
   "metadata": {},
   "source": [
    "Since the given dataset is quite small(3969 labelled images) we will use pre trained top layers of CNN model InceptionV3 which was trained on imagenet dataset which has millions of images. \n",
    "If we try to train our own network it will miss out on important features, exhausting the full dataset.\n",
    "Luckily imagenet has images for bees which will help us in identifying the basic lower level features."
   ]
  },
  {
   "cell_type": "code",
   "execution_count": 72,
   "metadata": {
    "collapsed": true
   },
   "outputs": [],
   "source": [
    "# Hyper-parameters for CNN\n",
    "\n",
    "conv_base = InceptionV3(weights='imagenet',include_top=False,input_shape=(200, 200, 3))\n",
    "conv_base.trainable = False\n",
    "\n",
    "epochs = 30\n",
    "learning_rate = 0.00005\n",
    "adam = optimizers.Adam(lr=learning_rate)\n",
    "\n",
    "batch_size = 32"
   ]
  },
  {
   "cell_type": "code",
   "execution_count": 73,
   "metadata": {
    "collapsed": true
   },
   "outputs": [],
   "source": [
    "def build_model():\n",
    "    model = Sequential()\n",
    "    \n",
    "    model.add(conv_base)\n",
    "    model.add(Dropout(0.5))\n",
    "    model.add(layers.Flatten())\n",
    "    model.add(Dense(256, activation='relu'))\n",
    "    model.add(Dense(1, activation='sigmoid'))\n",
    "    \n",
    "    model.compile(loss='binary_crossentropy', optimizer = adam, metrics=['binary_accuracy',f1_score])\n",
    "    \n",
    "    return model"
   ]
  },
  {
   "cell_type": "code",
   "execution_count": 74,
   "metadata": {},
   "outputs": [
    {
     "name": "stdout",
     "output_type": "stream",
     "text": [
      "_________________________________________________________________\n",
      "Layer (type)                 Output Shape              Param #   \n",
      "=================================================================\n",
      "inception_v3 (Model)         (None, 4, 4, 2048)        21802784  \n",
      "_________________________________________________________________\n",
      "dropout_6 (Dropout)          (None, 4, 4, 2048)        0         \n",
      "_________________________________________________________________\n",
      "flatten_6 (Flatten)          (None, 32768)             0         \n",
      "_________________________________________________________________\n",
      "dense_11 (Dense)             (None, 256)               8388864   \n",
      "_________________________________________________________________\n",
      "dense_12 (Dense)             (None, 1)                 257       \n",
      "=================================================================\n",
      "Total params: 30,191,905\n",
      "Trainable params: 8,389,121\n",
      "Non-trainable params: 21,802,784\n",
      "_________________________________________________________________\n"
     ]
    }
   ],
   "source": [
    "model = build_model()\n",
    "model.summary()"
   ]
  },
  {
   "cell_type": "markdown",
   "metadata": {},
   "source": [
    "#### Data Augmentation\n",
    "\n",
    "We will be using data augmentation on train set as well as validation set bacause we are using K-Fold cross validation. It is to make sure that the model does't see the same data twice. Also keras model keep a memory of the previous data even if they are run in loop unlike sklearn libraries."
   ]
  },
  {
   "cell_type": "code",
   "execution_count": 75,
   "metadata": {
    "scrolled": true
   },
   "outputs": [
    {
     "name": "stdout",
     "output_type": "stream",
     "text": [
      "All file transfers done!\n",
      "Found 3256 images belonging to 2 classes.\n",
      "Found 713 images belonging to 2 classes.\n",
      "Epoch 1/30\n",
      "102/102 [==============================] - 60s 589ms/step - loss: 0.5046 - binary_accuracy: 0.7847 - f1_score: 0.8691 - val_loss: 0.7413 - val_binary_accuracy: 0.7952 - val_f1_score: 0.8832\n",
      "Epoch 2/30\n",
      "102/102 [==============================] - 42s 411ms/step - loss: 0.4366 - binary_accuracy: 0.8027 - f1_score: 0.8803 - val_loss: 0.4591 - val_binary_accuracy: 0.8149 - val_f1_score: 0.8901\n",
      "Epoch 3/30\n",
      "102/102 [==============================] - 42s 409ms/step - loss: 0.4050 - binary_accuracy: 0.8150 - f1_score: 0.8875 - val_loss: 0.4520 - val_binary_accuracy: 0.8149 - val_f1_score: 0.8857\n",
      "Epoch 4/30\n",
      "102/102 [==============================] - 42s 410ms/step - loss: 0.3967 - binary_accuracy: 0.8240 - f1_score: 0.8929 - val_loss: 0.4546 - val_binary_accuracy: 0.8008 - val_f1_score: 0.8769\n",
      "Epoch 5/30\n",
      "102/102 [==============================] - 42s 407ms/step - loss: 0.3856 - binary_accuracy: 0.8166 - f1_score: 0.8883 - val_loss: 0.4565 - val_binary_accuracy: 0.8135 - val_f1_score: 0.8895\n",
      "Epoch 6/30\n",
      "102/102 [==============================] - 41s 406ms/step - loss: 0.3945 - binary_accuracy: 0.8184 - f1_score: 0.8894 - val_loss: 0.4204 - val_binary_accuracy: 0.7994 - val_f1_score: 0.8708\n",
      "Epoch 7/30\n",
      "102/102 [==============================] - 41s 403ms/step - loss: 0.3830 - binary_accuracy: 0.8201 - f1_score: 0.8905 - val_loss: 0.4299 - val_binary_accuracy: 0.7868 - val_f1_score: 0.8583\n",
      "Epoch 8/30\n",
      "102/102 [==============================] - 42s 408ms/step - loss: 0.3776 - binary_accuracy: 0.8211 - f1_score: 0.8908 - val_loss: 0.4540 - val_binary_accuracy: 0.7700 - val_f1_score: 0.8426\n",
      "Epoch 9/30\n",
      "102/102 [==============================] - 42s 409ms/step - loss: 0.3790 - binary_accuracy: 0.8251 - f1_score: 0.8931 - val_loss: 0.4019 - val_binary_accuracy: 0.8373 - val_f1_score: 0.9010\n",
      "Epoch 10/30\n",
      "102/102 [==============================] - 42s 410ms/step - loss: 0.3603 - binary_accuracy: 0.8362 - f1_score: 0.8992 - val_loss: 0.4212 - val_binary_accuracy: 0.8233 - val_f1_score: 0.8888\n",
      "Epoch 11/30\n",
      "102/102 [==============================] - 41s 405ms/step - loss: 0.3649 - binary_accuracy: 0.8306 - f1_score: 0.8964 - val_loss: 0.4383 - val_binary_accuracy: 0.8205 - val_f1_score: 0.8895\n",
      "Epoch 12/30\n",
      "102/102 [==============================] - 42s 407ms/step - loss: 0.3606 - binary_accuracy: 0.8329 - f1_score: 0.8980 - val_loss: 0.3766 - val_binary_accuracy: 0.8261 - val_f1_score: 0.8930\n",
      "Epoch 13/30\n",
      "102/102 [==============================] - 42s 410ms/step - loss: 0.3538 - binary_accuracy: 0.8339 - f1_score: 0.8982 - val_loss: 0.5369 - val_binary_accuracy: 0.7504 - val_f1_score: 0.8259\n",
      "Epoch 14/30\n",
      "102/102 [==============================] - 41s 403ms/step - loss: 0.3554 - binary_accuracy: 0.8388 - f1_score: 0.9006 - val_loss: 0.4074 - val_binary_accuracy: 0.8429 - val_f1_score: 0.9033\n",
      "Epoch 15/30\n",
      "102/102 [==============================] - 42s 416ms/step - loss: 0.3581 - binary_accuracy: 0.8379 - f1_score: 0.9007 - val_loss: 0.4724 - val_binary_accuracy: 0.7784 - val_f1_score: 0.8496\n",
      "Epoch 16/30\n",
      "102/102 [==============================] - 42s 408ms/step - loss: 0.3488 - binary_accuracy: 0.8416 - f1_score: 0.9029 - val_loss: 0.4385 - val_binary_accuracy: 0.8345 - val_f1_score: 0.8968\n",
      "Epoch 17/30\n",
      "102/102 [==============================] - 41s 403ms/step - loss: 0.3639 - binary_accuracy: 0.8349 - f1_score: 0.8987 - val_loss: 0.4194 - val_binary_accuracy: 0.8107 - val_f1_score: 0.8771\n",
      "Epoch 18/30\n",
      "102/102 [==============================] - 41s 403ms/step - loss: 0.3481 - binary_accuracy: 0.8428 - f1_score: 0.9036 - val_loss: 0.4374 - val_binary_accuracy: 0.8065 - val_f1_score: 0.8743\n",
      "Epoch 19/30\n",
      "102/102 [==============================] - 42s 409ms/step - loss: 0.3560 - binary_accuracy: 0.8372 - f1_score: 0.9002 - val_loss: 0.3947 - val_binary_accuracy: 0.8303 - val_f1_score: 0.8954\n",
      "Epoch 20/30\n",
      "102/102 [==============================] - 41s 405ms/step - loss: 0.3465 - binary_accuracy: 0.8375 - f1_score: 0.8999 - val_loss: 0.4666 - val_binary_accuracy: 0.8008 - val_f1_score: 0.8677\n",
      "Epoch 21/30\n",
      "102/102 [==============================] - 41s 402ms/step - loss: 0.3421 - binary_accuracy: 0.8471 - f1_score: 0.9059 - val_loss: 0.4576 - val_binary_accuracy: 0.7966 - val_f1_score: 0.8640\n",
      "Epoch 22/30\n",
      "102/102 [==============================] - 42s 409ms/step - loss: 0.3455 - binary_accuracy: 0.8385 - f1_score: 0.9004 - val_loss: 0.4529 - val_binary_accuracy: 0.7980 - val_f1_score: 0.8613\n",
      "Epoch 23/30\n",
      "102/102 [==============================] - 42s 409ms/step - loss: 0.3360 - binary_accuracy: 0.8463 - f1_score: 0.9056 - val_loss: 0.4563 - val_binary_accuracy: 0.7938 - val_f1_score: 0.8654\n",
      "Epoch 24/30\n",
      "102/102 [==============================] - 42s 407ms/step - loss: 0.3414 - binary_accuracy: 0.8488 - f1_score: 0.9072 - val_loss: 0.4826 - val_binary_accuracy: 0.8219 - val_f1_score: 0.8891\n",
      "Epoch 25/30\n",
      "102/102 [==============================] - 43s 422ms/step - loss: 0.3333 - binary_accuracy: 0.8469 - f1_score: 0.9056 - val_loss: 0.3858 - val_binary_accuracy: 0.8415 - val_f1_score: 0.8991\n",
      "Epoch 26/30\n",
      "102/102 [==============================] - 41s 406ms/step - loss: 0.3428 - binary_accuracy: 0.8413 - f1_score: 0.9022 - val_loss: 0.4042 - val_binary_accuracy: 0.8485 - val_f1_score: 0.9079\n",
      "Epoch 27/30\n",
      "102/102 [==============================] - 42s 413ms/step - loss: 0.3464 - binary_accuracy: 0.8413 - f1_score: 0.9020 - val_loss: 0.4177 - val_binary_accuracy: 0.8401 - val_f1_score: 0.9042\n",
      "Epoch 28/30\n",
      "102/102 [==============================] - 43s 419ms/step - loss: 0.3352 - binary_accuracy: 0.8399 - f1_score: 0.9017 - val_loss: 0.4215 - val_binary_accuracy: 0.8135 - val_f1_score: 0.8802\n",
      "Epoch 29/30\n",
      "102/102 [==============================] - 42s 412ms/step - loss: 0.3367 - binary_accuracy: 0.8448 - f1_score: 0.9046 - val_loss: 0.4983 - val_binary_accuracy: 0.7714 - val_f1_score: 0.8448\n",
      "Epoch 30/30\n",
      "102/102 [==============================] - 41s 401ms/step - loss: 0.3289 - binary_accuracy: 0.8476 - f1_score: 0.9054 - val_loss: 0.4174 - val_binary_accuracy: 0.8163 - val_f1_score: 0.8862\n",
      "All file transfers done!\n",
      "Found 3255 images belonging to 2 classes.\n",
      "Found 714 images belonging to 2 classes.\n",
      "Epoch 1/30\n",
      "102/102 [==============================] - 45s 445ms/step - loss: 0.3418 - binary_accuracy: 0.8366 - f1_score: 0.8991 - val_loss: 0.4839 - val_binary_accuracy: 0.7885 - val_f1_score: 0.8620\n",
      "Epoch 2/30\n",
      "102/102 [==============================] - 41s 405ms/step - loss: 0.3400 - binary_accuracy: 0.8348 - f1_score: 0.8983 - val_loss: 0.5158 - val_binary_accuracy: 0.8193 - val_f1_score: 0.8910\n",
      "Epoch 3/30\n",
      "102/102 [==============================] - 42s 410ms/step - loss: 0.3433 - binary_accuracy: 0.8356 - f1_score: 0.8997 - val_loss: 0.4920 - val_binary_accuracy: 0.7969 - val_f1_score: 0.8692\n",
      "Epoch 4/30\n",
      "102/102 [==============================] - 43s 421ms/step - loss: 0.3406 - binary_accuracy: 0.8477 - f1_score: 0.9063 - val_loss: 0.5141 - val_binary_accuracy: 0.8151 - val_f1_score: 0.8899\n",
      "Epoch 5/30\n",
      "102/102 [==============================] - 41s 403ms/step - loss: 0.3237 - binary_accuracy: 0.8533 - f1_score: 0.9101 - val_loss: 0.4362 - val_binary_accuracy: 0.8207 - val_f1_score: 0.8836\n",
      "Epoch 6/30\n",
      "102/102 [==============================] - 42s 408ms/step - loss: 0.3330 - binary_accuracy: 0.8544 - f1_score: 0.9095 - val_loss: 0.3976 - val_binary_accuracy: 0.8459 - val_f1_score: 0.9051\n",
      "Epoch 7/30\n",
      "102/102 [==============================] - 42s 410ms/step - loss: 0.3206 - binary_accuracy: 0.8542 - f1_score: 0.9096 - val_loss: 0.4892 - val_binary_accuracy: 0.8109 - val_f1_score: 0.8742\n",
      "Epoch 8/30\n",
      "102/102 [==============================] - 43s 419ms/step - loss: 0.3146 - binary_accuracy: 0.8535 - f1_score: 0.9096 - val_loss: 0.5396 - val_binary_accuracy: 0.8305 - val_f1_score: 0.8975\n",
      "Epoch 9/30\n",
      "102/102 [==============================] - 42s 410ms/step - loss: 0.3271 - binary_accuracy: 0.8541 - f1_score: 0.9100 - val_loss: 0.5407 - val_binary_accuracy: 0.8291 - val_f1_score: 0.8997\n",
      "Epoch 10/30\n",
      "102/102 [==============================] - 41s 404ms/step - loss: 0.3141 - binary_accuracy: 0.8610 - f1_score: 0.9142 - val_loss: 0.4722 - val_binary_accuracy: 0.8081 - val_f1_score: 0.8793\n",
      "Epoch 11/30\n",
      "102/102 [==============================] - 42s 412ms/step - loss: 0.3202 - binary_accuracy: 0.8546 - f1_score: 0.9103 - val_loss: 0.4727 - val_binary_accuracy: 0.8011 - val_f1_score: 0.8732\n",
      "Epoch 12/30\n",
      "102/102 [==============================] - 42s 411ms/step - loss: 0.3280 - binary_accuracy: 0.8429 - f1_score: 0.9027 - val_loss: 0.5552 - val_binary_accuracy: 0.8361 - val_f1_score: 0.9014\n",
      "Epoch 13/30\n",
      "102/102 [==============================] - 42s 414ms/step - loss: 0.3270 - binary_accuracy: 0.8558 - f1_score: 0.9107 - val_loss: 0.4506 - val_binary_accuracy: 0.8221 - val_f1_score: 0.8895\n",
      "Epoch 14/30\n",
      "102/102 [==============================] - 41s 407ms/step - loss: 0.3120 - binary_accuracy: 0.8604 - f1_score: 0.9138 - val_loss: 0.4312 - val_binary_accuracy: 0.8263 - val_f1_score: 0.8931\n",
      "Epoch 15/30\n",
      "102/102 [==============================] - 42s 408ms/step - loss: 0.3179 - binary_accuracy: 0.8606 - f1_score: 0.9140 - val_loss: 0.4888 - val_binary_accuracy: 0.7899 - val_f1_score: 0.8691\n",
      "Epoch 16/30\n",
      "102/102 [==============================] - 42s 407ms/step - loss: 0.3244 - binary_accuracy: 0.8539 - f1_score: 0.9096 - val_loss: 0.4616 - val_binary_accuracy: 0.8053 - val_f1_score: 0.8766\n",
      "Epoch 17/30\n",
      "102/102 [==============================] - 41s 404ms/step - loss: 0.3219 - binary_accuracy: 0.8499 - f1_score: 0.9072 - val_loss: 0.4664 - val_binary_accuracy: 0.8151 - val_f1_score: 0.8865\n",
      "Epoch 18/30\n",
      "102/102 [==============================] - 41s 407ms/step - loss: 0.3266 - binary_accuracy: 0.8568 - f1_score: 0.9117 - val_loss: 0.4330 - val_binary_accuracy: 0.8039 - val_f1_score: 0.8764\n",
      "Epoch 19/30\n",
      "102/102 [==============================] - 42s 414ms/step - loss: 0.3147 - binary_accuracy: 0.8588 - f1_score: 0.9125 - val_loss: 0.4239 - val_binary_accuracy: 0.8165 - val_f1_score: 0.8838\n",
      "Epoch 20/30\n",
      "102/102 [==============================] - 42s 416ms/step - loss: 0.3047 - binary_accuracy: 0.8641 - f1_score: 0.9154 - val_loss: 0.4139 - val_binary_accuracy: 0.8249 - val_f1_score: 0.8916\n",
      "Epoch 21/30\n",
      "102/102 [==============================] - 41s 403ms/step - loss: 0.3147 - binary_accuracy: 0.8558 - f1_score: 0.9113 - val_loss: 0.4899 - val_binary_accuracy: 0.8291 - val_f1_score: 0.8962\n",
      "Epoch 22/30\n",
      "102/102 [==============================] - 41s 404ms/step - loss: 0.3160 - binary_accuracy: 0.8520 - f1_score: 0.9087 - val_loss: 0.4188 - val_binary_accuracy: 0.8277 - val_f1_score: 0.8948\n",
      "Epoch 23/30\n",
      "102/102 [==============================] - 41s 405ms/step - loss: 0.3144 - binary_accuracy: 0.8534 - f1_score: 0.9093 - val_loss: 0.4275 - val_binary_accuracy: 0.8445 - val_f1_score: 0.9057\n",
      "Epoch 24/30\n",
      "102/102 [==============================] - 42s 409ms/step - loss: 0.2996 - binary_accuracy: 0.8726 - f1_score: 0.9205 - val_loss: 0.4527 - val_binary_accuracy: 0.8347 - val_f1_score: 0.8996\n",
      "Epoch 25/30\n",
      "102/102 [==============================] - 41s 403ms/step - loss: 0.3043 - binary_accuracy: 0.8585 - f1_score: 0.9127 - val_loss: 0.4774 - val_binary_accuracy: 0.8151 - val_f1_score: 0.8893\n",
      "Epoch 26/30\n",
      "102/102 [==============================] - 43s 419ms/step - loss: 0.3192 - binary_accuracy: 0.8532 - f1_score: 0.9094 - val_loss: 0.4675 - val_binary_accuracy: 0.8375 - val_f1_score: 0.9020\n",
      "Epoch 27/30\n",
      "102/102 [==============================] - 41s 405ms/step - loss: 0.3056 - binary_accuracy: 0.8648 - f1_score: 0.9162 - val_loss: 0.5287 - val_binary_accuracy: 0.8025 - val_f1_score: 0.8763\n",
      "Epoch 28/30\n",
      "102/102 [==============================] - 43s 417ms/step - loss: 0.3043 - binary_accuracy: 0.8535 - f1_score: 0.9097 - val_loss: 0.4844 - val_binary_accuracy: 0.8123 - val_f1_score: 0.8837\n",
      "Epoch 29/30\n",
      "102/102 [==============================] - 42s 410ms/step - loss: 0.3078 - binary_accuracy: 0.8595 - f1_score: 0.9127 - val_loss: 0.5864 - val_binary_accuracy: 0.8291 - val_f1_score: 0.8985\n",
      "Epoch 30/30\n",
      "102/102 [==============================] - 41s 402ms/step - loss: 0.3091 - binary_accuracy: 0.8617 - f1_score: 0.9144 - val_loss: 0.4602 - val_binary_accuracy: 0.8109 - val_f1_score: 0.8821\n",
      "All file transfers done!\n",
      "Found 3254 images belonging to 2 classes.\n",
      "Found 715 images belonging to 2 classes.\n",
      "Epoch 1/30\n",
      "102/102 [==============================] - 45s 441ms/step - loss: 0.3086 - binary_accuracy: 0.8583 - f1_score: 0.9122 - val_loss: 0.4633 - val_binary_accuracy: 0.8517 - val_f1_score: 0.9124\n",
      "Epoch 2/30\n",
      "102/102 [==============================] - 42s 410ms/step - loss: 0.3091 - binary_accuracy: 0.8590 - f1_score: 0.9131 - val_loss: 0.4214 - val_binary_accuracy: 0.8448 - val_f1_score: 0.9053\n",
      "Epoch 3/30\n",
      "102/102 [==============================] - 42s 413ms/step - loss: 0.3151 - binary_accuracy: 0.8542 - f1_score: 0.9099 - val_loss: 0.3848 - val_binary_accuracy: 0.8629 - val_f1_score: 0.9175\n",
      "Epoch 4/30\n",
      "102/102 [==============================] - 42s 407ms/step - loss: 0.3090 - binary_accuracy: 0.8645 - f1_score: 0.9165 - val_loss: 0.5153 - val_binary_accuracy: 0.8392 - val_f1_score: 0.9064\n",
      "Epoch 5/30\n",
      "102/102 [==============================] - 42s 415ms/step - loss: 0.3274 - binary_accuracy: 0.8579 - f1_score: 0.9117 - val_loss: 0.5814 - val_binary_accuracy: 0.8196 - val_f1_score: 0.8952\n",
      "Epoch 6/30\n",
      "102/102 [==============================] - 42s 407ms/step - loss: 0.3169 - binary_accuracy: 0.8543 - f1_score: 0.9100 - val_loss: 0.3386 - val_binary_accuracy: 0.8559 - val_f1_score: 0.9111\n",
      "Epoch 7/30\n",
      "102/102 [==============================] - 41s 402ms/step - loss: 0.3191 - binary_accuracy: 0.8573 - f1_score: 0.9119 - val_loss: 0.4572 - val_binary_accuracy: 0.8503 - val_f1_score: 0.9110\n",
      "Epoch 8/30\n",
      "102/102 [==============================] - 41s 403ms/step - loss: 0.3146 - binary_accuracy: 0.8568 - f1_score: 0.9119 - val_loss: 0.4052 - val_binary_accuracy: 0.8350 - val_f1_score: 0.8987\n",
      "Epoch 9/30\n",
      "102/102 [==============================] - 41s 406ms/step - loss: 0.3143 - binary_accuracy: 0.8602 - f1_score: 0.9134 - val_loss: 0.4006 - val_binary_accuracy: 0.8406 - val_f1_score: 0.9019\n",
      "Epoch 10/30\n",
      "102/102 [==============================] - 42s 408ms/step - loss: 0.3109 - binary_accuracy: 0.8595 - f1_score: 0.9133 - val_loss: 0.4591 - val_binary_accuracy: 0.8420 - val_f1_score: 0.9045\n",
      "Epoch 11/30\n",
      "102/102 [==============================] - 42s 411ms/step - loss: 0.2971 - binary_accuracy: 0.8720 - f1_score: 0.9212 - val_loss: 0.4244 - val_binary_accuracy: 0.8462 - val_f1_score: 0.9071\n",
      "Epoch 12/30\n",
      "102/102 [==============================] - 41s 406ms/step - loss: 0.2986 - binary_accuracy: 0.8732 - f1_score: 0.9215 - val_loss: 0.4475 - val_binary_accuracy: 0.8126 - val_f1_score: 0.8817\n",
      "Epoch 13/30\n",
      "102/102 [==============================] - 41s 403ms/step - loss: 0.2932 - binary_accuracy: 0.8743 - f1_score: 0.9217 - val_loss: 0.3801 - val_binary_accuracy: 0.8238 - val_f1_score: 0.8883\n",
      "Epoch 14/30\n",
      "102/102 [==============================] - 41s 407ms/step - loss: 0.3087 - binary_accuracy: 0.8642 - f1_score: 0.9158 - val_loss: 0.4075 - val_binary_accuracy: 0.8252 - val_f1_score: 0.8913\n",
      "Epoch 15/30\n",
      "102/102 [==============================] - 42s 409ms/step - loss: 0.3036 - binary_accuracy: 0.8653 - f1_score: 0.9164 - val_loss: 0.3610 - val_binary_accuracy: 0.8657 - val_f1_score: 0.9180\n",
      "Epoch 16/30\n",
      "102/102 [==============================] - 42s 413ms/step - loss: 0.2946 - binary_accuracy: 0.8631 - f1_score: 0.9153 - val_loss: 0.4326 - val_binary_accuracy: 0.8308 - val_f1_score: 0.8983\n",
      "Epoch 17/30\n",
      "102/102 [==============================] - 43s 421ms/step - loss: 0.2911 - binary_accuracy: 0.8689 - f1_score: 0.9186 - val_loss: 0.4156 - val_binary_accuracy: 0.8573 - val_f1_score: 0.9144\n",
      "Epoch 18/30\n",
      "102/102 [==============================] - 41s 402ms/step - loss: 0.3011 - binary_accuracy: 0.8637 - f1_score: 0.9152 - val_loss: 0.3559 - val_binary_accuracy: 0.8531 - val_f1_score: 0.9097\n",
      "Epoch 19/30\n",
      "102/102 [==============================] - 42s 412ms/step - loss: 0.3029 - binary_accuracy: 0.8657 - f1_score: 0.9165 - val_loss: 0.4308 - val_binary_accuracy: 0.8364 - val_f1_score: 0.8999\n",
      "Epoch 20/30\n"
     ]
    },
    {
     "name": "stdout",
     "output_type": "stream",
     "text": [
      "102/102 [==============================] - 41s 403ms/step - loss: 0.2933 - binary_accuracy: 0.8665 - f1_score: 0.9167 - val_loss: 0.5318 - val_binary_accuracy: 0.8322 - val_f1_score: 0.9000\n",
      "Epoch 21/30\n",
      "102/102 [==============================] - 41s 403ms/step - loss: 0.2984 - binary_accuracy: 0.8632 - f1_score: 0.9153 - val_loss: 0.4250 - val_binary_accuracy: 0.8392 - val_f1_score: 0.9041\n",
      "Epoch 22/30\n",
      "102/102 [==============================] - 42s 416ms/step - loss: 0.2991 - binary_accuracy: 0.8729 - f1_score: 0.9216 - val_loss: 0.4325 - val_binary_accuracy: 0.8517 - val_f1_score: 0.9117\n",
      "Epoch 23/30\n",
      "102/102 [==============================] - 42s 408ms/step - loss: 0.2949 - binary_accuracy: 0.8648 - f1_score: 0.9161 - val_loss: 0.4050 - val_binary_accuracy: 0.8448 - val_f1_score: 0.9073\n",
      "Epoch 24/30\n",
      "102/102 [==============================] - 41s 403ms/step - loss: 0.2975 - binary_accuracy: 0.8682 - f1_score: 0.9179 - val_loss: 0.4429 - val_binary_accuracy: 0.8462 - val_f1_score: 0.9087\n",
      "Epoch 25/30\n",
      "102/102 [==============================] - 42s 411ms/step - loss: 0.2943 - binary_accuracy: 0.8635 - f1_score: 0.9152 - val_loss: 0.3734 - val_binary_accuracy: 0.8350 - val_f1_score: 0.8985\n",
      "Epoch 26/30\n",
      "102/102 [==============================] - 41s 403ms/step - loss: 0.2769 - binary_accuracy: 0.8787 - f1_score: 0.9245 - val_loss: 0.4457 - val_binary_accuracy: 0.8350 - val_f1_score: 0.8990\n",
      "Epoch 27/30\n",
      "102/102 [==============================] - 42s 408ms/step - loss: 0.2937 - binary_accuracy: 0.8724 - f1_score: 0.9208 - val_loss: 0.3902 - val_binary_accuracy: 0.8406 - val_f1_score: 0.9035\n",
      "Epoch 28/30\n",
      "102/102 [==============================] - 42s 408ms/step - loss: 0.2881 - binary_accuracy: 0.8676 - f1_score: 0.9174 - val_loss: 0.4529 - val_binary_accuracy: 0.8406 - val_f1_score: 0.9036\n",
      "Epoch 29/30\n",
      "102/102 [==============================] - 41s 407ms/step - loss: 0.2905 - binary_accuracy: 0.8742 - f1_score: 0.9217 - val_loss: 0.3867 - val_binary_accuracy: 0.8336 - val_f1_score: 0.8961\n",
      "Epoch 30/30\n",
      "102/102 [==============================] - 42s 416ms/step - loss: 0.2953 - binary_accuracy: 0.8677 - f1_score: 0.9172 - val_loss: 0.4351 - val_binary_accuracy: 0.8014 - val_f1_score: 0.8725\n",
      "All file transfers done!\n",
      "Found 3255 images belonging to 2 classes.\n",
      "Found 714 images belonging to 2 classes.\n",
      "Epoch 1/30\n",
      "102/102 [==============================] - 46s 447ms/step - loss: 0.3068 - binary_accuracy: 0.8605 - f1_score: 0.9141 - val_loss: 0.4359 - val_binary_accuracy: 0.8193 - val_f1_score: 0.8884\n",
      "Epoch 2/30\n",
      "102/102 [==============================] - 42s 407ms/step - loss: 0.2953 - binary_accuracy: 0.8732 - f1_score: 0.9208 - val_loss: 0.3974 - val_binary_accuracy: 0.8277 - val_f1_score: 0.8963\n",
      "Epoch 3/30\n",
      "102/102 [==============================] - 41s 402ms/step - loss: 0.2954 - binary_accuracy: 0.8629 - f1_score: 0.9149 - val_loss: 0.4089 - val_binary_accuracy: 0.8333 - val_f1_score: 0.8979\n",
      "Epoch 4/30\n",
      "102/102 [==============================] - 42s 416ms/step - loss: 0.2941 - binary_accuracy: 0.8725 - f1_score: 0.9211 - val_loss: 0.4504 - val_binary_accuracy: 0.8277 - val_f1_score: 0.8955\n",
      "Epoch 5/30\n",
      "102/102 [==============================] - 42s 414ms/step - loss: 0.2947 - binary_accuracy: 0.8733 - f1_score: 0.9215 - val_loss: 0.4704 - val_binary_accuracy: 0.8291 - val_f1_score: 0.8972\n",
      "Epoch 6/30\n",
      "102/102 [==============================] - 42s 410ms/step - loss: 0.2882 - binary_accuracy: 0.8763 - f1_score: 0.9229 - val_loss: 0.4480 - val_binary_accuracy: 0.8347 - val_f1_score: 0.9010\n",
      "Epoch 7/30\n",
      "102/102 [==============================] - 44s 431ms/step - loss: 0.3063 - binary_accuracy: 0.8705 - f1_score: 0.9201 - val_loss: 0.4404 - val_binary_accuracy: 0.8263 - val_f1_score: 0.8911\n",
      "Epoch 8/30\n",
      "102/102 [==============================] - 42s 407ms/step - loss: 0.2899 - binary_accuracy: 0.8695 - f1_score: 0.9193 - val_loss: 0.4533 - val_binary_accuracy: 0.8249 - val_f1_score: 0.8922\n",
      "Epoch 9/30\n",
      "102/102 [==============================] - 42s 411ms/step - loss: 0.2892 - binary_accuracy: 0.8663 - f1_score: 0.9171 - val_loss: 0.4756 - val_binary_accuracy: 0.8277 - val_f1_score: 0.8958\n",
      "Epoch 10/30\n",
      "102/102 [==============================] - 42s 411ms/step - loss: 0.2855 - binary_accuracy: 0.8732 - f1_score: 0.9211 - val_loss: 0.4520 - val_binary_accuracy: 0.8151 - val_f1_score: 0.8852\n",
      "Epoch 11/30\n",
      "102/102 [==============================] - 43s 422ms/step - loss: 0.2837 - binary_accuracy: 0.8788 - f1_score: 0.9239 - val_loss: 0.4866 - val_binary_accuracy: 0.8109 - val_f1_score: 0.8793\n",
      "Epoch 12/30\n",
      "102/102 [==============================] - 41s 405ms/step - loss: 0.3015 - binary_accuracy: 0.8686 - f1_score: 0.9177 - val_loss: 0.4303 - val_binary_accuracy: 0.8151 - val_f1_score: 0.8875\n",
      "Epoch 13/30\n",
      "102/102 [==============================] - 42s 414ms/step - loss: 0.2759 - binary_accuracy: 0.8778 - f1_score: 0.9237 - val_loss: 0.4540 - val_binary_accuracy: 0.8095 - val_f1_score: 0.8814\n",
      "Epoch 14/30\n",
      "102/102 [==============================] - 42s 410ms/step - loss: 0.2921 - binary_accuracy: 0.8683 - f1_score: 0.9179 - val_loss: 0.5143 - val_binary_accuracy: 0.8095 - val_f1_score: 0.8813\n",
      "Epoch 15/30\n",
      "102/102 [==============================] - 41s 403ms/step - loss: 0.2824 - binary_accuracy: 0.8705 - f1_score: 0.9199 - val_loss: 0.4747 - val_binary_accuracy: 0.8081 - val_f1_score: 0.8835\n",
      "Epoch 16/30\n",
      "102/102 [==============================] - 41s 407ms/step - loss: 0.2813 - binary_accuracy: 0.8810 - f1_score: 0.9257 - val_loss: 0.3822 - val_binary_accuracy: 0.8431 - val_f1_score: 0.9052\n",
      "Epoch 17/30\n",
      "102/102 [==============================] - 42s 415ms/step - loss: 0.2830 - binary_accuracy: 0.8715 - f1_score: 0.9199 - val_loss: 0.4187 - val_binary_accuracy: 0.8179 - val_f1_score: 0.8860\n",
      "Epoch 18/30\n",
      "102/102 [==============================] - 42s 413ms/step - loss: 0.2845 - binary_accuracy: 0.8768 - f1_score: 0.9238 - val_loss: 0.4183 - val_binary_accuracy: 0.8487 - val_f1_score: 0.9086\n",
      "Epoch 19/30\n",
      "102/102 [==============================] - 44s 431ms/step - loss: 0.2727 - binary_accuracy: 0.8815 - f1_score: 0.9259 - val_loss: 0.4746 - val_binary_accuracy: 0.8445 - val_f1_score: 0.9060\n",
      "Epoch 20/30\n",
      "102/102 [==============================] - 41s 405ms/step - loss: 0.2820 - binary_accuracy: 0.8792 - f1_score: 0.9245 - val_loss: 0.5053 - val_binary_accuracy: 0.8249 - val_f1_score: 0.8930\n",
      "Epoch 21/30\n",
      "102/102 [==============================] - 42s 407ms/step - loss: 0.2821 - binary_accuracy: 0.8729 - f1_score: 0.9206 - val_loss: 0.5219 - val_binary_accuracy: 0.8361 - val_f1_score: 0.9017\n",
      "Epoch 22/30\n",
      "102/102 [==============================] - 41s 403ms/step - loss: 0.2843 - binary_accuracy: 0.8776 - f1_score: 0.9241 - val_loss: 0.4082 - val_binary_accuracy: 0.8263 - val_f1_score: 0.8938\n",
      "Epoch 23/30\n",
      "102/102 [==============================] - 42s 413ms/step - loss: 0.2731 - binary_accuracy: 0.8798 - f1_score: 0.9251 - val_loss: 0.4977 - val_binary_accuracy: 0.8305 - val_f1_score: 0.8992\n",
      "Epoch 24/30\n",
      "102/102 [==============================] - 41s 406ms/step - loss: 0.2799 - binary_accuracy: 0.8798 - f1_score: 0.9258 - val_loss: 0.4453 - val_binary_accuracy: 0.8249 - val_f1_score: 0.8926\n",
      "Epoch 25/30\n",
      "102/102 [==============================] - 42s 415ms/step - loss: 0.2667 - binary_accuracy: 0.8855 - f1_score: 0.9283 - val_loss: 0.4839 - val_binary_accuracy: 0.8067 - val_f1_score: 0.8751\n",
      "Epoch 26/30\n",
      "102/102 [==============================] - 43s 418ms/step - loss: 0.2626 - binary_accuracy: 0.8833 - f1_score: 0.9273 - val_loss: 0.4198 - val_binary_accuracy: 0.8263 - val_f1_score: 0.8897\n",
      "Epoch 27/30\n",
      "102/102 [==============================] - 42s 408ms/step - loss: 0.2733 - binary_accuracy: 0.8757 - f1_score: 0.9221 - val_loss: 0.3743 - val_binary_accuracy: 0.8333 - val_f1_score: 0.8960\n",
      "Epoch 28/30\n",
      "102/102 [==============================] - 43s 417ms/step - loss: 0.2728 - binary_accuracy: 0.8832 - f1_score: 0.9273 - val_loss: 0.4591 - val_binary_accuracy: 0.8193 - val_f1_score: 0.8870\n",
      "Epoch 29/30\n",
      "102/102 [==============================] - 42s 411ms/step - loss: 0.2733 - binary_accuracy: 0.8849 - f1_score: 0.9275 - val_loss: 0.4454 - val_binary_accuracy: 0.8095 - val_f1_score: 0.8796\n",
      "Epoch 30/30\n",
      "102/102 [==============================] - 41s 406ms/step - loss: 0.2765 - binary_accuracy: 0.8763 - f1_score: 0.9227 - val_loss: 0.5236 - val_binary_accuracy: 0.7871 - val_f1_score: 0.8620\n",
      "All file transfers done!\n",
      "Found 3254 images belonging to 2 classes.\n",
      "Found 715 images belonging to 2 classes.\n",
      "Epoch 1/30\n",
      "102/102 [==============================] - 46s 448ms/step - loss: 0.2857 - binary_accuracy: 0.8734 - f1_score: 0.9211 - val_loss: 0.4019 - val_binary_accuracy: 0.8336 - val_f1_score: 0.8919\n",
      "Epoch 2/30\n",
      "102/102 [==============================] - 42s 407ms/step - loss: 0.2794 - binary_accuracy: 0.8776 - f1_score: 0.9239 - val_loss: 0.4112 - val_binary_accuracy: 0.8531 - val_f1_score: 0.9121\n",
      "Epoch 3/30\n",
      "102/102 [==============================] - 42s 409ms/step - loss: 0.2775 - binary_accuracy: 0.8769 - f1_score: 0.9235 - val_loss: 0.3470 - val_binary_accuracy: 0.8629 - val_f1_score: 0.9154\n",
      "Epoch 4/30\n",
      "102/102 [==============================] - 41s 404ms/step - loss: 0.2788 - binary_accuracy: 0.8770 - f1_score: 0.9221 - val_loss: 0.4346 - val_binary_accuracy: 0.8420 - val_f1_score: 0.9041\n",
      "Epoch 5/30\n",
      "102/102 [==============================] - 42s 412ms/step - loss: 0.2797 - binary_accuracy: 0.8861 - f1_score: 0.9293 - val_loss: 0.3492 - val_binary_accuracy: 0.8727 - val_f1_score: 0.9224\n",
      "Epoch 6/30\n",
      "102/102 [==============================] - 42s 408ms/step - loss: 0.2782 - binary_accuracy: 0.8761 - f1_score: 0.9228 - val_loss: 0.3769 - val_binary_accuracy: 0.8406 - val_f1_score: 0.8995\n",
      "Epoch 7/30\n",
      "102/102 [==============================] - 41s 403ms/step - loss: 0.2711 - binary_accuracy: 0.8876 - f1_score: 0.9298 - val_loss: 0.3718 - val_binary_accuracy: 0.8559 - val_f1_score: 0.9109\n",
      "Epoch 8/30\n",
      "102/102 [==============================] - 42s 409ms/step - loss: 0.2754 - binary_accuracy: 0.8757 - f1_score: 0.9222 - val_loss: 0.3581 - val_binary_accuracy: 0.8573 - val_f1_score: 0.9130\n",
      "Epoch 9/30\n",
      "102/102 [==============================] - 41s 402ms/step - loss: 0.2720 - binary_accuracy: 0.8835 - f1_score: 0.9274 - val_loss: 0.4071 - val_binary_accuracy: 0.8601 - val_f1_score: 0.9160\n",
      "Epoch 10/30\n",
      "102/102 [==============================] - 41s 406ms/step - loss: 0.2700 - binary_accuracy: 0.8736 - f1_score: 0.9215 - val_loss: 0.3529 - val_binary_accuracy: 0.8559 - val_f1_score: 0.9114\n",
      "Epoch 11/30\n",
      "102/102 [==============================] - 41s 404ms/step - loss: 0.2683 - binary_accuracy: 0.8829 - f1_score: 0.9264 - val_loss: 0.3538 - val_binary_accuracy: 0.8615 - val_f1_score: 0.9159\n",
      "Epoch 12/30\n",
      "102/102 [==============================] - 42s 410ms/step - loss: 0.2635 - binary_accuracy: 0.8874 - f1_score: 0.9296 - val_loss: 0.3884 - val_binary_accuracy: 0.8615 - val_f1_score: 0.9170\n",
      "Epoch 13/30\n",
      "102/102 [==============================] - 41s 406ms/step - loss: 0.2654 - binary_accuracy: 0.8825 - f1_score: 0.9267 - val_loss: 0.5212 - val_binary_accuracy: 0.8517 - val_f1_score: 0.9111\n",
      "Epoch 14/30\n",
      "102/102 [==============================] - 42s 414ms/step - loss: 0.2602 - binary_accuracy: 0.8891 - f1_score: 0.9300 - val_loss: 0.3571 - val_binary_accuracy: 0.8727 - val_f1_score: 0.9205\n",
      "Epoch 15/30\n",
      "102/102 [==============================] - 42s 409ms/step - loss: 0.2688 - binary_accuracy: 0.8804 - f1_score: 0.9252 - val_loss: 0.4267 - val_binary_accuracy: 0.8434 - val_f1_score: 0.9070\n",
      "Epoch 16/30\n",
      "102/102 [==============================] - 42s 415ms/step - loss: 0.2571 - binary_accuracy: 0.8905 - f1_score: 0.9320 - val_loss: 0.4546 - val_binary_accuracy: 0.8350 - val_f1_score: 0.8972\n",
      "Epoch 17/30\n",
      "102/102 [==============================] - 43s 423ms/step - loss: 0.2604 - binary_accuracy: 0.8884 - f1_score: 0.9299 - val_loss: 0.4271 - val_binary_accuracy: 0.8378 - val_f1_score: 0.9019\n",
      "Epoch 18/30\n",
      "102/102 [==============================] - 42s 409ms/step - loss: 0.2588 - binary_accuracy: 0.8905 - f1_score: 0.9318 - val_loss: 0.5178 - val_binary_accuracy: 0.8545 - val_f1_score: 0.9136\n",
      "Epoch 19/30\n",
      "102/102 [==============================] - 41s 407ms/step - loss: 0.2726 - binary_accuracy: 0.8844 - f1_score: 0.9273 - val_loss: 0.5418 - val_binary_accuracy: 0.8322 - val_f1_score: 0.9017\n",
      "Epoch 20/30\n",
      "102/102 [==============================] - 41s 406ms/step - loss: 0.2622 - binary_accuracy: 0.8910 - f1_score: 0.9319 - val_loss: 0.3858 - val_binary_accuracy: 0.8503 - val_f1_score: 0.9083\n",
      "Epoch 21/30\n",
      "102/102 [==============================] - 41s 404ms/step - loss: 0.2586 - binary_accuracy: 0.8868 - f1_score: 0.9301 - val_loss: 0.4971 - val_binary_accuracy: 0.8601 - val_f1_score: 0.9158\n",
      "Epoch 22/30\n",
      "102/102 [==============================] - 41s 405ms/step - loss: 0.2647 - binary_accuracy: 0.8887 - f1_score: 0.9314 - val_loss: 0.4402 - val_binary_accuracy: 0.8476 - val_f1_score: 0.9062\n",
      "Epoch 23/30\n",
      "102/102 [==============================] - 41s 407ms/step - loss: 0.2676 - binary_accuracy: 0.8836 - f1_score: 0.9273 - val_loss: 0.4985 - val_binary_accuracy: 0.8420 - val_f1_score: 0.9058\n",
      "Epoch 24/30\n",
      "102/102 [==============================] - 41s 402ms/step - loss: 0.2561 - binary_accuracy: 0.8894 - f1_score: 0.9308 - val_loss: 0.3894 - val_binary_accuracy: 0.8503 - val_f1_score: 0.9085\n",
      "Epoch 25/30\n",
      "102/102 [==============================] - 41s 406ms/step - loss: 0.2719 - binary_accuracy: 0.8925 - f1_score: 0.9329 - val_loss: 0.3974 - val_binary_accuracy: 0.8294 - val_f1_score: 0.8959\n",
      "Epoch 26/30\n",
      "102/102 [==============================] - 42s 412ms/step - loss: 0.2522 - binary_accuracy: 0.8917 - f1_score: 0.9318 - val_loss: 0.5142 - val_binary_accuracy: 0.8406 - val_f1_score: 0.9041\n",
      "Epoch 27/30\n",
      "102/102 [==============================] - 41s 405ms/step - loss: 0.2562 - binary_accuracy: 0.8842 - f1_score: 0.9273 - val_loss: 0.4029 - val_binary_accuracy: 0.8476 - val_f1_score: 0.9065\n",
      "Epoch 28/30\n",
      "102/102 [==============================] - 42s 411ms/step - loss: 0.2487 - binary_accuracy: 0.8934 - f1_score: 0.9332 - val_loss: 0.4794 - val_binary_accuracy: 0.8476 - val_f1_score: 0.9097\n",
      "Epoch 29/30\n",
      "102/102 [==============================] - 43s 421ms/step - loss: 0.2544 - binary_accuracy: 0.8871 - f1_score: 0.9293 - val_loss: 0.4574 - val_binary_accuracy: 0.8476 - val_f1_score: 0.9098\n",
      "Epoch 30/30\n",
      "102/102 [==============================] - 41s 406ms/step - loss: 0.2455 - binary_accuracy: 0.8922 - f1_score: 0.9321 - val_loss: 0.4164 - val_binary_accuracy: 0.8615 - val_f1_score: 0.9117\n"
     ]
    }
   ],
   "source": [
    "# Hyper-parameter for k-Fold\n",
    "splits = 5\n",
    "\n",
    "\n",
    "for i in range(splits):\n",
    "    try:\n",
    "        shutil.rmtree('dataset/train_set')\n",
    "    except:\n",
    "        print('No train set')\n",
    "    try:\n",
    "        shutil.rmtree('dataset/val_set')\n",
    "    except:\n",
    "        print('No val set')\n",
    "    try:\n",
    "        shutil.rmtree('dataset/test_set')\n",
    "    except:\n",
    "        print('No test set')\n",
    "    \n",
    "    make_k_folders(i,splits)\n",
    "    \n",
    "    train_datagen = ImageDataGenerator(\n",
    "    rescale=1./255,\n",
    "    rotation_range=40,\n",
    "    width_shift_range=0.2,\n",
    "    height_shift_range=0.2,\n",
    "    shear_range=0.2,\n",
    "    zoom_range=0.2,\n",
    "    horizontal_flip=True,\n",
    "    fill_mode='nearest')\n",
    "\n",
    "    val_datagen = ImageDataGenerator(\n",
    "    rescale=1./255,\n",
    "    rotation_range=40,\n",
    "    width_shift_range=0.2,\n",
    "    height_shift_range=0.2,\n",
    "    shear_range=0.2,\n",
    "    zoom_range=0.2,\n",
    "    horizontal_flip=True,\n",
    "    fill_mode='nearest')\n",
    "    \n",
    "    trgt_train_dir = 'dataset/train_set'\n",
    "    trgt_val_dir = 'dataset/val_set'\n",
    "\n",
    "    train_generator = train_datagen.flow_from_directory(\n",
    "    trgt_train_dir,\n",
    "    target_size=(200,200),\n",
    "    batch_size=batch_size,\n",
    "    class_mode='binary')\n",
    "\n",
    "    validation_generator = val_datagen.flow_from_directory(\n",
    "    trgt_val_dir,\n",
    "    target_size=(200,200),\n",
    "    batch_size=batch_size,\n",
    "    class_mode='binary')\n",
    "    \n",
    "    history = model.fit_generator(\n",
    "    train_generator,\n",
    "    epochs=epochs,\n",
    "    validation_data=validation_generator)  \n"
   ]
  },
  {
   "cell_type": "code",
   "execution_count": 76,
   "metadata": {
    "collapsed": true
   },
   "outputs": [],
   "source": [
    "model.save('pd_v1.h5')"
   ]
  },
  {
   "cell_type": "markdown",
   "metadata": {},
   "source": [
    "Accuracy and loss is plotted only for last epoch."
   ]
  },
  {
   "cell_type": "code",
   "execution_count": 79,
   "metadata": {},
   "outputs": [
    {
     "data": {
      "image/png": "[encoded data removed]",
      "text/plain": [
       "<Figure size 432x288 with 1 Axes>"
      ]
     },
     "metadata": {},
     "output_type": "display_data"
    },
    {
     "data": {
      "image/png": "[encoded data removed]",
      "text/plain": [
       "<Figure size 432x288 with 1 Axes>"
      ]
     },
     "metadata": {},
     "output_type": "display_data"
    }
   ],
   "source": [
    "acc = history.history['binary_accuracy']\n",
    "val_acc = history.history['val_binary_accuracy']\n",
    "loss = history.history['loss']\n",
    "val_loss = history.history['val_loss']\n",
    "epochs = range(1, len(acc) + 1)\n",
    "plt.plot(epochs, acc, 'bo', label='Training acc')\n",
    "plt.plot(epochs, val_acc, 'b', label='Validation acc')\n",
    "plt.title('Training and validation accuracy')\n",
    "plt.legend()\n",
    "plt.figure()\n",
    "plt.plot(epochs, loss, 'bo', label='Training loss')\n",
    "plt.plot(epochs, val_loss, 'b', label='Validation loss')\n",
    "plt.title('Training and validation loss')\n",
    "plt.legend()\n",
    "plt.show()"
   ]
  },
  {
   "cell_type": "markdown",
   "metadata": {},
   "source": [
    "### Prediction for Test Set and AUC-ROC Score"
   ]
  },
  {
   "cell_type": "code",
   "execution_count": 97,
   "metadata": {
    "collapsed": true
   },
   "outputs": [],
   "source": [
    "test_list_0s = [f for f in os.listdir('dataset/test_set/0')]\n",
    "test_list_1s = [f for f in os.listdir('dataset/test_set/1')]"
   ]
  },
  {
   "cell_type": "code",
   "execution_count": 98,
   "metadata": {},
   "outputs": [
    {
     "data": {
      "text/html": [
       "<div>\n",
       "<style scoped>\n",
       "    .dataframe tbody tr th:only-of-type {\n",
       "        vertical-align: middle;\n",
       "    }\n",
       "\n",
       "    .dataframe tbody tr th {\n",
       "        vertical-align: top;\n",
       "    }\n",
       "\n",
       "    .dataframe thead th {\n",
       "        text-align: right;\n",
       "    }\n",
       "</style>\n",
       "<table border=\"1\" class=\"dataframe\">\n",
       "  <thead>\n",
       "    <tr style=\"text-align: right;\">\n",
       "      <th></th>\n",
       "      <th>image</th>\n",
       "      <th>y_true</th>\n",
       "      <th>y_predict</th>\n",
       "    </tr>\n",
       "  </thead>\n",
       "  <tbody>\n",
       "    <tr>\n",
       "      <th>0</th>\n",
       "      <td>0</td>\n",
       "      <td>0</td>\n",
       "      <td>0</td>\n",
       "    </tr>\n",
       "    <tr>\n",
       "      <th>1</th>\n",
       "      <td>0</td>\n",
       "      <td>0</td>\n",
       "      <td>0</td>\n",
       "    </tr>\n",
       "    <tr>\n",
       "      <th>2</th>\n",
       "      <td>0</td>\n",
       "      <td>0</td>\n",
       "      <td>0</td>\n",
       "    </tr>\n",
       "    <tr>\n",
       "      <th>3</th>\n",
       "      <td>0</td>\n",
       "      <td>0</td>\n",
       "      <td>0</td>\n",
       "    </tr>\n",
       "    <tr>\n",
       "      <th>4</th>\n",
       "      <td>0</td>\n",
       "      <td>0</td>\n",
       "      <td>0</td>\n",
       "    </tr>\n",
       "  </tbody>\n",
       "</table>\n",
       "</div>"
      ],
      "text/plain": [
       "   image  y_true  y_predict\n",
       "0      0       0          0\n",
       "1      0       0          0\n",
       "2      0       0          0\n",
       "3      0       0          0\n",
       "4      0       0          0"
      ]
     },
     "execution_count": 98,
     "metadata": {},
     "output_type": "execute_result"
    }
   ],
   "source": [
    "test_df = pd.DataFrame(0, index = np.arange(len(test_list_0s) + len(test_list_1s)), columns=['image','y_true','y_predict'])\n",
    "test_df.head()"
   ]
  },
  {
   "cell_type": "code",
   "execution_count": 99,
   "metadata": {
    "collapsed": true
   },
   "outputs": [],
   "source": [
    "test_df.image = test_list_0s + test_list_1s\n",
    "for i, row in test_df.iterrows():\n",
    "    if row.image in test_list_0s:\n",
    "        test_df.at[i, 'y_true'] = 0\n",
    "    else:\n",
    "        test_df.at[i, 'y_true'] = 1"
   ]
  },
  {
   "cell_type": "code",
   "execution_count": 100,
   "metadata": {
    "collapsed": true
   },
   "outputs": [],
   "source": [
    "for i, row in test_df.iterrows():\n",
    "    if row.y_true == 0:\n",
    "        img_path = os.path.join('dataset/test_set/0/' + str(row.image))\n",
    "    else:\n",
    "        img_path = os.path.join('dataset/test_set/1/' + str(row.image))\n",
    "    \n",
    "    img = image.load_img(img_path, target_size=(200, 200))\n",
    "    img_tensor = image.img_to_array(img)                    \n",
    "    img_tensor = np.expand_dims(img_tensor, axis=0)         \n",
    "    img_tensor /= 255.\n",
    "    pred = model.predict_classes(img_tensor)\n",
    "    test_df.at[i, 'y_predict'] = pred"
   ]
  },
  {
   "cell_type": "markdown",
   "metadata": {},
   "source": [
    "#### Scores on test set without data augmentation\n",
    "The following blocks show scores for test set on metrics such as roc-auc, f1-score, accuracy"
   ]
  },
  {
   "cell_type": "code",
   "execution_count": 101,
   "metadata": {
    "scrolled": true
   },
   "outputs": [
    {
     "data": {
      "text/plain": [
       "0.7542359915853891"
      ]
     },
     "execution_count": 101,
     "metadata": {},
     "output_type": "execute_result"
    }
   ],
   "source": [
    "roc_auc_score(test_df.y_true, test_df.y_predict)"
   ]
  },
  {
   "cell_type": "code",
   "execution_count": 110,
   "metadata": {},
   "outputs": [
    {
     "data": {
      "text/plain": [
       "0.911353032659409"
      ]
     },
     "execution_count": 110,
     "metadata": {},
     "output_type": "execute_result"
    }
   ],
   "source": [
    "f1_score(test_df.y_true, test_df.y_predict)"
   ]
  },
  {
   "cell_type": "code",
   "execution_count": 111,
   "metadata": {},
   "outputs": [
    {
     "data": {
      "text/plain": [
       "0.8567839195979899"
      ]
     },
     "execution_count": 111,
     "metadata": {},
     "output_type": "execute_result"
    }
   ],
   "source": [
    "accuracy_score(test_df.y_true, test_df.y_predict)"
   ]
  },
  {
   "cell_type": "markdown",
   "metadata": {},
   "source": [
    "### Predict for Test"
   ]
  },
  {
   "cell_type": "code",
   "execution_count": 112,
   "metadata": {
    "collapsed": true
   },
   "outputs": [],
   "source": [
    "test_files = [f for f in os.listdir('dataset/images/test')]\n",
    "submit_df = pd.DataFrame(0, index=np.arange(len(test_files)), columns=['id','genus'])"
   ]
  },
  {
   "cell_type": "code",
   "execution_count": 113,
   "metadata": {
    "collapsed": true
   },
   "outputs": [],
   "source": [
    "submit_df.id = test_files"
   ]
  },
  {
   "cell_type": "code",
   "execution_count": 114,
   "metadata": {
    "collapsed": true,
    "scrolled": true
   },
   "outputs": [],
   "source": [
    "for i,row in submit_df.iterrows():\n",
    "    img_path = os.path.join('dataset/images/test/' + str(row.id))    \n",
    "    img = image.load_img(img_path, target_size=(200, 200))\n",
    "    img_tensor = image.img_to_array(img)                    \n",
    "    img_tensor = np.expand_dims(img_tensor, axis=0)         \n",
    "    img_tensor /= 255.\n",
    "    pred = model.predict_classes(img_tensor)\n",
    "    submit_df.at[i,'genus'] = pred"
   ]
  },
  {
   "cell_type": "code",
   "execution_count": 115,
   "metadata": {
    "collapsed": true
   },
   "outputs": [],
   "source": [
    "for i, row in submit_df.iterrows():\n",
    "    submit_df.at[i,'id'] = row.id.split('.')[0]"
   ]
  },
  {
   "cell_type": "code",
   "execution_count": 116,
   "metadata": {
    "collapsed": true,
    "scrolled": true
   },
   "outputs": [],
   "source": [
    "submit_df.to_csv('submission.csv', index=False)"
   ]
  },
  {
   "cell_type": "code",
   "execution_count": 118,
   "metadata": {},
   "outputs": [
    {
     "data": {
      "text/plain": [
       "1    838\n",
       "0    154\n",
       "Name: genus, dtype: int64"
      ]
     },
     "execution_count": 118,
     "metadata": {},
     "output_type": "execute_result"
    }
   ],
   "source": [
    "submit_df.genus.value_counts()"
   ]
  },
  {
   "cell_type": "markdown",
   "metadata": {},
   "source": [
    "The only think we can infer after looking at the test data predictions is that the classes retain similar ratio to that of train data.\n",
    "\n",
    "### Conclusion\n",
    "There are several things that can be done to improve accuracy.\n",
    "\n",
    "*** Hyperparameter tuning*** \n",
    "\n",
    "*** Ensembling ***\n",
    "\n",
    "I will conclude here because my AWS bills are going a bit high side."
   ]
  }
 ],
 "metadata": {
  "kernelspec": {
   "display_name": "Python 3",
   "language": "python",
   "name": "python3"
  },
  "language_info": {
   "codemirror_mode": {
    "name": "ipython",
    "version": 3
   },
   "file_extension": ".py",
   "mimetype": "text/x-python",
   "name": "python",
   "nbconvert_exporter": "python",
   "pygments_lexer": "ipython3",
   "version": "3.6.3"
  }
 },
 "nbformat": 4,
 "nbformat_minor": 2
}
