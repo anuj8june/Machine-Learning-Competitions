{
 "cells": [
  {
   "cell_type": "code",
   "execution_count": 14,
   "metadata": {
    "collapsed": true
   },
   "outputs": [],
   "source": [
    "import pandas as pd\n",
    "import numpy as np\n",
    "\n",
    "from sklearn.model_selection import ParameterGrid\n",
    "from sklearn.metrics import mean_absolute_error\n",
    "from sklearn.model_selection import train_test_split\n",
    "from sklearn.model_selection import GridSearchCV\n",
    "from sklearn.metrics import make_scorer\n",
    "\n",
    "from sklearn.ensemble import RandomForestRegressor\n",
    "from sklearn.neural_network import MLPRegressor"
   ]
  },
  {
   "cell_type": "code",
   "execution_count": 10,
   "metadata": {},
   "outputs": [
    {
     "data": {
      "text/html": [
       "<div>\n",
       "<style>\n",
       "    .dataframe thead tr:only-child th {\n",
       "        text-align: right;\n",
       "    }\n",
       "\n",
       "    .dataframe thead th {\n",
       "        text-align: left;\n",
       "    }\n",
       "\n",
       "    .dataframe tbody tr th {\n",
       "        vertical-align: top;\n",
       "    }\n",
       "</style>\n",
       "<table border=\"1\" class=\"dataframe\">\n",
       "  <thead>\n",
       "    <tr style=\"text-align: right;\">\n",
       "      <th></th>\n",
       "      <th>item_condition_id</th>\n",
       "      <th>price</th>\n",
       "      <th>shipping</th>\n",
       "      <th>brand_mean_price</th>\n",
       "      <th>brand_std_dev</th>\n",
       "      <th>branded</th>\n",
       "      <th>upper_price_limit</th>\n",
       "      <th>lower_price_limit</th>\n",
       "    </tr>\n",
       "  </thead>\n",
       "  <tbody>\n",
       "    <tr>\n",
       "      <th>0</th>\n",
       "      <td>3</td>\n",
       "      <td>10.0</td>\n",
       "      <td>1</td>\n",
       "      <td>21.133453</td>\n",
       "      <td>27.361260</td>\n",
       "      <td>0</td>\n",
       "      <td>48.494714</td>\n",
       "      <td>6.227807</td>\n",
       "    </tr>\n",
       "    <tr>\n",
       "      <th>1</th>\n",
       "      <td>3</td>\n",
       "      <td>52.0</td>\n",
       "      <td>0</td>\n",
       "      <td>45.021277</td>\n",
       "      <td>26.420902</td>\n",
       "      <td>1</td>\n",
       "      <td>71.442179</td>\n",
       "      <td>18.600375</td>\n",
       "    </tr>\n",
       "    <tr>\n",
       "      <th>2</th>\n",
       "      <td>1</td>\n",
       "      <td>10.0</td>\n",
       "      <td>1</td>\n",
       "      <td>15.047109</td>\n",
       "      <td>10.483385</td>\n",
       "      <td>1</td>\n",
       "      <td>25.530495</td>\n",
       "      <td>4.563724</td>\n",
       "    </tr>\n",
       "    <tr>\n",
       "      <th>3</th>\n",
       "      <td>1</td>\n",
       "      <td>35.0</td>\n",
       "      <td>1</td>\n",
       "      <td>21.133453</td>\n",
       "      <td>27.361260</td>\n",
       "      <td>0</td>\n",
       "      <td>48.494714</td>\n",
       "      <td>6.227807</td>\n",
       "    </tr>\n",
       "    <tr>\n",
       "      <th>4</th>\n",
       "      <td>1</td>\n",
       "      <td>44.0</td>\n",
       "      <td>0</td>\n",
       "      <td>21.133453</td>\n",
       "      <td>27.361260</td>\n",
       "      <td>0</td>\n",
       "      <td>48.494714</td>\n",
       "      <td>6.227807</td>\n",
       "    </tr>\n",
       "  </tbody>\n",
       "</table>\n",
       "</div>"
      ],
      "text/plain": [
       "   item_condition_id  price  shipping  brand_mean_price  brand_std_dev  \\\n",
       "0                  3   10.0         1         21.133453      27.361260   \n",
       "1                  3   52.0         0         45.021277      26.420902   \n",
       "2                  1   10.0         1         15.047109      10.483385   \n",
       "3                  1   35.0         1         21.133453      27.361260   \n",
       "4                  1   44.0         0         21.133453      27.361260   \n",
       "\n",
       "   branded  upper_price_limit  lower_price_limit  \n",
       "0        0          48.494714           6.227807  \n",
       "1        1          71.442179          18.600375  \n",
       "2        1          25.530495           4.563724  \n",
       "3        0          48.494714           6.227807  \n",
       "4        0          48.494714           6.227807  "
      ]
     },
     "execution_count": 10,
     "metadata": {},
     "output_type": "execute_result"
    }
   ],
   "source": [
    "train_price = pd.read_csv('train_price.csv')\n",
    "train_price.head()"
   ]
  },
  {
   "cell_type": "code",
   "execution_count": 62,
   "metadata": {},
   "outputs": [
    {
     "data": {
      "text/html": [
       "<div>\n",
       "<style>\n",
       "    .dataframe thead tr:only-child th {\n",
       "        text-align: right;\n",
       "    }\n",
       "\n",
       "    .dataframe thead th {\n",
       "        text-align: left;\n",
       "    }\n",
       "\n",
       "    .dataframe tbody tr th {\n",
       "        vertical-align: top;\n",
       "    }\n",
       "</style>\n",
       "<table border=\"1\" class=\"dataframe\">\n",
       "  <thead>\n",
       "    <tr style=\"text-align: right;\">\n",
       "      <th></th>\n",
       "      <th>item_condition_id</th>\n",
       "      <th>shipping</th>\n",
       "      <th>brand_mean_price</th>\n",
       "      <th>brand_std_dev</th>\n",
       "      <th>branded</th>\n",
       "      <th>upper_price_limit</th>\n",
       "      <th>lower_price_limit</th>\n",
       "    </tr>\n",
       "  </thead>\n",
       "  <tbody>\n",
       "    <tr>\n",
       "      <th>0</th>\n",
       "      <td>1</td>\n",
       "      <td>1</td>\n",
       "      <td>21.133453</td>\n",
       "      <td>27.36126</td>\n",
       "      <td>0</td>\n",
       "      <td>48.494714</td>\n",
       "      <td>6.227807</td>\n",
       "    </tr>\n",
       "    <tr>\n",
       "      <th>1</th>\n",
       "      <td>1</td>\n",
       "      <td>1</td>\n",
       "      <td>21.133453</td>\n",
       "      <td>27.36126</td>\n",
       "      <td>0</td>\n",
       "      <td>48.494714</td>\n",
       "      <td>6.227807</td>\n",
       "    </tr>\n",
       "    <tr>\n",
       "      <th>2</th>\n",
       "      <td>1</td>\n",
       "      <td>1</td>\n",
       "      <td>41.142550</td>\n",
       "      <td>36.52768</td>\n",
       "      <td>1</td>\n",
       "      <td>77.670230</td>\n",
       "      <td>4.614870</td>\n",
       "    </tr>\n",
       "    <tr>\n",
       "      <th>3</th>\n",
       "      <td>2</td>\n",
       "      <td>0</td>\n",
       "      <td>21.133453</td>\n",
       "      <td>27.36126</td>\n",
       "      <td>0</td>\n",
       "      <td>48.494714</td>\n",
       "      <td>6.227807</td>\n",
       "    </tr>\n",
       "    <tr>\n",
       "      <th>4</th>\n",
       "      <td>3</td>\n",
       "      <td>1</td>\n",
       "      <td>21.133453</td>\n",
       "      <td>27.36126</td>\n",
       "      <td>0</td>\n",
       "      <td>48.494714</td>\n",
       "      <td>6.227807</td>\n",
       "    </tr>\n",
       "  </tbody>\n",
       "</table>\n",
       "</div>"
      ],
      "text/plain": [
       "   item_condition_id  shipping  brand_mean_price  brand_std_dev  branded  \\\n",
       "0                  1         1         21.133453       27.36126        0   \n",
       "1                  1         1         21.133453       27.36126        0   \n",
       "2                  1         1         41.142550       36.52768        1   \n",
       "3                  2         0         21.133453       27.36126        0   \n",
       "4                  3         1         21.133453       27.36126        0   \n",
       "\n",
       "   upper_price_limit  lower_price_limit  \n",
       "0          48.494714           6.227807  \n",
       "1          48.494714           6.227807  \n",
       "2          77.670230           4.614870  \n",
       "3          48.494714           6.227807  \n",
       "4          48.494714           6.227807  "
      ]
     },
     "execution_count": 62,
     "metadata": {},
     "output_type": "execute_result"
    }
   ],
   "source": [
    "test_price = pd.read_csv('test_price.csv')\n",
    "test_price.head()"
   ]
  },
  {
   "cell_type": "code",
   "execution_count": 12,
   "metadata": {},
   "outputs": [
    {
     "data": {
      "text/plain": [
       "(1482535, 8)"
      ]
     },
     "execution_count": 12,
     "metadata": {},
     "output_type": "execute_result"
    }
   ],
   "source": [
    "train_price.shape"
   ]
  },
  {
   "cell_type": "code",
   "execution_count": 13,
   "metadata": {},
   "outputs": [
    {
     "data": {
      "text/plain": [
       "(693359, 7)"
      ]
     },
     "execution_count": 13,
     "metadata": {},
     "output_type": "execute_result"
    }
   ],
   "source": [
    "test_price.shape"
   ]
  },
  {
   "cell_type": "code",
   "execution_count": 18,
   "metadata": {
    "collapsed": true
   },
   "outputs": [],
   "source": [
    "X_cols = train_price.columns.tolist()\n",
    "X_cols.remove('price')\n",
    "X = train_price[X_cols]\n",
    "y = train_price['price']"
   ]
  },
  {
   "cell_type": "code",
   "execution_count": 25,
   "metadata": {
    "collapsed": true
   },
   "outputs": [],
   "source": [
    "X_train, X_val, y_train, y_val = train_test_split(X, y, test_size=0.3, shuffle=True)"
   ]
  },
  {
   "cell_type": "code",
   "execution_count": 26,
   "metadata": {
    "collapsed": true
   },
   "outputs": [],
   "source": [
    "def rmsle_func(y_pred,y_true):\n",
    "    return np.sqrt(((np.log(y_pred + 1) - np.log(y_true + 1))**2).mean())\n",
    "rmsle_score = make_scorer(rmsle_func, greater_is_better=False)"
   ]
  },
  {
   "cell_type": "code",
   "execution_count": 27,
   "metadata": {
    "collapsed": true
   },
   "outputs": [],
   "source": [
    "rf_grid = {\n",
    "        'n_estimators': [20,25,50,75,100],\n",
    "        'min_samples_leaf': [50,75,100,125,150],\n",
    "        'n_jobs': [-1],\n",
    "        'verbose': [1]\n",
    "    }\n",
    "rfr = RandomForestRegressor()"
   ]
  },
  {
   "cell_type": "code",
   "execution_count": 28,
   "metadata": {
    "collapsed": true
   },
   "outputs": [],
   "source": [
    "rfr_gs = GridSearchCV(rfr, param_grid = rf_grid, n_jobs=-1, cv=3,  scoring = rmsle_score, verbose=1)"
   ]
  },
  {
   "cell_type": "code",
   "execution_count": 29,
   "metadata": {},
   "outputs": [
    {
     "name": "stdout",
     "output_type": "stream",
     "text": [
      "Fitting 3 folds for each of 25 candidates, totalling 75 fits\n"
     ]
    },
    {
     "name": "stderr",
     "output_type": "stream",
     "text": [
      "[Parallel(n_jobs=-1)]: Done  20 out of  20 | elapsed:  1.1min finished\n",
      "[Parallel(n_jobs=-1)]: Done  20 out of  20 | elapsed:  1.1min finished\n",
      "[Parallel(n_jobs=-1)]: Done  20 out of  20 | elapsed:  1.1min finished\n",
      "[Parallel(n_jobs=4)]: Done  20 out of  20 | elapsed:    2.3s finished\n",
      "[Parallel(n_jobs=4)]: Done  20 out of  20 | elapsed:    3.0s finished\n",
      "[Parallel(n_jobs=4)]: Done  20 out of  20 | elapsed:    3.0s finished\n",
      "[Parallel(n_jobs=4)]: Done  20 out of  20 | elapsed:    5.1s finished\n",
      "[Parallel(n_jobs=4)]: Done  20 out of  20 | elapsed:    5.2s finished\n",
      "[Parallel(n_jobs=4)]: Done  20 out of  20 | elapsed:    5.1s finished\n",
      "[Parallel(n_jobs=-1)]: Done  25 out of  25 | elapsed:  1.4min finished\n",
      "[Parallel(n_jobs=4)]: Done  25 out of  25 | elapsed:    3.4s finished\n",
      "[Parallel(n_jobs=4)]: Done  25 out of  25 | elapsed:    6.8s finished\n",
      "[Parallel(n_jobs=-1)]: Done  25 out of  25 | elapsed:  1.4min finished\n",
      "[Parallel(n_jobs=-1)]: Done  25 out of  25 | elapsed:  1.4min finished\n",
      "[Parallel(n_jobs=4)]: Done  25 out of  25 | elapsed:    3.6s finished\n",
      "[Parallel(n_jobs=4)]: Done  25 out of  25 | elapsed:    3.5s finished\n",
      "[Parallel(n_jobs=4)]: Done  25 out of  25 | elapsed:    6.5s finished\n",
      "[Parallel(n_jobs=4)]: Done  25 out of  25 | elapsed:    6.4s finished\n",
      "[Parallel(n_jobs=-1)]: Done  42 tasks      | elapsed:  2.2min\n",
      "[Parallel(n_jobs=-1)]: Done  50 out of  50 | elapsed:  2.7min finished\n",
      "[Parallel(n_jobs=-1)]: Done  42 tasks      | elapsed:  2.3min\n",
      "[Parallel(n_jobs=4)]: Done  42 tasks      | elapsed:    5.5s\n",
      "[Parallel(n_jobs=4)]: Done  50 out of  50 | elapsed:    6.5s finished\n",
      "[Parallel(n_jobs=4)]: Done  42 tasks      | elapsed:   10.4s\n",
      "[Parallel(n_jobs=4)]: Done  50 out of  50 | elapsed:   12.0s finished\n",
      "[Parallel(n_jobs=-1)]: Done  50 out of  50 | elapsed:  2.7min finished\n",
      "[Parallel(n_jobs=4)]: Done  42 tasks      | elapsed:    5.4s\n",
      "[Parallel(n_jobs=4)]: Done  50 out of  50 | elapsed:    6.4s finished\n",
      "[Parallel(n_jobs=4)]: Done  42 tasks      | elapsed:   10.8s\n",
      "[Parallel(n_jobs=4)]: Done  50 out of  50 | elapsed:   12.8s finished\n",
      "[Parallel(n_jobs=-1)]: Done  42 tasks      | elapsed:  2.3min\n",
      "[Parallel(n_jobs=-1)]: Done  42 tasks      | elapsed:  2.3min\n",
      "[Parallel(n_jobs=-1)]: Done  50 out of  50 | elapsed:  2.7min finished\n",
      "[Parallel(n_jobs=4)]: Done  42 tasks      | elapsed:    5.4s\n",
      "[Parallel(n_jobs=4)]: Done  50 out of  50 | elapsed:    6.4s finished\n",
      "[Parallel(n_jobs=4)]: Done  42 tasks      | elapsed:   10.9s\n",
      "[Parallel(n_jobs=4)]: Done  50 out of  50 | elapsed:   12.8s finished\n",
      "[Parallel(n_jobs=-1)]: Done  42 tasks      | elapsed:  2.3min\n",
      "[Parallel(n_jobs=-1)]: Done  75 out of  75 | elapsed:  4.0min finished\n",
      "[Parallel(n_jobs=4)]: Done  42 tasks      | elapsed:    5.5s\n",
      "[Parallel(n_jobs=4)]: Done  75 out of  75 | elapsed:    9.5s finished\n",
      "[Parallel(n_jobs=-1)]: Done  42 tasks      | elapsed:  2.3min\n",
      "[Parallel(n_jobs=4)]: Done  42 tasks      | elapsed:   11.2s\n",
      "[Parallel(n_jobs=4)]: Done  75 out of  75 | elapsed:   19.4s finished\n",
      "[Parallel(n_jobs=-1)]: Done  42 tasks      | elapsed:  2.4min\n",
      "[Parallel(n_jobs=-1)]: Done  75 out of  75 | elapsed:  4.0min finished\n",
      "[Parallel(n_jobs=4)]: Done  42 tasks      | elapsed:    5.4s\n",
      "[Parallel(n_jobs=4)]: Done  75 out of  75 | elapsed:    9.3s finished\n",
      "[Parallel(n_jobs=4)]: Done  42 tasks      | elapsed:   10.2s\n",
      "[Parallel(n_jobs=-1)]: Done  75 out of  75 | elapsed:  4.0min finished\n",
      "[Parallel(n_jobs=4)]: Done  75 out of  75 | elapsed:   18.0s finished\n",
      "[Parallel(n_jobs=4)]: Done  42 tasks      | elapsed:    5.2s\n",
      "[Parallel(n_jobs=4)]: Done  75 out of  75 | elapsed:    9.0s finished\n",
      "[Parallel(n_jobs=4)]: Done  42 tasks      | elapsed:   10.8s\n",
      "[Parallel(n_jobs=4)]: Done  75 out of  75 | elapsed:   19.1s finished\n",
      "[Parallel(n_jobs=-1)]: Done  42 tasks      | elapsed:  2.3min\n",
      "[Parallel(n_jobs=-1)]: Done  20 out of  20 | elapsed:  1.1min finished\n",
      "[Parallel(n_jobs=4)]: Done  20 out of  20 | elapsed:    2.4s finished\n",
      "[Parallel(n_jobs=4)]: Done  20 out of  20 | elapsed:    4.9s finished\n",
      "[Parallel(n_jobs=-1)]: Done  42 tasks      | elapsed:  2.5min\n",
      "[Parallel(n_jobs=-1)]: Done 100 out of 100 | elapsed:  5.5min finished\n",
      "[Parallel(n_jobs=4)]: Done  42 tasks      | elapsed:    5.5s\n",
      "[Parallel(n_jobs=4)]: Done 100 out of 100 | elapsed:   12.5s finished\n",
      "[Parallel(n_jobs=-1)]: Done  20 out of  20 | elapsed:  1.1min finished\n",
      "[Parallel(n_jobs=4)]: Done  20 out of  20 | elapsed:    2.4s finished\n",
      "[Parallel(n_jobs=4)]: Done  20 out of  20 | elapsed:    4.9s finished\n",
      "[Parallel(n_jobs=4)]: Done  42 tasks      | elapsed:   10.5s\n",
      "[Parallel(n_jobs=4)]: Done 100 out of 100 | elapsed:   26.3s finished\n",
      "[Parallel(n_jobs=-1)]: Done 100 out of 100 | elapsed:  5.5min finished\n",
      "[Parallel(n_jobs=-1)]: Done  20 out of  20 | elapsed:  1.1min finished\n",
      "[Parallel(n_jobs=4)]: Done  42 tasks      | elapsed:    5.0s\n",
      "[Parallel(n_jobs=4)]: Done  20 out of  20 | elapsed:    2.5s finished\n",
      "[Parallel(n_jobs=4)]: Done  20 out of  20 | elapsed:    4.9s finished\n",
      "[Parallel(n_jobs=4)]: Done 100 out of 100 | elapsed:   12.2s finished\n",
      "[Parallel(n_jobs=4)]: Done  42 tasks      | elapsed:   10.8s\n",
      "[Parallel(n_jobs=4)]: Done 100 out of 100 | elapsed:   23.4s finished\n",
      "[Parallel(n_jobs=-1)]: Done  25 out of  25 | elapsed:  1.4min finished\n",
      "[Parallel(n_jobs=4)]: Done  25 out of  25 | elapsed:    3.2s finished\n",
      "[Parallel(n_jobs=4)]: Done  25 out of  25 | elapsed:    6.4s finished\n",
      "[Parallel(n_jobs=-1)]: Done 100 out of 100 | elapsed:  5.6min finished\n",
      "[Parallel(n_jobs=4)]: Done  42 tasks      | elapsed:    4.5s\n",
      "[Parallel(n_jobs=-1)]: Done  25 out of  25 | elapsed:  1.3min finished\n",
      "[Parallel(n_jobs=4)]: Done  25 out of  25 | elapsed:    3.1s finished\n",
      "[Parallel(n_jobs=4)]: Done 100 out of 100 | elapsed:   11.4s finished\n",
      "[Parallel(n_jobs=4)]: Done  25 out of  25 | elapsed:    6.7s finished\n",
      "[Parallel(n_jobs=4)]: Done  42 tasks      | elapsed:   12.5s\n",
      "[Parallel(n_jobs=-1)]: Done  25 out of  25 | elapsed:  1.4min finished\n",
      "[Parallel(n_jobs=4)]: Done  25 out of  25 | elapsed:    4.3s finished\n",
      "[Parallel(n_jobs=4)]: Done 100 out of 100 | elapsed:   27.7s finished\n",
      "[Parallel(n_jobs=4)]: Done  25 out of  25 | elapsed:    6.0s finished\n",
      "[Parallel(n_jobs=-1)]: Done  42 tasks      | elapsed:  2.4min\n",
      "[Parallel(n_jobs=-1)]: Done  50 out of  50 | elapsed:  2.8min finished\n",
      "[Parallel(n_jobs=4)]: Done  42 tasks      | elapsed:    5.3s\n",
      "[Parallel(n_jobs=4)]: Done  50 out of  50 | elapsed:    6.2s finished\n",
      "[Parallel(n_jobs=4)]: Done  42 tasks      | elapsed:   12.5s\n",
      "[Parallel(n_jobs=4)]: Done  50 out of  50 | elapsed:   14.3s finished\n",
      "[Parallel(n_jobs=-1)]: Done  42 tasks      | elapsed:  2.4min\n",
      "[Parallel(n_jobs=-1)]: Done  42 tasks      | elapsed:  2.4min\n",
      "[Parallel(n_jobs=-1)]: Done  50 out of  50 | elapsed:  2.8min finished\n",
      "[Parallel(n_jobs=-1)]: Done  42 tasks      | elapsed:  2.4min\n",
      "[Parallel(n_jobs=4)]: Done  42 tasks      | elapsed:    5.5s\n",
      "[Parallel(n_jobs=4)]: Done  50 out of  50 | elapsed:    6.4s finished\n",
      "[Parallel(n_jobs=4)]: Done  42 tasks      | elapsed:   11.1s\n",
      "[Parallel(n_jobs=4)]: Done  50 out of  50 | elapsed:   12.7s finished\n",
      "[Parallel(n_jobs=-1)]: Done  50 out of  50 | elapsed:  2.8min finished\n",
      "[Parallel(n_jobs=4)]: Done  42 tasks      | elapsed:    6.7s\n",
      "[Parallel(n_jobs=4)]: Done  50 out of  50 | elapsed:    7.7s finished\n",
      "[Parallel(n_jobs=4)]: Done  42 tasks      | elapsed:   12.8s\n",
      "[Parallel(n_jobs=4)]: Done  50 out of  50 | elapsed:   14.7s finished\n",
      "[Parallel(n_jobs=-1)]: Done  42 tasks      | elapsed:  2.6min\n",
      "[Parallel(n_jobs=-1)]: Done  75 out of  75 | elapsed:  4.4min finished\n",
      "[Parallel(n_jobs=4)]: Done  42 tasks      | elapsed:    5.3s\n",
      "[Parallel(n_jobs=4)]: Done  75 out of  75 | elapsed:    9.1s finished\n",
      "[Parallel(n_jobs=4)]: Done  42 tasks      | elapsed:   10.5s\n",
      "[Parallel(n_jobs=4)]: Done  75 out of  75 | elapsed:   21.9s finished\n",
      "[Parallel(n_jobs=-1)]: Done  42 tasks      | elapsed:  2.6min\n",
      "[Parallel(n_jobs=-1)]: Done  42 tasks      | elapsed:  2.6min\n",
      "[Parallel(n_jobs=-1)]: Done  75 out of  75 | elapsed:  4.3min finished\n",
      "[Parallel(n_jobs=4)]: Done  42 tasks      | elapsed:    5.2s\n",
      "[Parallel(n_jobs=4)]: Done  75 out of  75 | elapsed:    9.1s finished\n",
      "[Parallel(n_jobs=4)]: Done  42 tasks      | elapsed:   10.7s\n",
      "[Parallel(n_jobs=4)]: Done  75 out of  75 | elapsed:   18.2s finished\n",
      "[Parallel(n_jobs=-1)]: Done  75 out of  75 | elapsed:  4.3min finished\n"
     ]
    },
    {
     "name": "stderr",
     "output_type": "stream",
     "text": [
      "[Parallel(n_jobs=4)]: Done  42 tasks      | elapsed:    5.1s\n",
      "[Parallel(n_jobs=4)]: Done  75 out of  75 | elapsed:    9.0s finished\n",
      "[Parallel(n_jobs=-1)]: Done  42 tasks      | elapsed:  2.3min\n",
      "[Parallel(n_jobs=4)]: Done  42 tasks      | elapsed:   10.8s\n",
      "[Parallel(n_jobs=4)]: Done  75 out of  75 | elapsed:   20.5s finished\n",
      "[Parallel(n_jobs=-1)]: Done  20 out of  20 | elapsed:  1.1min finished\n",
      "[Parallel(n_jobs=4)]: Done  20 out of  20 | elapsed:    2.4s finished\n",
      "[Parallel(n_jobs=4)]: Done  20 out of  20 | elapsed:    4.5s finished\n",
      "[Parallel(n_jobs=-1)]: Done 100 out of 100 | elapsed:  5.7min finished\n",
      "[Parallel(n_jobs=4)]: Done  42 tasks      | elapsed:    5.2s\n",
      "[Parallel(n_jobs=-1)]: Done  42 tasks      | elapsed:  2.3min\n",
      "[Parallel(n_jobs=4)]: Done 100 out of 100 | elapsed:   12.1s finished\n",
      "[Parallel(n_jobs=4)]: Done  42 tasks      | elapsed:   10.4s\n",
      "[Parallel(n_jobs=4)]: Done 100 out of 100 | elapsed:   24.0s finished\n",
      "[Parallel(n_jobs=-1)]: Done  20 out of  20 | elapsed:  1.0min finished\n",
      "[Parallel(n_jobs=4)]: Done  20 out of  20 | elapsed:    2.4s finished\n",
      "[Parallel(n_jobs=4)]: Done  20 out of  20 | elapsed:    4.8s finished\n",
      "[Parallel(n_jobs=-1)]: Done 100 out of 100 | elapsed:  5.4min finished\n",
      "[Parallel(n_jobs=4)]: Done  42 tasks      | elapsed:    5.2s\n",
      "[Parallel(n_jobs=-1)]: Done  20 out of  20 | elapsed:  1.0min finished\n",
      "[Parallel(n_jobs=4)]: Done  20 out of  20 | elapsed:    2.3s finished\n",
      "[Parallel(n_jobs=4)]: Done 100 out of 100 | elapsed:   11.6s finished\n",
      "[Parallel(n_jobs=4)]: Done  20 out of  20 | elapsed:    4.7s finished\n",
      "[Parallel(n_jobs=4)]: Done  42 tasks      | elapsed:   10.3s\n",
      "[Parallel(n_jobs=4)]: Done 100 out of 100 | elapsed:   24.1s finished\n",
      "[Parallel(n_jobs=-1)]: Done  25 out of  25 | elapsed:  1.4min finished\n",
      "[Parallel(n_jobs=4)]: Done  25 out of  25 | elapsed:    3.2s finished\n",
      "[Parallel(n_jobs=4)]: Done  25 out of  25 | elapsed:    6.2s finished\n",
      "[Parallel(n_jobs=-1)]: Done 100 out of 100 | elapsed:  5.2min finished\n",
      "[Parallel(n_jobs=4)]: Done  42 tasks      | elapsed:    4.8s\n",
      "[Parallel(n_jobs=-1)]: Done  25 out of  25 | elapsed:  1.3min finished\n",
      "[Parallel(n_jobs=4)]: Done 100 out of 100 | elapsed:   10.8s finished\n",
      "[Parallel(n_jobs=4)]: Done  25 out of  25 | elapsed:    2.7s finished\n",
      "[Parallel(n_jobs=4)]: Done  25 out of  25 | elapsed:    6.1s finished\n",
      "[Parallel(n_jobs=4)]: Done  42 tasks      | elapsed:    8.9s\n",
      "[Parallel(n_jobs=-1)]: Done  25 out of  25 | elapsed:  1.3min finished\n",
      "[Parallel(n_jobs=4)]: Done  25 out of  25 | elapsed:    3.0s finished\n",
      "[Parallel(n_jobs=4)]: Done 100 out of 100 | elapsed:   20.3s finished\n",
      "[Parallel(n_jobs=4)]: Done  25 out of  25 | elapsed:    5.4s finished\n",
      "[Parallel(n_jobs=-1)]: Done  42 tasks      | elapsed:  2.4min\n",
      "[Parallel(n_jobs=-1)]: Done  50 out of  50 | elapsed:  3.0min finished\n",
      "[Parallel(n_jobs=4)]: Done  42 tasks      | elapsed:    8.8s\n",
      "[Parallel(n_jobs=4)]: Done  50 out of  50 | elapsed:   10.2s finished\n",
      "[Parallel(n_jobs=-1)]: Done  42 tasks      | elapsed:  2.8min\n",
      "[Parallel(n_jobs=4)]: Done  42 tasks      | elapsed:   17.0s\n",
      "[Parallel(n_jobs=4)]: Done  50 out of  50 | elapsed:   20.3s finished\n",
      "[Parallel(n_jobs=-1)]: Done  42 tasks      | elapsed:  3.0min\n",
      "[Parallel(n_jobs=-1)]: Done  42 tasks      | elapsed:  3.0min\n",
      "[Parallel(n_jobs=-1)]: Done  50 out of  50 | elapsed:  3.4min finished\n",
      "[Parallel(n_jobs=4)]: Done  42 tasks      | elapsed:    6.5s\n",
      "[Parallel(n_jobs=4)]: Done  50 out of  50 | elapsed:    7.2s finished\n",
      "[Parallel(n_jobs=-1)]: Done  50 out of  50 | elapsed:  3.4min finished\n",
      "[Parallel(n_jobs=4)]: Done  42 tasks      | elapsed:    8.7s\n",
      "[Parallel(n_jobs=4)]: Done  50 out of  50 | elapsed:   10.9s finished\n",
      "[Parallel(n_jobs=4)]: Done  42 tasks      | elapsed:    5.2s\n",
      "[Parallel(n_jobs=4)]: Done  50 out of  50 | elapsed:    6.1s finished\n",
      "[Parallel(n_jobs=4)]: Done  42 tasks      | elapsed:   10.0s\n",
      "[Parallel(n_jobs=4)]: Done  50 out of  50 | elapsed:   11.8s finished\n",
      "[Parallel(n_jobs=-1)]: Done  75 out of  75 | elapsed:  4.8min finished\n",
      "[Parallel(n_jobs=4)]: Done  42 tasks      | elapsed:    5.1s\n",
      "[Parallel(n_jobs=4)]: Done  75 out of  75 | elapsed:    8.9s finished\n",
      "[Parallel(n_jobs=-1)]: Done  42 tasks      | elapsed:  2.4min\n",
      "[Parallel(n_jobs=4)]: Done  42 tasks      | elapsed:   10.0s\n",
      "[Parallel(n_jobs=4)]: Done  75 out of  75 | elapsed:   17.5s finished\n",
      "[Parallel(n_jobs=-1)]: Done  42 tasks      | elapsed:  2.2min\n",
      "[Parallel(n_jobs=-1)]: Done  42 tasks      | elapsed:  2.3min\n",
      "[Parallel(n_jobs=-1)]: Done  75 out of  75 | elapsed:  4.0min finished\n",
      "[Parallel(n_jobs=4)]: Done  42 tasks      | elapsed:    5.0s\n",
      "[Parallel(n_jobs=4)]: Done  75 out of  75 | elapsed:    8.7s finished\n",
      "[Parallel(n_jobs=4)]: Done  42 tasks      | elapsed:    9.9s\n",
      "[Parallel(n_jobs=4)]: Done  75 out of  75 | elapsed:   17.3s finished\n",
      "[Parallel(n_jobs=-1)]: Done  75 out of  75 | elapsed:  3.9min finished\n",
      "[Parallel(n_jobs=4)]: Done  42 tasks      | elapsed:    5.1s\n",
      "[Parallel(n_jobs=4)]: Done  75 out of  75 | elapsed:    8.8s finished\n",
      "[Parallel(n_jobs=-1)]: Done  42 tasks      | elapsed:  2.3min\n",
      "[Parallel(n_jobs=4)]: Done  42 tasks      | elapsed:   10.0s\n",
      "[Parallel(n_jobs=4)]: Done  75 out of  75 | elapsed:   17.3s finished\n",
      "[Parallel(n_jobs=-1)]: Done  42 tasks      | elapsed: 35.6min\n",
      "[Parallel(n_jobs=-1)]: Done  20 out of  20 | elapsed:  1.2min finished\n",
      "[Parallel(n_jobs=4)]: Done  20 out of  20 | elapsed:    2.1s finished\n",
      "[Parallel(n_jobs=-1)]: Done 100 out of 100 | elapsed:  5.4min finished\n",
      "[Parallel(n_jobs=4)]: Done  20 out of  20 | elapsed:    4.3s finished\n",
      "[Parallel(n_jobs=4)]: Done  42 tasks      | elapsed:    4.8s\n",
      "[Parallel(n_jobs=4)]: Done 100 out of 100 | elapsed:   11.3s finished\n",
      "[Parallel(n_jobs=4)]: Done  42 tasks      | elapsed:   10.3s\n",
      "[Parallel(n_jobs=-1)]: Done  42 tasks      | elapsed:  2.3min\n",
      "[Parallel(n_jobs=4)]: Done 100 out of 100 | elapsed:   23.5s finished\n",
      "[Parallel(n_jobs=-1)]: Done  20 out of  20 | elapsed:  1.0min finished\n",
      "[Parallel(n_jobs=4)]: Done  20 out of  20 | elapsed:    2.5s finished\n",
      "[Parallel(n_jobs=4)]: Done  20 out of  20 | elapsed:    4.4s finished\n",
      "[Parallel(n_jobs=-1)]: Done 100 out of 100 | elapsed:  5.3min finished\n",
      "[Parallel(n_jobs=4)]: Done  42 tasks      | elapsed:    5.0s\n",
      "[Parallel(n_jobs=4)]: Done 100 out of 100 | elapsed:   11.5s finished\n",
      "[Parallel(n_jobs=-1)]: Done  20 out of  20 | elapsed:  1.0min finished\n",
      "[Parallel(n_jobs=4)]: Done  20 out of  20 | elapsed:    2.2s finished\n",
      "[Parallel(n_jobs=4)]: Done  20 out of  20 | elapsed:    4.5s finished\n",
      "[Parallel(n_jobs=4)]: Done  42 tasks      | elapsed:    9.7s\n",
      "[Parallel(n_jobs=4)]: Done 100 out of 100 | elapsed:   22.3s finished\n",
      "[Parallel(n_jobs=-1)]: Done  25 out of  25 | elapsed:  1.4min finished\n",
      "[Parallel(n_jobs=4)]: Done  25 out of  25 | elapsed:    2.9s finished\n",
      "[Parallel(n_jobs=4)]: Done  25 out of  25 | elapsed:    6.0s finished\n",
      "[Parallel(n_jobs=-1)]: Done  25 out of  25 | elapsed:  1.3min finished\n",
      "[Parallel(n_jobs=4)]: Done  25 out of  25 | elapsed:    2.5s finished\n",
      "[Parallel(n_jobs=-1)]: Done 100 out of 100 | elapsed:  5.1min finished\n",
      "[Parallel(n_jobs=4)]: Done  25 out of  25 | elapsed:    4.2s finished\n",
      "[Parallel(n_jobs=-1)]: Done  25 out of  25 | elapsed:  1.3min finished\n",
      "[Parallel(n_jobs=4)]: Done  42 tasks      | elapsed:    3.6s\n",
      "[Parallel(n_jobs=4)]: Done  25 out of  25 | elapsed:    2.6s finished\n",
      "[Parallel(n_jobs=4)]: Done 100 out of 100 | elapsed:    9.8s finished\n",
      "[Parallel(n_jobs=4)]: Done  25 out of  25 | elapsed:    5.8s finished\n",
      "[Parallel(n_jobs=4)]: Done  42 tasks      | elapsed:    9.7s\n",
      "[Parallel(n_jobs=4)]: Done 100 out of 100 | elapsed:   22.5s finished\n",
      "[Parallel(n_jobs=-1)]: Done  42 tasks      | elapsed:  2.2min\n",
      "[Parallel(n_jobs=-1)]: Done  50 out of  50 | elapsed:  2.6min finished\n",
      "[Parallel(n_jobs=-1)]: Done  42 tasks      | elapsed:  2.2min\n",
      "[Parallel(n_jobs=4)]: Done  42 tasks      | elapsed:    4.9s\n",
      "[Parallel(n_jobs=4)]: Done  50 out of  50 | elapsed:    5.7s finished\n",
      "[Parallel(n_jobs=4)]: Done  42 tasks      | elapsed:   10.1s\n",
      "[Parallel(n_jobs=-1)]: Done  42 tasks      | elapsed:  2.3min\n",
      "[Parallel(n_jobs=4)]: Done  50 out of  50 | elapsed:   11.7s finished\n",
      "[Parallel(n_jobs=-1)]: Done  50 out of  50 | elapsed:  2.6min finished\n",
      "[Parallel(n_jobs=4)]: Done  42 tasks      | elapsed:    4.5s\n",
      "[Parallel(n_jobs=4)]: Done  50 out of  50 | elapsed:    5.4s finished\n"
     ]
    },
    {
     "name": "stderr",
     "output_type": "stream",
     "text": [
      "[Parallel(n_jobs=-1)]: Done  42 tasks      | elapsed:  2.2min\n",
      "[Parallel(n_jobs=-1)]: Done  50 out of  50 | elapsed:  2.6min finished\n",
      "[Parallel(n_jobs=4)]: Done  42 tasks      | elapsed:    8.8s\n",
      "[Parallel(n_jobs=4)]: Done  42 tasks      | elapsed:    4.9s\n",
      "[Parallel(n_jobs=4)]: Done  50 out of  50 | elapsed:   10.4s finished\n",
      "[Parallel(n_jobs=4)]: Done  50 out of  50 | elapsed:    5.6s finished\n",
      "[Parallel(n_jobs=4)]: Done  42 tasks      | elapsed:    9.4s\n",
      "[Parallel(n_jobs=4)]: Done  50 out of  50 | elapsed:   11.2s finished\n",
      "[Parallel(n_jobs=-1)]: Done  75 out of  75 | elapsed:  3.9min finished\n",
      "[Parallel(n_jobs=4)]: Done  42 tasks      | elapsed:    4.9s\n",
      "[Parallel(n_jobs=4)]: Done  75 out of  75 | elapsed:    8.5s finished\n",
      "[Parallel(n_jobs=-1)]: Done  42 tasks      | elapsed:  2.2min\n",
      "[Parallel(n_jobs=4)]: Done  42 tasks      | elapsed:    9.8s\n",
      "[Parallel(n_jobs=4)]: Done  75 out of  75 | elapsed:   17.0s finished\n",
      "[Parallel(n_jobs=-1)]: Done  42 tasks      | elapsed:  2.2min\n",
      "[Parallel(n_jobs=-1)]: Done  42 tasks      | elapsed:  2.3min\n",
      "[Parallel(n_jobs=-1)]: Done  75 out of  75 | elapsed:  3.9min finished\n",
      "[Parallel(n_jobs=4)]: Done  42 tasks      | elapsed:    4.9s\n",
      "[Parallel(n_jobs=4)]: Done  75 out of  75 | elapsed:    8.5s finished\n",
      "[Parallel(n_jobs=4)]: Done  42 tasks      | elapsed:    9.5s\n",
      "[Parallel(n_jobs=-1)]: Done  75 out of  75 | elapsed:  3.8min finished\n",
      "[Parallel(n_jobs=4)]: Done  75 out of  75 | elapsed:   16.3s finished\n",
      "[Parallel(n_jobs=4)]: Done  42 tasks      | elapsed:    4.7s\n",
      "[Parallel(n_jobs=4)]: Done  75 out of  75 | elapsed:    7.6s finished\n",
      "[Parallel(n_jobs=4)]: Done  42 tasks      | elapsed:   10.0s\n",
      "[Parallel(n_jobs=-1)]: Done  42 tasks      | elapsed:  2.2min\n",
      "[Parallel(n_jobs=4)]: Done  75 out of  75 | elapsed:   17.2s finished\n",
      "[Parallel(n_jobs=-1)]: Done  20 out of  20 | elapsed:  1.2min finished\n",
      "[Parallel(n_jobs=4)]: Done  20 out of  20 | elapsed:    1.9s finished\n",
      "[Parallel(n_jobs=-1)]: Done 100 out of 100 | elapsed:  5.3min finished\n",
      "[Parallel(n_jobs=4)]: Done  20 out of  20 | elapsed:    4.3s finished\n",
      "[Parallel(n_jobs=4)]: Done  42 tasks      | elapsed:    4.6s\n",
      "[Parallel(n_jobs=4)]: Done 100 out of 100 | elapsed:   10.9s finished\n",
      "[Parallel(n_jobs=4)]: Done  42 tasks      | elapsed:    9.9s\n",
      "[Parallel(n_jobs=4)]: Done 100 out of 100 | elapsed:   22.6s finished\n",
      "[Parallel(n_jobs=-1)]: Done  42 tasks      | elapsed:  2.3min\n",
      "[Parallel(n_jobs=-1)]: Done  20 out of  20 | elapsed:  1.0min finished\n",
      "[Parallel(n_jobs=4)]: Done  20 out of  20 | elapsed:    2.2s finished\n",
      "[Parallel(n_jobs=4)]: Done  20 out of  20 | elapsed:    4.4s finished\n",
      "[Parallel(n_jobs=-1)]: Done  20 out of  20 | elapsed:  1.0min finished\n",
      "[Parallel(n_jobs=-1)]: Done 100 out of 100 | elapsed:  5.2min finished\n",
      "[Parallel(n_jobs=4)]: Done  20 out of  20 | elapsed:    2.0s finished\n",
      "[Parallel(n_jobs=4)]: Done  42 tasks      | elapsed:    4.7s\n",
      "[Parallel(n_jobs=4)]: Done  20 out of  20 | elapsed:    4.3s finished\n",
      "[Parallel(n_jobs=4)]: Done 100 out of 100 | elapsed:   10.5s finished\n",
      "[Parallel(n_jobs=4)]: Done  42 tasks      | elapsed:    9.7s\n",
      "[Parallel(n_jobs=4)]: Done 100 out of 100 | elapsed:   22.2s finished\n",
      "[Parallel(n_jobs=-1)]: Done  25 out of  25 | elapsed:  1.4min finished\n",
      "[Parallel(n_jobs=4)]: Done  25 out of  25 | elapsed:    2.9s finished\n",
      "[Parallel(n_jobs=4)]: Done  25 out of  25 | elapsed:    5.9s finished\n",
      "[Parallel(n_jobs=-1)]: Done  25 out of  25 | elapsed:  1.3min finished\n",
      "[Parallel(n_jobs=4)]: Done  25 out of  25 | elapsed:    2.9s finished\n",
      "[Parallel(n_jobs=4)]: Done  25 out of  25 | elapsed:    5.9s finished\n",
      "[Parallel(n_jobs=-1)]: Done 100 out of 100 | elapsed:  5.0min finished\n",
      "[Parallel(n_jobs=-1)]: Done  25 out of  25 | elapsed:  1.3min finished\n",
      "[Parallel(n_jobs=4)]: Done  42 tasks      | elapsed:    4.0s\n",
      "[Parallel(n_jobs=4)]: Done  25 out of  25 | elapsed:    2.8s finished\n",
      "[Parallel(n_jobs=4)]: Done 100 out of 100 | elapsed:   10.2s finished\n",
      "[Parallel(n_jobs=4)]: Done  25 out of  25 | elapsed:    5.4s finished\n",
      "[Parallel(n_jobs=4)]: Done  42 tasks      | elapsed:    9.1s\n",
      "[Parallel(n_jobs=4)]: Done 100 out of 100 | elapsed:   22.0s finished\n",
      "[Parallel(n_jobs=-1)]: Done  42 tasks      | elapsed:  2.1min\n",
      "[Parallel(n_jobs=-1)]: Done  50 out of  50 | elapsed:  2.5min finished\n",
      "[Parallel(n_jobs=4)]: Done  42 tasks      | elapsed:    4.8s\n",
      "[Parallel(n_jobs=4)]: Done  50 out of  50 | elapsed:    5.6s finished\n",
      "[Parallel(n_jobs=-1)]: Done  42 tasks      | elapsed:  2.1min\n",
      "[Parallel(n_jobs=4)]: Done  42 tasks      | elapsed:    9.6s\n",
      "[Parallel(n_jobs=4)]: Done  50 out of  50 | elapsed:   11.2s finished\n",
      "[Parallel(n_jobs=-1)]: Done  50 out of  50 | elapsed:  2.5min finished\n",
      "[Parallel(n_jobs=-1)]: Done  42 tasks      | elapsed:  2.2min\n",
      "[Parallel(n_jobs=4)]: Done  42 tasks      | elapsed:    4.8s\n",
      "[Parallel(n_jobs=4)]: Done  50 out of  50 | elapsed:    5.7s finished\n",
      "[Parallel(n_jobs=4)]: Done  42 tasks      | elapsed:    9.2s\n",
      "[Parallel(n_jobs=4)]: Done  50 out of  50 | elapsed:   10.7s finished\n",
      "[Parallel(n_jobs=-1)]: Done  42 tasks      | elapsed:  2.2min\n",
      "[Parallel(n_jobs=-1)]: Done  50 out of  50 | elapsed:  2.5min finished\n",
      "[Parallel(n_jobs=4)]: Done  42 tasks      | elapsed:    4.8s\n",
      "[Parallel(n_jobs=4)]: Done  50 out of  50 | elapsed:    5.6s finished\n",
      "[Parallel(n_jobs=4)]: Done  42 tasks      | elapsed:    9.4s\n",
      "[Parallel(n_jobs=4)]: Done  50 out of  50 | elapsed:   11.2s finished\n",
      "[Parallel(n_jobs=-1)]: Done  42 tasks      | elapsed:  2.2min\n",
      "[Parallel(n_jobs=-1)]: Done  75 out of  75 | elapsed:  3.9min finished\n",
      "[Parallel(n_jobs=4)]: Done  42 tasks      | elapsed:    4.8s\n",
      "[Parallel(n_jobs=4)]: Done  75 out of  75 | elapsed:    8.2s finished\n",
      "[Parallel(n_jobs=4)]: Done  42 tasks      | elapsed:    9.5s\n",
      "[Parallel(n_jobs=4)]: Done  75 out of  75 | elapsed:   16.5s finished\n",
      "[Parallel(n_jobs=-1)]: Done  42 tasks      | elapsed:  2.2min\n",
      "[Parallel(n_jobs=-1)]: Done  42 tasks      | elapsed:  2.2min\n",
      "[Parallel(n_jobs=-1)]: Done  75 out of  75 | elapsed:  3.8min finished\n",
      "[Parallel(n_jobs=4)]: Done  42 tasks      | elapsed:    4.8s\n",
      "[Parallel(n_jobs=4)]: Done  75 out of  75 | elapsed:    8.3s finished\n",
      "[Parallel(n_jobs=4)]: Done  42 tasks      | elapsed:    9.6s\n",
      "[Parallel(n_jobs=4)]: Done  75 out of  75 | elapsed:   16.5s finished\n",
      "[Parallel(n_jobs=-1)]: Done  75 out of  75 | elapsed:  3.9min finished\n",
      "[Parallel(n_jobs=4)]: Done  42 tasks      | elapsed:    4.8s\n",
      "[Parallel(n_jobs=4)]: Done  75 out of  75 | elapsed:    8.5s finished\n",
      "[Parallel(n_jobs=4)]: Done  42 tasks      | elapsed:    9.6s\n",
      "[Parallel(n_jobs=4)]: Done  75 out of  75 | elapsed:   16.7s finished\n",
      "[Parallel(n_jobs=-1)]: Done  42 tasks      | elapsed:  2.2min\n",
      "[Parallel(n_jobs=-1)]: Done 100 out of 100 | elapsed:  4.8min finished\n",
      "[Parallel(n_jobs=4)]: Done  42 tasks      | elapsed:    3.6s\n",
      "[Parallel(n_jobs=4)]: Done 100 out of 100 | elapsed:    8.3s finished\n",
      "[Parallel(n_jobs=4)]: Done  42 tasks      | elapsed:    7.2s\n",
      "[Parallel(n_jobs=-1)]: Done  42 tasks      | elapsed:  1.8min\n",
      "[Parallel(n_jobs=4)]: Done 100 out of 100 | elapsed:   16.8s finished\n",
      "[Parallel(n_jobs=-1)]: Done 100 out of 100 | elapsed:  4.1min finished\n",
      "[Parallel(n_jobs=4)]: Done  42 tasks      | elapsed:    2.5s\n",
      "[Parallel(n_jobs=4)]: Done 100 out of 100 | elapsed:    6.1s finished\n",
      "[Parallel(n_jobs=4)]: Done  42 tasks      | elapsed:    5.2s\n",
      "[Parallel(n_jobs=4)]: Done 100 out of 100 | elapsed:   11.5s finished\n",
      "[Parallel(n_jobs=-1)]: Done 100 out of 100 | elapsed:  3.0min finished\n",
      "[Parallel(n_jobs=4)]: Done  42 tasks      | elapsed:    1.2s\n",
      "[Parallel(n_jobs=4)]: Done 100 out of 100 | elapsed:    2.8s finished\n",
      "[Parallel(n_jobs=4)]: Done  42 tasks      | elapsed:    2.3s\n",
      "[Parallel(n_jobs=4)]: Done 100 out of 100 | elapsed:    5.4s finished\n",
      "[Parallel(n_jobs=-1)]: Done  75 out of  75 | elapsed: 61.8min finished\n",
      "[Parallel(n_jobs=-1)]: Done  42 tasks      | elapsed:   56.1s\n",
      "[Parallel(n_jobs=-1)]: Done  50 out of  50 | elapsed:  1.1min finished\n"
     ]
    },
    {
     "data": {
      "text/plain": [
       "GridSearchCV(cv=3, error_score='raise',\n",
       "       estimator=RandomForestRegressor(bootstrap=True, criterion='mse', max_depth=None,\n",
       "           max_features='auto', max_leaf_nodes=None,\n",
       "           min_impurity_decrease=0.0, min_impurity_split=None,\n",
       "           min_samples_leaf=1, min_samples_split=2,\n",
       "           min_weight_fraction_leaf=0.0, n_estimators=10, n_jobs=1,\n",
       "           oob_score=False, random_state=None, verbose=0, warm_start=False),\n",
       "       fit_params=None, iid=True, n_jobs=-1,\n",
       "       param_grid={'n_estimators': [20, 25, 50, 75, 100], 'min_samples_leaf': [50, 75, 100, 125, 150], 'n_jobs': [-1], 'verbose': [1]},\n",
       "       pre_dispatch='2*n_jobs', refit=True, return_train_score='warn',\n",
       "       scoring=make_scorer(rmsle_func, greater_is_better=False), verbose=1)"
      ]
     },
     "execution_count": 29,
     "metadata": {},
     "output_type": "execute_result"
    }
   ],
   "source": [
    "rfr_gs.fit(X_train,y_train)"
   ]
  },
  {
   "cell_type": "code",
   "execution_count": 33,
   "metadata": {},
   "outputs": [
    {
     "name": "stderr",
     "output_type": "stream",
     "text": [
      "/home/anuj8june/python3env/envs/python3/lib/python3.6/site-packages/sklearn/model_selection/_search.py:761: DeprecationWarning: The grid_scores_ attribute was deprecated in version 0.18 in favor of the more elaborate cv_results_ attribute. The grid_scores_ attribute will not be available from 0.20\n",
      "  DeprecationWarning)\n"
     ]
    },
    {
     "data": {
      "text/plain": [
       "[-0.67632298586381523,\n",
       " -0.67634900027023492,\n",
       " -0.67635886127705314,\n",
       " -0.67637893839219154,\n",
       " -0.67643318147847342]"
      ]
     },
     "execution_count": 33,
     "metadata": {},
     "output_type": "execute_result"
    }
   ],
   "source": [
    "gs = [x[1] for x in rfr_gs.grid_scores_]\n",
    "sorted(gs,reverse=True)[:5]"
   ]
  },
  {
   "cell_type": "code",
   "execution_count": 34,
   "metadata": {},
   "outputs": [
    {
     "name": "stderr",
     "output_type": "stream",
     "text": [
      "/home/anuj8june/python3env/envs/python3/lib/python3.6/site-packages/sklearn/model_selection/_search.py:761: DeprecationWarning: The grid_scores_ attribute was deprecated in version 0.18 in favor of the more elaborate cv_results_ attribute. The grid_scores_ attribute will not be available from 0.20\n",
      "  DeprecationWarning)\n"
     ]
    },
    {
     "data": {
      "text/plain": [
       "[mean: -0.67632, std: 0.00022, params: {'min_samples_leaf': 50, 'n_estimators': 50, 'n_jobs': -1, 'verbose': 1},\n",
       " mean: -0.67635, std: 0.00016, params: {'min_samples_leaf': 50, 'n_estimators': 75, 'n_jobs': -1, 'verbose': 1},\n",
       " mean: -0.67638, std: 0.00020, params: {'min_samples_leaf': 50, 'n_estimators': 100, 'n_jobs': -1, 'verbose': 1},\n",
       " mean: -0.67636, std: 0.00020, params: {'min_samples_leaf': 75, 'n_estimators': 25, 'n_jobs': -1, 'verbose': 1}]"
      ]
     },
     "execution_count": 34,
     "metadata": {},
     "output_type": "execute_result"
    }
   ],
   "source": [
    "gs_model = list()\n",
    "for x  in rfr_gs.grid_scores_:\n",
    "    if x[1] > -0.6764:\n",
    "        gs_model.append(x)\n",
    "gs_model"
   ]
  },
  {
   "cell_type": "code",
   "execution_count": 38,
   "metadata": {},
   "outputs": [
    {
     "name": "stdout",
     "output_type": "stream",
     "text": [
      "0.676612128055\n"
     ]
    }
   ],
   "source": [
    "rfr_t = RandomForestRegressor(min_samples_leaf=50, n_estimators=50, n_jobs=-1)\n",
    "rfr_t.fit(X_train,y_train)\n",
    "predict = rfr_t.predict(X_val)\n",
    "print(rmsle_func(predict,y_val))"
   ]
  },
  {
   "cell_type": "code",
   "execution_count": 58,
   "metadata": {},
   "outputs": [
    {
     "data": {
      "text/plain": [
       "RandomForestRegressor(bootstrap=True, criterion='mse', max_depth=None,\n",
       "           max_features='auto', max_leaf_nodes=None,\n",
       "           min_impurity_decrease=0.0, min_impurity_split=None,\n",
       "           min_samples_leaf=50, min_samples_split=2,\n",
       "           min_weight_fraction_leaf=0.0, n_estimators=50, n_jobs=-1,\n",
       "           oob_score=False, random_state=None, verbose=0, warm_start=False)"
      ]
     },
     "execution_count": 58,
     "metadata": {},
     "output_type": "execute_result"
    }
   ],
   "source": [
    "rfr_s = RandomForestRegressor(min_samples_leaf=50, n_estimators=50, n_jobs=-1)\n",
    "rfr_s.fit(X,y)"
   ]
  },
  {
   "cell_type": "code",
   "execution_count": 59,
   "metadata": {
    "collapsed": true
   },
   "outputs": [],
   "source": [
    "sub_file = pd.read_csv('sample_submission.csv')"
   ]
  },
  {
   "cell_type": "code",
   "execution_count": 63,
   "metadata": {
    "collapsed": true
   },
   "outputs": [],
   "source": [
    "sub_file['price'] = rfr_s.predict(test_price)"
   ]
  },
  {
   "cell_type": "code",
   "execution_count": 64,
   "metadata": {},
   "outputs": [
    {
     "data": {
      "text/html": [
       "<div>\n",
       "<style>\n",
       "    .dataframe thead tr:only-child th {\n",
       "        text-align: right;\n",
       "    }\n",
       "\n",
       "    .dataframe thead th {\n",
       "        text-align: left;\n",
       "    }\n",
       "\n",
       "    .dataframe tbody tr th {\n",
       "        vertical-align: top;\n",
       "    }\n",
       "</style>\n",
       "<table border=\"1\" class=\"dataframe\">\n",
       "  <thead>\n",
       "    <tr style=\"text-align: right;\">\n",
       "      <th></th>\n",
       "      <th>test_id</th>\n",
       "      <th>price</th>\n",
       "    </tr>\n",
       "  </thead>\n",
       "  <tbody>\n",
       "    <tr>\n",
       "      <th>0</th>\n",
       "      <td>0</td>\n",
       "      <td>17.572564</td>\n",
       "    </tr>\n",
       "    <tr>\n",
       "      <th>1</th>\n",
       "      <td>1</td>\n",
       "      <td>17.572564</td>\n",
       "    </tr>\n",
       "    <tr>\n",
       "      <th>2</th>\n",
       "      <td>2</td>\n",
       "      <td>58.620546</td>\n",
       "    </tr>\n",
       "    <tr>\n",
       "      <th>3</th>\n",
       "      <td>3</td>\n",
       "      <td>23.816310</td>\n",
       "    </tr>\n",
       "    <tr>\n",
       "      <th>4</th>\n",
       "      <td>4</td>\n",
       "      <td>18.725606</td>\n",
       "    </tr>\n",
       "  </tbody>\n",
       "</table>\n",
       "</div>"
      ],
      "text/plain": [
       "   test_id      price\n",
       "0        0  17.572564\n",
       "1        1  17.572564\n",
       "2        2  58.620546\n",
       "3        3  23.816310\n",
       "4        4  18.725606"
      ]
     },
     "execution_count": 64,
     "metadata": {},
     "output_type": "execute_result"
    }
   ],
   "source": [
    "sub_file.head()"
   ]
  },
  {
   "cell_type": "code",
   "execution_count": null,
   "metadata": {
    "collapsed": true
   },
   "outputs": [],
   "source": []
  },
  {
   "cell_type": "code",
   "execution_count": null,
   "metadata": {
    "collapsed": true
   },
   "outputs": [],
   "source": []
  }
 ],
 "metadata": {
  "kernelspec": {
   "display_name": "Python 3",
   "language": "python",
   "name": "python3"
  },
  "language_info": {
   "codemirror_mode": {
    "name": "ipython",
    "version": 3
   },
   "file_extension": ".py",
   "mimetype": "text/x-python",
   "name": "python",
   "nbconvert_exporter": "python",
   "pygments_lexer": "ipython3",
   "version": "3.6.3"
  }
 },
 "nbformat": 4,
 "nbformat_minor": 2
}
