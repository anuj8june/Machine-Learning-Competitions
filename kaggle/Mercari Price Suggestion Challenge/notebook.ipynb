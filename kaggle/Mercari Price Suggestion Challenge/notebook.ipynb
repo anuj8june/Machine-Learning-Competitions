{
 "cells": [
  {
   "cell_type": "code",
   "execution_count": 1,
   "metadata": {
    "_cell_guid": "c68821cd-11ad-4a08-8c62-01876a736064",
    "_uuid": "ed204327fbba25aea5dfa8366eeeae0b041ba58d",
    "collapsed": true
   },
   "outputs": [],
   "source": [
    "import pandas as pd\n",
    "import numpy as np\n",
    "\n",
    "\n",
    "from sklearn.model_selection import ParameterGrid\n",
    "from sklearn.metrics import mean_absolute_error\n",
    "from sklearn.model_selection import train_test_split\n",
    "from sklearn.model_selection import GridSearchCV\n",
    "from sklearn.metrics import make_scorer\n",
    "\n",
    "from sklearn.ensemble import RandomForestRegressor\n",
    "from sklearn.neural_network import MLPRegressor"
   ]
  },
  {
   "cell_type": "code",
   "execution_count": 2,
   "metadata": {
    "_cell_guid": "1d0c9c90-8a99-498d-86ef-c1dfeb217d14",
    "_uuid": "0445d23e7faf06c4cb27d64ee089db2a8c150430"
   },
   "outputs": [
    {
     "data": {
      "text/html": [
       "<div>\n",
       "<style>\n",
       "    .dataframe thead tr:only-child th {\n",
       "        text-align: right;\n",
       "    }\n",
       "\n",
       "    .dataframe thead th {\n",
       "        text-align: left;\n",
       "    }\n",
       "\n",
       "    .dataframe tbody tr th {\n",
       "        vertical-align: top;\n",
       "    }\n",
       "</style>\n",
       "<table border=\"1\" class=\"dataframe\">\n",
       "  <thead>\n",
       "    <tr style=\"text-align: right;\">\n",
       "      <th></th>\n",
       "      <th>train_id</th>\n",
       "      <th>name</th>\n",
       "      <th>item_condition_id</th>\n",
       "      <th>category_name</th>\n",
       "      <th>brand_name</th>\n",
       "      <th>price</th>\n",
       "      <th>shipping</th>\n",
       "      <th>item_description</th>\n",
       "    </tr>\n",
       "  </thead>\n",
       "  <tbody>\n",
       "    <tr>\n",
       "      <th>0</th>\n",
       "      <td>0</td>\n",
       "      <td>MLB Cincinnati Reds T Shirt Size XL</td>\n",
       "      <td>3</td>\n",
       "      <td>Men/Tops/T-shirts</td>\n",
       "      <td>NaN</td>\n",
       "      <td>10.0</td>\n",
       "      <td>1</td>\n",
       "      <td>No description yet</td>\n",
       "    </tr>\n",
       "    <tr>\n",
       "      <th>1</th>\n",
       "      <td>1</td>\n",
       "      <td>Razer BlackWidow Chroma Keyboard</td>\n",
       "      <td>3</td>\n",
       "      <td>Electronics/Computers &amp; Tablets/Components &amp; P...</td>\n",
       "      <td>Razer</td>\n",
       "      <td>52.0</td>\n",
       "      <td>0</td>\n",
       "      <td>This keyboard is in great condition and works ...</td>\n",
       "    </tr>\n",
       "    <tr>\n",
       "      <th>2</th>\n",
       "      <td>2</td>\n",
       "      <td>AVA-VIV Blouse</td>\n",
       "      <td>1</td>\n",
       "      <td>Women/Tops &amp; Blouses/Blouse</td>\n",
       "      <td>Target</td>\n",
       "      <td>10.0</td>\n",
       "      <td>1</td>\n",
       "      <td>Adorable top with a hint of lace and a key hol...</td>\n",
       "    </tr>\n",
       "    <tr>\n",
       "      <th>3</th>\n",
       "      <td>3</td>\n",
       "      <td>Leather Horse Statues</td>\n",
       "      <td>1</td>\n",
       "      <td>Home/Home Décor/Home Décor Accents</td>\n",
       "      <td>NaN</td>\n",
       "      <td>35.0</td>\n",
       "      <td>1</td>\n",
       "      <td>New with tags. Leather horses. Retail for [rm]...</td>\n",
       "    </tr>\n",
       "    <tr>\n",
       "      <th>4</th>\n",
       "      <td>4</td>\n",
       "      <td>24K GOLD plated rose</td>\n",
       "      <td>1</td>\n",
       "      <td>Women/Jewelry/Necklaces</td>\n",
       "      <td>NaN</td>\n",
       "      <td>44.0</td>\n",
       "      <td>0</td>\n",
       "      <td>Complete with certificate of authenticity</td>\n",
       "    </tr>\n",
       "  </tbody>\n",
       "</table>\n",
       "</div>"
      ],
      "text/plain": [
       "   train_id                                 name  item_condition_id  \\\n",
       "0         0  MLB Cincinnati Reds T Shirt Size XL                  3   \n",
       "1         1     Razer BlackWidow Chroma Keyboard                  3   \n",
       "2         2                       AVA-VIV Blouse                  1   \n",
       "3         3                Leather Horse Statues                  1   \n",
       "4         4                 24K GOLD plated rose                  1   \n",
       "\n",
       "                                       category_name brand_name  price  \\\n",
       "0                                  Men/Tops/T-shirts        NaN   10.0   \n",
       "1  Electronics/Computers & Tablets/Components & P...      Razer   52.0   \n",
       "2                        Women/Tops & Blouses/Blouse     Target   10.0   \n",
       "3                 Home/Home Décor/Home Décor Accents        NaN   35.0   \n",
       "4                            Women/Jewelry/Necklaces        NaN   44.0   \n",
       "\n",
       "   shipping                                   item_description  \n",
       "0         1                                 No description yet  \n",
       "1         0  This keyboard is in great condition and works ...  \n",
       "2         1  Adorable top with a hint of lace and a key hol...  \n",
       "3         1  New with tags. Leather horses. Retail for [rm]...  \n",
       "4         0          Complete with certificate of authenticity  "
      ]
     },
     "execution_count": 2,
     "metadata": {},
     "output_type": "execute_result"
    }
   ],
   "source": [
    "train = pd.read_csv('train.tsv',delimiter='\\t')\n",
    "train.head()"
   ]
  },
  {
   "cell_type": "code",
   "execution_count": 3,
   "metadata": {
    "_cell_guid": "a542bf55-1c83-409a-9c83-75bd1dcc9c2f",
    "_uuid": "dd9bafb458103382d1cf80d72e994dd937786f08"
   },
   "outputs": [
    {
     "data": {
      "text/html": [
       "<div>\n",
       "<style>\n",
       "    .dataframe thead tr:only-child th {\n",
       "        text-align: right;\n",
       "    }\n",
       "\n",
       "    .dataframe thead th {\n",
       "        text-align: left;\n",
       "    }\n",
       "\n",
       "    .dataframe tbody tr th {\n",
       "        vertical-align: top;\n",
       "    }\n",
       "</style>\n",
       "<table border=\"1\" class=\"dataframe\">\n",
       "  <thead>\n",
       "    <tr style=\"text-align: right;\">\n",
       "      <th></th>\n",
       "      <th>test_id</th>\n",
       "      <th>name</th>\n",
       "      <th>item_condition_id</th>\n",
       "      <th>category_name</th>\n",
       "      <th>brand_name</th>\n",
       "      <th>shipping</th>\n",
       "      <th>item_description</th>\n",
       "    </tr>\n",
       "  </thead>\n",
       "  <tbody>\n",
       "    <tr>\n",
       "      <th>0</th>\n",
       "      <td>0</td>\n",
       "      <td>Breast cancer \"I fight like a girl\" ring</td>\n",
       "      <td>1</td>\n",
       "      <td>Women/Jewelry/Rings</td>\n",
       "      <td>NaN</td>\n",
       "      <td>1</td>\n",
       "      <td>Size 7</td>\n",
       "    </tr>\n",
       "    <tr>\n",
       "      <th>1</th>\n",
       "      <td>1</td>\n",
       "      <td>25 pcs NEW 7.5\"x12\" Kraft Bubble Mailers</td>\n",
       "      <td>1</td>\n",
       "      <td>Other/Office supplies/Shipping Supplies</td>\n",
       "      <td>NaN</td>\n",
       "      <td>1</td>\n",
       "      <td>25 pcs NEW 7.5\"x12\" Kraft Bubble Mailers Lined...</td>\n",
       "    </tr>\n",
       "    <tr>\n",
       "      <th>2</th>\n",
       "      <td>2</td>\n",
       "      <td>Coach bag</td>\n",
       "      <td>1</td>\n",
       "      <td>Vintage &amp; Collectibles/Bags and Purses/Handbag</td>\n",
       "      <td>Coach</td>\n",
       "      <td>1</td>\n",
       "      <td>Brand new coach bag. Bought for [rm] at a Coac...</td>\n",
       "    </tr>\n",
       "    <tr>\n",
       "      <th>3</th>\n",
       "      <td>3</td>\n",
       "      <td>Floral Kimono</td>\n",
       "      <td>2</td>\n",
       "      <td>Women/Sweaters/Cardigan</td>\n",
       "      <td>NaN</td>\n",
       "      <td>0</td>\n",
       "      <td>-floral kimono -never worn -lightweight and pe...</td>\n",
       "    </tr>\n",
       "    <tr>\n",
       "      <th>4</th>\n",
       "      <td>4</td>\n",
       "      <td>Life after Death</td>\n",
       "      <td>3</td>\n",
       "      <td>Other/Books/Religion &amp; Spirituality</td>\n",
       "      <td>NaN</td>\n",
       "      <td>1</td>\n",
       "      <td>Rediscovering life after the loss of a loved o...</td>\n",
       "    </tr>\n",
       "  </tbody>\n",
       "</table>\n",
       "</div>"
      ],
      "text/plain": [
       "   test_id                                      name  item_condition_id  \\\n",
       "0        0  Breast cancer \"I fight like a girl\" ring                  1   \n",
       "1        1  25 pcs NEW 7.5\"x12\" Kraft Bubble Mailers                  1   \n",
       "2        2                                 Coach bag                  1   \n",
       "3        3                             Floral Kimono                  2   \n",
       "4        4                          Life after Death                  3   \n",
       "\n",
       "                                    category_name brand_name  shipping  \\\n",
       "0                             Women/Jewelry/Rings        NaN         1   \n",
       "1         Other/Office supplies/Shipping Supplies        NaN         1   \n",
       "2  Vintage & Collectibles/Bags and Purses/Handbag      Coach         1   \n",
       "3                         Women/Sweaters/Cardigan        NaN         0   \n",
       "4             Other/Books/Religion & Spirituality        NaN         1   \n",
       "\n",
       "                                    item_description  \n",
       "0                                             Size 7  \n",
       "1  25 pcs NEW 7.5\"x12\" Kraft Bubble Mailers Lined...  \n",
       "2  Brand new coach bag. Bought for [rm] at a Coac...  \n",
       "3  -floral kimono -never worn -lightweight and pe...  \n",
       "4  Rediscovering life after the loss of a loved o...  "
      ]
     },
     "execution_count": 3,
     "metadata": {},
     "output_type": "execute_result"
    }
   ],
   "source": [
    "test = pd.read_csv('test.tsv',delimiter='\\t')\n",
    "test.head()"
   ]
  },
  {
   "cell_type": "code",
   "execution_count": 4,
   "metadata": {
    "_cell_guid": "0fb77e6d-36aa-4e9d-b810-39b7061f865b",
    "_uuid": "e7e5c2870981d063e835c9c7eca83f8e31726772"
   },
   "outputs": [
    {
     "data": {
      "text/plain": [
       "(1482535, 8)"
      ]
     },
     "execution_count": 4,
     "metadata": {},
     "output_type": "execute_result"
    }
   ],
   "source": [
    "train.shape"
   ]
  },
  {
   "cell_type": "code",
   "execution_count": 5,
   "metadata": {
    "_cell_guid": "2508720b-aabe-46fa-a512-0705ef2b46ae",
    "_uuid": "03ba1301d62e81697510e58f9af550e91395efc7"
   },
   "outputs": [
    {
     "data": {
      "text/plain": [
       "(693359, 7)"
      ]
     },
     "execution_count": 5,
     "metadata": {},
     "output_type": "execute_result"
    }
   ],
   "source": [
    "test.shape"
   ]
  },
  {
   "cell_type": "code",
   "execution_count": 6,
   "metadata": {
    "_cell_guid": "66f9fa59-0de5-466f-b9d4-9214cc35b243",
    "_uuid": "ce772ac78e294bc0d29b2225d3bba698f7caf918"
   },
   "outputs": [
    {
     "data": {
      "text/html": [
       "<div>\n",
       "<style>\n",
       "    .dataframe thead tr:only-child th {\n",
       "        text-align: right;\n",
       "    }\n",
       "\n",
       "    .dataframe thead th {\n",
       "        text-align: left;\n",
       "    }\n",
       "\n",
       "    .dataframe tbody tr th {\n",
       "        vertical-align: top;\n",
       "    }\n",
       "</style>\n",
       "<table border=\"1\" class=\"dataframe\">\n",
       "  <thead>\n",
       "    <tr style=\"text-align: right;\">\n",
       "      <th></th>\n",
       "      <th>train_id</th>\n",
       "      <th>name</th>\n",
       "      <th>item_condition_id</th>\n",
       "      <th>category_name</th>\n",
       "      <th>brand_name</th>\n",
       "      <th>price</th>\n",
       "      <th>shipping</th>\n",
       "      <th>item_description</th>\n",
       "    </tr>\n",
       "  </thead>\n",
       "  <tbody>\n",
       "    <tr>\n",
       "      <th>1482530</th>\n",
       "      <td>1482530</td>\n",
       "      <td>Free People Inspired Dress</td>\n",
       "      <td>2</td>\n",
       "      <td>Women/Dresses/Mid-Calf</td>\n",
       "      <td>Free People</td>\n",
       "      <td>20.0</td>\n",
       "      <td>1</td>\n",
       "      <td>Lace, says size small but fits medium perfectl...</td>\n",
       "    </tr>\n",
       "    <tr>\n",
       "      <th>1482531</th>\n",
       "      <td>1482531</td>\n",
       "      <td>Little mermaid handmade dress</td>\n",
       "      <td>2</td>\n",
       "      <td>Kids/Girls 2T-5T/Dresses</td>\n",
       "      <td>Disney</td>\n",
       "      <td>14.0</td>\n",
       "      <td>0</td>\n",
       "      <td>Little mermaid handmade dress never worn size 2t</td>\n",
       "    </tr>\n",
       "    <tr>\n",
       "      <th>1482532</th>\n",
       "      <td>1482532</td>\n",
       "      <td>21 day fix containers and eating plan</td>\n",
       "      <td>2</td>\n",
       "      <td>Sports &amp; Outdoors/Exercise/Fitness accessories</td>\n",
       "      <td>NaN</td>\n",
       "      <td>12.0</td>\n",
       "      <td>0</td>\n",
       "      <td>Used once or twice, still in great shape.</td>\n",
       "    </tr>\n",
       "    <tr>\n",
       "      <th>1482533</th>\n",
       "      <td>1482533</td>\n",
       "      <td>World markets lanterns</td>\n",
       "      <td>3</td>\n",
       "      <td>Home/Home Décor/Home Décor Accents</td>\n",
       "      <td>NaN</td>\n",
       "      <td>45.0</td>\n",
       "      <td>1</td>\n",
       "      <td>There is 2 of each one that you see! So 2 red ...</td>\n",
       "    </tr>\n",
       "    <tr>\n",
       "      <th>1482534</th>\n",
       "      <td>1482534</td>\n",
       "      <td>Brand new lux de ville wallet</td>\n",
       "      <td>1</td>\n",
       "      <td>Women/Women's Accessories/Wallets</td>\n",
       "      <td>NaN</td>\n",
       "      <td>22.0</td>\n",
       "      <td>0</td>\n",
       "      <td>New with tag, red with sparkle. Firm price, no...</td>\n",
       "    </tr>\n",
       "  </tbody>\n",
       "</table>\n",
       "</div>"
      ],
      "text/plain": [
       "         train_id                                   name  item_condition_id  \\\n",
       "1482530   1482530             Free People Inspired Dress                  2   \n",
       "1482531   1482531          Little mermaid handmade dress                  2   \n",
       "1482532   1482532  21 day fix containers and eating plan                  2   \n",
       "1482533   1482533                 World markets lanterns                  3   \n",
       "1482534   1482534          Brand new lux de ville wallet                  1   \n",
       "\n",
       "                                          category_name   brand_name  price  \\\n",
       "1482530                          Women/Dresses/Mid-Calf  Free People   20.0   \n",
       "1482531                        Kids/Girls 2T-5T/Dresses       Disney   14.0   \n",
       "1482532  Sports & Outdoors/Exercise/Fitness accessories          NaN   12.0   \n",
       "1482533              Home/Home Décor/Home Décor Accents          NaN   45.0   \n",
       "1482534               Women/Women's Accessories/Wallets          NaN   22.0   \n",
       "\n",
       "         shipping                                   item_description  \n",
       "1482530         1  Lace, says size small but fits medium perfectl...  \n",
       "1482531         0   Little mermaid handmade dress never worn size 2t  \n",
       "1482532         0          Used once or twice, still in great shape.  \n",
       "1482533         1  There is 2 of each one that you see! So 2 red ...  \n",
       "1482534         0  New with tag, red with sparkle. Firm price, no...  "
      ]
     },
     "execution_count": 6,
     "metadata": {},
     "output_type": "execute_result"
    }
   ],
   "source": [
    "train.tail()"
   ]
  },
  {
   "cell_type": "code",
   "execution_count": 7,
   "metadata": {
    "_cell_guid": "cc911a05-c70f-4e02-9cfc-d51c8025b24a",
    "_uuid": "275c2d23bc1df9ff97b025805bf5a68bff6d76a0"
   },
   "outputs": [
    {
     "data": {
      "text/html": [
       "<div>\n",
       "<style>\n",
       "    .dataframe thead tr:only-child th {\n",
       "        text-align: right;\n",
       "    }\n",
       "\n",
       "    .dataframe thead th {\n",
       "        text-align: left;\n",
       "    }\n",
       "\n",
       "    .dataframe tbody tr th {\n",
       "        vertical-align: top;\n",
       "    }\n",
       "</style>\n",
       "<table border=\"1\" class=\"dataframe\">\n",
       "  <thead>\n",
       "    <tr style=\"text-align: right;\">\n",
       "      <th></th>\n",
       "      <th>test_id</th>\n",
       "      <th>name</th>\n",
       "      <th>item_condition_id</th>\n",
       "      <th>category_name</th>\n",
       "      <th>brand_name</th>\n",
       "      <th>shipping</th>\n",
       "      <th>item_description</th>\n",
       "    </tr>\n",
       "  </thead>\n",
       "  <tbody>\n",
       "    <tr>\n",
       "      <th>693354</th>\n",
       "      <td>693354</td>\n",
       "      <td>Quartz crystal on Flint stone</td>\n",
       "      <td>1</td>\n",
       "      <td>Home/Home Décor/Home Décor Accents</td>\n",
       "      <td>NaN</td>\n",
       "      <td>0</td>\n",
       "      <td>Flint/Quartz cluster. Self mined ✨measures 3x2...</td>\n",
       "    </tr>\n",
       "    <tr>\n",
       "      <th>693355</th>\n",
       "      <td>693355</td>\n",
       "      <td>It Cosmetics - Travel Bundle</td>\n",
       "      <td>1</td>\n",
       "      <td>Beauty/Makeup/Makeup Sets</td>\n",
       "      <td>IT Cosmetics</td>\n",
       "      <td>1</td>\n",
       "      <td>It Cosmetics travel bundle. Includes: Brow pow...</td>\n",
       "    </tr>\n",
       "    <tr>\n",
       "      <th>693356</th>\n",
       "      <td>693356</td>\n",
       "      <td>Galaxy S8 hard shell case</td>\n",
       "      <td>1</td>\n",
       "      <td>Electronics/Cell Phones &amp; Accessories/Cases, C...</td>\n",
       "      <td>NaN</td>\n",
       "      <td>1</td>\n",
       "      <td>New. Free shipping Basstop case</td>\n",
       "    </tr>\n",
       "    <tr>\n",
       "      <th>693357</th>\n",
       "      <td>693357</td>\n",
       "      <td>Hi low floral kimono</td>\n",
       "      <td>2</td>\n",
       "      <td>Women/Swimwear/Cover-Ups</td>\n",
       "      <td>NaN</td>\n",
       "      <td>0</td>\n",
       "      <td>Floral kimono. Tropical print. Open front. Hi ...</td>\n",
       "    </tr>\n",
       "    <tr>\n",
       "      <th>693358</th>\n",
       "      <td>693358</td>\n",
       "      <td>FREESHIP 2 Floral Scrub Tops, medium.</td>\n",
       "      <td>2</td>\n",
       "      <td>Women/Tops &amp; Blouses/T-Shirts</td>\n",
       "      <td>NaN</td>\n",
       "      <td>1</td>\n",
       "      <td>2 Floral scrub tops. Worn less than 5 times ea...</td>\n",
       "    </tr>\n",
       "  </tbody>\n",
       "</table>\n",
       "</div>"
      ],
      "text/plain": [
       "        test_id                                   name  item_condition_id  \\\n",
       "693354   693354          Quartz crystal on Flint stone                  1   \n",
       "693355   693355           It Cosmetics - Travel Bundle                  1   \n",
       "693356   693356              Galaxy S8 hard shell case                  1   \n",
       "693357   693357                   Hi low floral kimono                  2   \n",
       "693358   693358  FREESHIP 2 Floral Scrub Tops, medium.                  2   \n",
       "\n",
       "                                            category_name    brand_name  \\\n",
       "693354                 Home/Home Décor/Home Décor Accents           NaN   \n",
       "693355                          Beauty/Makeup/Makeup Sets  IT Cosmetics   \n",
       "693356  Electronics/Cell Phones & Accessories/Cases, C...           NaN   \n",
       "693357                           Women/Swimwear/Cover-Ups           NaN   \n",
       "693358                      Women/Tops & Blouses/T-Shirts           NaN   \n",
       "\n",
       "        shipping                                   item_description  \n",
       "693354         0  Flint/Quartz cluster. Self mined ✨measures 3x2...  \n",
       "693355         1  It Cosmetics travel bundle. Includes: Brow pow...  \n",
       "693356         1                    New. Free shipping Basstop case  \n",
       "693357         0  Floral kimono. Tropical print. Open front. Hi ...  \n",
       "693358         1  2 Floral scrub tops. Worn less than 5 times ea...  "
      ]
     },
     "execution_count": 7,
     "metadata": {},
     "output_type": "execute_result"
    }
   ],
   "source": [
    "test.tail()"
   ]
  },
  {
   "cell_type": "code",
   "execution_count": 8,
   "metadata": {
    "_cell_guid": "0539a7b4-fa41-49a4-afc1-6d6750cc71ec",
    "_uuid": "77982955b67d3e914349faad070207a39e80d0ed"
   },
   "outputs": [
    {
     "data": {
      "text/plain": [
       "train_id                  0\n",
       "name                      0\n",
       "item_condition_id         0\n",
       "category_name          6327\n",
       "brand_name           632682\n",
       "price                     0\n",
       "shipping                  0\n",
       "item_description          4\n",
       "dtype: int64"
      ]
     },
     "execution_count": 8,
     "metadata": {},
     "output_type": "execute_result"
    }
   ],
   "source": [
    "train.isnull().sum()"
   ]
  },
  {
   "cell_type": "code",
   "execution_count": 9,
   "metadata": {
    "_cell_guid": "f0a80881-8d96-4ee0-ae0c-7a1fd0fc752c",
    "_uuid": "7af054c9e159bd95887a91412288700e045c341f"
   },
   "outputs": [
    {
     "data": {
      "text/plain": [
       "test_id                   0\n",
       "name                      0\n",
       "item_condition_id         0\n",
       "category_name          3058\n",
       "brand_name           295525\n",
       "shipping                  0\n",
       "item_description          0\n",
       "dtype: int64"
      ]
     },
     "execution_count": 9,
     "metadata": {},
     "output_type": "execute_result"
    }
   ],
   "source": [
    "test.isnull().sum()"
   ]
  },
  {
   "cell_type": "code",
   "execution_count": 10,
   "metadata": {
    "_cell_guid": "3ad0f7b6-5fc7-4c5f-850a-71b68bf3f012",
    "_uuid": "4e419c8c75e0e57e432a211c26e22ac9df61f20a",
    "collapsed": true
   },
   "outputs": [],
   "source": [
    "train.set_index('train_id',inplace=True)\n",
    "test.set_index('test_id',inplace=True)"
   ]
  },
  {
   "cell_type": "code",
   "execution_count": 11,
   "metadata": {
    "_cell_guid": "cf9ac510-6b99-4eeb-b1ea-d64eb5d03eb7",
    "_uuid": "70fc2aee881d89aa49aa5d4bbe92706d640f48f2",
    "collapsed": true
   },
   "outputs": [],
   "source": [
    "train.fillna('None',inplace=True)\n",
    "test.fillna('None',inplace=True)"
   ]
  },
  {
   "cell_type": "markdown",
   "metadata": {
    "_cell_guid": "b452da98-d399-4a12-902f-7af87f70aafd",
    "_uuid": "c73b5cdafdeb0ad0fdeeb1fe72e399ea7e902cb6"
   },
   "source": [
    "### Handling Brands"
   ]
  },
  {
   "cell_type": "code",
   "execution_count": 12,
   "metadata": {
    "_cell_guid": "40f6573a-e012-4fbb-a258-d0827a91529f",
    "_uuid": "c1502740e27b91899a84296f750bac01b9073bf0",
    "collapsed": true
   },
   "outputs": [],
   "source": [
    "brand_train = train['brand_name'].unique().tolist()\n",
    "brand_test = test['brand_name'].unique().tolist()"
   ]
  },
  {
   "cell_type": "code",
   "execution_count": 13,
   "metadata": {
    "_cell_guid": "cea1648a-d736-4bbe-8d08-d205ace30204",
    "_uuid": "131f306f69ffd6d32defa784b8a52860675cf62d",
    "collapsed": true
   },
   "outputs": [],
   "source": [
    "nonbrand = list()\n",
    "for val in brand_test:\n",
    "    if val not in brand_train:\n",
    "        nonbrand.append(val)"
   ]
  },
  {
   "cell_type": "code",
   "execution_count": 14,
   "metadata": {
    "_cell_guid": "f89ceafb-1b08-48b4-94fb-85e3ef73bb11",
    "_uuid": "252cf51ae6461355a2398a9f802196b27bf54487",
    "collapsed": true
   },
   "outputs": [],
   "source": [
    "for val in nonbrand:\n",
    "    brand_test.remove(val)"
   ]
  },
  {
   "cell_type": "code",
   "execution_count": 15,
   "metadata": {
    "_cell_guid": "9b45a186-3bd4-4f3c-88ab-ae9fe010e5a6",
    "_uuid": "b6f358372abfb2e06bef73c66bb4bfdb9485272d",
    "collapsed": true
   },
   "outputs": [],
   "source": [
    "train['brand_mean_price'] = 0.0\n",
    "train['brand_std_dev'] = 0.0"
   ]
  },
  {
   "cell_type": "code",
   "execution_count": 16,
   "metadata": {
    "_cell_guid": "39234165-4ed8-4806-8149-3d29020e8b13",
    "_uuid": "980426445213dc7ece94b947acb73198d66442db",
    "collapsed": true
   },
   "outputs": [],
   "source": [
    "for val in brand_train:\n",
    "    temp = train[train['brand_name']==val]\n",
    "    avg = temp['price'].mean()\n",
    "    std = temp['price'].std()\n",
    "    for i,row in temp.iterrows():\n",
    "        train.at[i,'brand_mean_price'] = avg\n",
    "        train.at[i,'brand_std_dev'] = std"
   ]
  },
  {
   "cell_type": "code",
   "execution_count": 17,
   "metadata": {
    "_cell_guid": "9ecdbdd5-dd58-44cc-ab6b-2a75001916d4",
    "_uuid": "8c2ed00f663d2c8a602b80453033d870b5a48698",
    "collapsed": true
   },
   "outputs": [],
   "source": [
    "test['brand_mean_price'] = 0.0\n",
    "test['brand_std_dev'] = 0.0"
   ]
  },
  {
   "cell_type": "code",
   "execution_count": 18,
   "metadata": {
    "_cell_guid": "74aef758-6daf-482d-864d-f35218533e26",
    "_uuid": "1379175c18b46d28fdf37cb95e67f839714e18ed",
    "collapsed": true
   },
   "outputs": [],
   "source": [
    "for val in brand_test:\n",
    "    temp = test[test['brand_name']==val]\n",
    "    data = train[train['brand_name']==val]\n",
    "    avg = data.iloc[0]['brand_mean_price']\n",
    "    std = data.iloc[0]['brand_std_dev']\n",
    "    for i,row in temp.iterrows():\n",
    "        test.at[i,'brand_mean_price'] = avg\n",
    "        test.at[i,'brand_std_dev'] = std"
   ]
  },
  {
   "cell_type": "code",
   "execution_count": 19,
   "metadata": {
    "_cell_guid": "e382f6cf-67d3-4fa6-b3ea-94d24e350b6c",
    "_uuid": "f1d8a2bd381d95d770e8e5998687cf685262a67f",
    "collapsed": true
   },
   "outputs": [],
   "source": [
    "train.fillna(0.0,inplace=True)"
   ]
  },
  {
   "cell_type": "code",
   "execution_count": 20,
   "metadata": {
    "_cell_guid": "21333fea-a471-47a4-bd10-87c124db0f26",
    "_uuid": "a5966c2fabf030d471305e726e524ce163f14b81",
    "collapsed": true
   },
   "outputs": [],
   "source": [
    "test.fillna(0.0,inplace=True)"
   ]
  },
  {
   "cell_type": "code",
   "execution_count": 21,
   "metadata": {
    "_cell_guid": "410be19c-6df7-44f9-a97e-913413517077",
    "_uuid": "911ac18b316435eec5105be79b5ad2b35d68142a",
    "collapsed": true
   },
   "outputs": [],
   "source": [
    "train['branded'] = 1"
   ]
  },
  {
   "cell_type": "code",
   "execution_count": 22,
   "metadata": {
    "_cell_guid": "0cafffae-4697-461b-b6f2-e6129af2a320",
    "_uuid": "78ce1275a45d954d7ba1ec69d9d5f9067669defc",
    "collapsed": true
   },
   "outputs": [],
   "source": [
    "for i,row in train.iterrows():\n",
    "    if row['brand_name'] == 'None':\n",
    "        train.at[i,'branded'] = 0"
   ]
  },
  {
   "cell_type": "code",
   "execution_count": 23,
   "metadata": {
    "_cell_guid": "786765a6-1125-41ef-bad6-71019054ef23",
    "_uuid": "1c42c5d4723a56302761e808da8869cf8814f44e",
    "collapsed": true
   },
   "outputs": [],
   "source": [
    "test['branded'] = 1"
   ]
  },
  {
   "cell_type": "code",
   "execution_count": 24,
   "metadata": {
    "_cell_guid": "51657dd1-4807-4e06-b489-5c4f52f07587",
    "_uuid": "76994f199b052054cc6fa7b5362e605245368787",
    "collapsed": true
   },
   "outputs": [],
   "source": [
    "for i,row in test.iterrows():\n",
    "    if row['brand_name'] == 'None':\n",
    "        test.at[i,'branded'] = 0"
   ]
  },
  {
   "cell_type": "code",
   "execution_count": 25,
   "metadata": {
    "_cell_guid": "3e9c6d91-455f-40bc-97a2-95552da984fa",
    "_uuid": "8abda94738692c74e8e2a0f855ce78faae1f8af3",
    "collapsed": true
   },
   "outputs": [],
   "source": [
    "train['upper_price_limit'] = train['brand_mean_price'] + train['brand_std_dev']\n",
    "test['upper_price_limit'] = test['brand_mean_price'] + test['brand_std_dev']"
   ]
  },
  {
   "cell_type": "code",
   "execution_count": 26,
   "metadata": {
    "_cell_guid": "e90174ad-fdd9-4c92-885e-58401e9831e1",
    "_uuid": "91f88d0eab802dce01a2fa992bffe79fb744cee4",
    "collapsed": true
   },
   "outputs": [],
   "source": [
    "train['lower_price_limit'] = abs(train['brand_mean_price'] - train['brand_std_dev'])\n",
    "test['lower_price_limit'] = abs(test['brand_mean_price'] - test['brand_std_dev'])"
   ]
  },
  {
   "cell_type": "code",
   "execution_count": 27,
   "metadata": {
    "_cell_guid": "3836442d-76ee-4e4e-beb9-1f628d766c02",
    "_uuid": "b2f0d26bc95a689a8bde9097e86cf87a93f7f9c8"
   },
   "outputs": [
    {
     "data": {
      "text/plain": [
       "['name',\n",
       " 'item_condition_id',\n",
       " 'category_name',\n",
       " 'brand_name',\n",
       " 'price',\n",
       " 'shipping',\n",
       " 'item_description',\n",
       " 'brand_mean_price',\n",
       " 'brand_std_dev',\n",
       " 'branded',\n",
       " 'upper_price_limit',\n",
       " 'lower_price_limit']"
      ]
     },
     "execution_count": 27,
     "metadata": {},
     "output_type": "execute_result"
    }
   ],
   "source": [
    "train_list = train.columns.tolist()\n",
    "train_list"
   ]
  },
  {
   "cell_type": "code",
   "execution_count": 28,
   "metadata": {
    "_cell_guid": "903a15c3-66b8-4850-8ab0-10ed9131209c",
    "_uuid": "1d8f057fdde3b44b5bdadb36fdd7141fac9ab8d2",
    "collapsed": true
   },
   "outputs": [],
   "source": [
    "train_price = train[['item_condition_id','price','shipping','brand_mean_price','brand_std_dev','branded','upper_price_limit','lower_price_limit']]"
   ]
  },
  {
   "cell_type": "code",
   "execution_count": 29,
   "metadata": {
    "_cell_guid": "c28f6e3b-ac5f-46f6-a310-755e7da90ac8",
    "_uuid": "9898306a7bd0dda04f32f143c75efe765429eef0"
   },
   "outputs": [
    {
     "data": {
      "text/plain": [
       "['name',\n",
       " 'item_condition_id',\n",
       " 'category_name',\n",
       " 'brand_name',\n",
       " 'shipping',\n",
       " 'item_description',\n",
       " 'brand_mean_price',\n",
       " 'brand_std_dev',\n",
       " 'branded',\n",
       " 'upper_price_limit',\n",
       " 'lower_price_limit']"
      ]
     },
     "execution_count": 29,
     "metadata": {},
     "output_type": "execute_result"
    }
   ],
   "source": [
    "test_list = test.columns.tolist()\n",
    "test_list"
   ]
  },
  {
   "cell_type": "code",
   "execution_count": 30,
   "metadata": {
    "_cell_guid": "81c5306e-fa95-4a22-a811-d4efa658cff8",
    "_uuid": "64c1ce0dcbd55b1d939f2d055430ec48a9c973f2",
    "collapsed": true
   },
   "outputs": [],
   "source": [
    "test_price = test[['item_condition_id','shipping','brand_mean_price','brand_std_dev','branded','upper_price_limit','lower_price_limit']]"
   ]
  },
  {
   "cell_type": "code",
   "execution_count": 31,
   "metadata": {
    "_cell_guid": "9d691fd7-1a14-498e-ab23-cc0a1769a9b1",
    "_uuid": "105d0ab01e2c78fa9ab6d7013a33bd2f207def1c",
    "collapsed": true
   },
   "outputs": [],
   "source": [
    "X_cols = train_price.columns.tolist()\n",
    "X_cols.remove('price')\n",
    "X = train_price[X_cols]\n",
    "y = train_price['price']"
   ]
  },
  {
   "cell_type": "code",
   "execution_count": 32,
   "metadata": {
    "_cell_guid": "8d925efc-43ab-46c7-a4b0-60cb98d8fd50",
    "_uuid": "65f4d9b3024bc06aa3ca29d2ad8babbe14ef1003"
   },
   "outputs": [
    {
     "data": {
      "text/plain": [
       "RandomForestRegressor(bootstrap=True, criterion='mse', max_depth=None,\n",
       "           max_features='auto', max_leaf_nodes=None,\n",
       "           min_impurity_decrease=0.0, min_impurity_split=None,\n",
       "           min_samples_leaf=50, min_samples_split=2,\n",
       "           min_weight_fraction_leaf=0.0, n_estimators=50, n_jobs=-1,\n",
       "           oob_score=False, random_state=None, verbose=0, warm_start=False)"
      ]
     },
     "execution_count": 32,
     "metadata": {},
     "output_type": "execute_result"
    }
   ],
   "source": [
    "rfr_s = RandomForestRegressor(min_samples_leaf=50, n_estimators=50, n_jobs=-1)\n",
    "rfr_s.fit(X,y)"
   ]
  },
  {
   "cell_type": "code",
   "execution_count": 33,
   "metadata": {
    "_uuid": "9beea852625149d31cb39cdb00e39de973a5e5f6",
    "collapsed": true
   },
   "outputs": [],
   "source": [
    "sub_f = pd.read_csv('sample_submission.csv')"
   ]
  },
  {
   "cell_type": "code",
   "execution_count": 34,
   "metadata": {
    "_cell_guid": "93193ef1-9e91-408c-b9d8-2a18237135ed",
    "_uuid": "0ba220e35d828f2394b7399e8e62c94a2a9b468f",
    "collapsed": true
   },
   "outputs": [],
   "source": [
    "sub_f['price'] = rfr_s.predict(test_price)"
   ]
  },
  {
   "cell_type": "code",
   "execution_count": 35,
   "metadata": {
    "_cell_guid": "593a1993-c876-462a-81fd-b841a1857638",
    "_uuid": "5add310c8f3f7a64763cf793388a351339ff91d8",
    "collapsed": true
   },
   "outputs": [],
   "source": [
    "sub_f.to_csv('rf_tp_v1.csv', index=False)"
   ]
  },
  {
   "cell_type": "code",
   "execution_count": 39,
   "metadata": {},
   "outputs": [
    {
     "data": {
      "text/plain": [
       "item_condition_id    0\n",
       "price                0\n",
       "shipping             0\n",
       "brand_mean_price     0\n",
       "brand_std_dev        0\n",
       "branded              0\n",
       "upper_price_limit    0\n",
       "lower_price_limit    0\n",
       "dtype: int64"
      ]
     },
     "execution_count": 39,
     "metadata": {},
     "output_type": "execute_result"
    }
   ],
   "source": []
  }
 ],
 "metadata": {
  "kernelspec": {
   "display_name": "Python 3",
   "language": "python",
   "name": "python3"
  },
  "language_info": {
   "codemirror_mode": {
    "name": "ipython",
    "version": 3
   },
   "file_extension": ".py",
   "mimetype": "text/x-python",
   "name": "python",
   "nbconvert_exporter": "python",
   "pygments_lexer": "ipython3",
   "version": "3.6.3"
  }
 },
 "nbformat": 4,
 "nbformat_minor": 1
}
