{
 "cells": [
  {
   "cell_type": "code",
   "execution_count": 57,
   "metadata": {
    "collapsed": true
   },
   "outputs": [],
   "source": [
    "import pandas as pd\n",
    "import numpy as np\n",
    "import matplotlib.pyplot as plt\n",
    "\n",
    "from sklearn.model_selection import ParameterGrid\n",
    "from sklearn.ensemble import RandomForestRegressor\n",
    "from sklearn.neural_network import MLPRegressor\n",
    "from sklearn.metrics import mean_absolute_error\n",
    "from sklearn.metrics import mean_squared_log_error\n",
    "from sklearn.model_selection import train_test_split\n",
    "from sklearn.model_selection import GridSearchCV\n",
    "from sklearn.metrics import make_scorer\n",
    "from sklearn.preprocessing import MinMaxScaler\n",
    "from sklearn.preprocessing import StandardScaler"
   ]
  },
  {
   "cell_type": "code",
   "execution_count": 58,
   "metadata": {},
   "outputs": [
    {
     "data": {
      "text/html": [
       "<div>\n",
       "<style>\n",
       "    .dataframe thead tr:only-child th {\n",
       "        text-align: right;\n",
       "    }\n",
       "\n",
       "    .dataframe thead th {\n",
       "        text-align: left;\n",
       "    }\n",
       "\n",
       "    .dataframe tbody tr th {\n",
       "        vertical-align: top;\n",
       "    }\n",
       "</style>\n",
       "<table border=\"1\" class=\"dataframe\">\n",
       "  <thead>\n",
       "    <tr style=\"text-align: right;\">\n",
       "      <th></th>\n",
       "      <th>id</th>\n",
       "      <th>spacegroup</th>\n",
       "      <th>number_of_total_atoms</th>\n",
       "      <th>percent_atom_al</th>\n",
       "      <th>percent_atom_ga</th>\n",
       "      <th>percent_atom_in</th>\n",
       "      <th>lattice_vector_1_ang</th>\n",
       "      <th>lattice_vector_2_ang</th>\n",
       "      <th>lattice_vector_3_ang</th>\n",
       "      <th>lattice_angle_alpha_degree</th>\n",
       "      <th>lattice_angle_beta_degree</th>\n",
       "      <th>lattice_angle_gamma_degree</th>\n",
       "      <th>formation_energy_ev_natom</th>\n",
       "      <th>bandgap_energy_ev</th>\n",
       "      <th>potential</th>\n",
       "      <th>pack_dens</th>\n",
       "      <th>volume</th>\n",
       "      <th>group15</th>\n",
       "      <th>group17</th>\n",
       "      <th>int_atm_dist</th>\n",
       "    </tr>\n",
       "  </thead>\n",
       "  <tbody>\n",
       "    <tr>\n",
       "      <th>0</th>\n",
       "      <td>1.0</td>\n",
       "      <td>33.0</td>\n",
       "      <td>80.0</td>\n",
       "      <td>0.6250</td>\n",
       "      <td>0.3750</td>\n",
       "      <td>0.000</td>\n",
       "      <td>9.9523</td>\n",
       "      <td>8.5513</td>\n",
       "      <td>9.1775</td>\n",
       "      <td>90.0026</td>\n",
       "      <td>90.0023</td>\n",
       "      <td>90.0017</td>\n",
       "      <td>0.0680</td>\n",
       "      <td>3.4387</td>\n",
       "      <td>-31.454381</td>\n",
       "      <td>6.201844</td>\n",
       "      <td>621.360462</td>\n",
       "      <td>32.0</td>\n",
       "      <td>48.0</td>\n",
       "      <td>6.146797</td>\n",
       "    </tr>\n",
       "    <tr>\n",
       "      <th>1</th>\n",
       "      <td>2.0</td>\n",
       "      <td>194.0</td>\n",
       "      <td>80.0</td>\n",
       "      <td>0.6250</td>\n",
       "      <td>0.3750</td>\n",
       "      <td>0.000</td>\n",
       "      <td>6.1840</td>\n",
       "      <td>6.1838</td>\n",
       "      <td>23.6287</td>\n",
       "      <td>90.0186</td>\n",
       "      <td>89.9980</td>\n",
       "      <td>120.0025</td>\n",
       "      <td>0.2490</td>\n",
       "      <td>2.9210</td>\n",
       "      <td>-52.179568</td>\n",
       "      <td>8.993174</td>\n",
       "      <td>3044.057423</td>\n",
       "      <td>32.0</td>\n",
       "      <td>48.0</td>\n",
       "      <td>8.935653</td>\n",
       "    </tr>\n",
       "    <tr>\n",
       "      <th>2</th>\n",
       "      <td>3.0</td>\n",
       "      <td>227.0</td>\n",
       "      <td>40.0</td>\n",
       "      <td>0.8125</td>\n",
       "      <td>0.1875</td>\n",
       "      <td>0.000</td>\n",
       "      <td>9.7510</td>\n",
       "      <td>5.6595</td>\n",
       "      <td>13.9630</td>\n",
       "      <td>90.9688</td>\n",
       "      <td>91.1228</td>\n",
       "      <td>30.5185</td>\n",
       "      <td>0.1821</td>\n",
       "      <td>2.7438</td>\n",
       "      <td>-53.636758</td>\n",
       "      <td>6.580119</td>\n",
       "      <td>1015.527437</td>\n",
       "      <td>16.0</td>\n",
       "      <td>24.0</td>\n",
       "      <td>6.458938</td>\n",
       "    </tr>\n",
       "    <tr>\n",
       "      <th>3</th>\n",
       "      <td>4.0</td>\n",
       "      <td>167.0</td>\n",
       "      <td>30.0</td>\n",
       "      <td>0.7500</td>\n",
       "      <td>0.0000</td>\n",
       "      <td>0.250</td>\n",
       "      <td>5.0036</td>\n",
       "      <td>5.0034</td>\n",
       "      <td>13.5318</td>\n",
       "      <td>89.9888</td>\n",
       "      <td>90.0119</td>\n",
       "      <td>120.0017</td>\n",
       "      <td>0.2172</td>\n",
       "      <td>3.3492</td>\n",
       "      <td>-50.088740</td>\n",
       "      <td>5.664797</td>\n",
       "      <td>639.459800</td>\n",
       "      <td>12.0</td>\n",
       "      <td>18.0</td>\n",
       "      <td>5.515954</td>\n",
       "    </tr>\n",
       "    <tr>\n",
       "      <th>4</th>\n",
       "      <td>5.0</td>\n",
       "      <td>194.0</td>\n",
       "      <td>80.0</td>\n",
       "      <td>0.0000</td>\n",
       "      <td>0.6250</td>\n",
       "      <td>0.375</td>\n",
       "      <td>6.6614</td>\n",
       "      <td>6.6612</td>\n",
       "      <td>24.5813</td>\n",
       "      <td>89.9960</td>\n",
       "      <td>90.0006</td>\n",
       "      <td>119.9893</td>\n",
       "      <td>0.0505</td>\n",
       "      <td>1.3793</td>\n",
       "      <td>-49.030109</td>\n",
       "      <td>9.415613</td>\n",
       "      <td>3425.724109</td>\n",
       "      <td>32.0</td>\n",
       "      <td>48.0</td>\n",
       "      <td>9.355149</td>\n",
       "    </tr>\n",
       "  </tbody>\n",
       "</table>\n",
       "</div>"
      ],
      "text/plain": [
       "    id  spacegroup  number_of_total_atoms  percent_atom_al  percent_atom_ga  \\\n",
       "0  1.0        33.0                   80.0           0.6250           0.3750   \n",
       "1  2.0       194.0                   80.0           0.6250           0.3750   \n",
       "2  3.0       227.0                   40.0           0.8125           0.1875   \n",
       "3  4.0       167.0                   30.0           0.7500           0.0000   \n",
       "4  5.0       194.0                   80.0           0.0000           0.6250   \n",
       "\n",
       "   percent_atom_in  lattice_vector_1_ang  lattice_vector_2_ang  \\\n",
       "0            0.000                9.9523                8.5513   \n",
       "1            0.000                6.1840                6.1838   \n",
       "2            0.000                9.7510                5.6595   \n",
       "3            0.250                5.0036                5.0034   \n",
       "4            0.375                6.6614                6.6612   \n",
       "\n",
       "   lattice_vector_3_ang  lattice_angle_alpha_degree  \\\n",
       "0                9.1775                     90.0026   \n",
       "1               23.6287                     90.0186   \n",
       "2               13.9630                     90.9688   \n",
       "3               13.5318                     89.9888   \n",
       "4               24.5813                     89.9960   \n",
       "\n",
       "   lattice_angle_beta_degree  lattice_angle_gamma_degree  \\\n",
       "0                    90.0023                     90.0017   \n",
       "1                    89.9980                    120.0025   \n",
       "2                    91.1228                     30.5185   \n",
       "3                    90.0119                    120.0017   \n",
       "4                    90.0006                    119.9893   \n",
       "\n",
       "   formation_energy_ev_natom  bandgap_energy_ev  potential  pack_dens  \\\n",
       "0                     0.0680             3.4387 -31.454381   6.201844   \n",
       "1                     0.2490             2.9210 -52.179568   8.993174   \n",
       "2                     0.1821             2.7438 -53.636758   6.580119   \n",
       "3                     0.2172             3.3492 -50.088740   5.664797   \n",
       "4                     0.0505             1.3793 -49.030109   9.415613   \n",
       "\n",
       "        volume  group15  group17  int_atm_dist  \n",
       "0   621.360462     32.0     48.0      6.146797  \n",
       "1  3044.057423     32.0     48.0      8.935653  \n",
       "2  1015.527437     16.0     24.0      6.458938  \n",
       "3   639.459800     12.0     18.0      5.515954  \n",
       "4  3425.724109     32.0     48.0      9.355149  "
      ]
     },
     "execution_count": 58,
     "metadata": {},
     "output_type": "execute_result"
    }
   ],
   "source": [
    "train = pd.read_csv('train_v2.csv')\n",
    "train.head()"
   ]
  },
  {
   "cell_type": "code",
   "execution_count": 59,
   "metadata": {},
   "outputs": [
    {
     "data": {
      "text/html": [
       "<div>\n",
       "<style>\n",
       "    .dataframe thead tr:only-child th {\n",
       "        text-align: right;\n",
       "    }\n",
       "\n",
       "    .dataframe thead th {\n",
       "        text-align: left;\n",
       "    }\n",
       "\n",
       "    .dataframe tbody tr th {\n",
       "        vertical-align: top;\n",
       "    }\n",
       "</style>\n",
       "<table border=\"1\" class=\"dataframe\">\n",
       "  <thead>\n",
       "    <tr style=\"text-align: right;\">\n",
       "      <th></th>\n",
       "      <th>id</th>\n",
       "      <th>spacegroup</th>\n",
       "      <th>number_of_total_atoms</th>\n",
       "      <th>percent_atom_al</th>\n",
       "      <th>percent_atom_ga</th>\n",
       "      <th>percent_atom_in</th>\n",
       "      <th>lattice_vector_1_ang</th>\n",
       "      <th>lattice_vector_2_ang</th>\n",
       "      <th>lattice_vector_3_ang</th>\n",
       "      <th>lattice_angle_alpha_degree</th>\n",
       "      <th>lattice_angle_beta_degree</th>\n",
       "      <th>lattice_angle_gamma_degree</th>\n",
       "      <th>potential</th>\n",
       "      <th>pack_dens</th>\n",
       "      <th>volume</th>\n",
       "      <th>group15</th>\n",
       "      <th>group17</th>\n",
       "      <th>int_atm_dist</th>\n",
       "    </tr>\n",
       "  </thead>\n",
       "  <tbody>\n",
       "    <tr>\n",
       "      <th>0</th>\n",
       "      <td>1</td>\n",
       "      <td>33</td>\n",
       "      <td>80.0</td>\n",
       "      <td>0.1875</td>\n",
       "      <td>0.4688</td>\n",
       "      <td>0.3438</td>\n",
       "      <td>10.5381</td>\n",
       "      <td>9.0141</td>\n",
       "      <td>9.6361</td>\n",
       "      <td>89.9997</td>\n",
       "      <td>90.0003</td>\n",
       "      <td>90.0006</td>\n",
       "      <td>-29.947552</td>\n",
       "      <td>6.539984</td>\n",
       "      <td>728.750084</td>\n",
       "      <td>32</td>\n",
       "      <td>48</td>\n",
       "      <td>6.481714</td>\n",
       "    </tr>\n",
       "    <tr>\n",
       "      <th>1</th>\n",
       "      <td>2</td>\n",
       "      <td>33</td>\n",
       "      <td>80.0</td>\n",
       "      <td>0.7500</td>\n",
       "      <td>0.2500</td>\n",
       "      <td>0.0000</td>\n",
       "      <td>9.8938</td>\n",
       "      <td>8.5014</td>\n",
       "      <td>9.1298</td>\n",
       "      <td>90.0038</td>\n",
       "      <td>90.0023</td>\n",
       "      <td>90.0015</td>\n",
       "      <td>-31.620734</td>\n",
       "      <td>6.166898</td>\n",
       "      <td>610.894869</td>\n",
       "      <td>32</td>\n",
       "      <td>48</td>\n",
       "      <td>6.112181</td>\n",
       "    </tr>\n",
       "    <tr>\n",
       "      <th>2</th>\n",
       "      <td>3</td>\n",
       "      <td>167</td>\n",
       "      <td>30.0</td>\n",
       "      <td>0.6667</td>\n",
       "      <td>0.1667</td>\n",
       "      <td>0.1667</td>\n",
       "      <td>4.9811</td>\n",
       "      <td>4.9808</td>\n",
       "      <td>13.4799</td>\n",
       "      <td>89.9900</td>\n",
       "      <td>90.0109</td>\n",
       "      <td>120.0014</td>\n",
       "      <td>-50.717980</td>\n",
       "      <td>5.647889</td>\n",
       "      <td>632.683731</td>\n",
       "      <td>12</td>\n",
       "      <td>18</td>\n",
       "      <td>5.499618</td>\n",
       "    </tr>\n",
       "    <tr>\n",
       "      <th>3</th>\n",
       "      <td>4</td>\n",
       "      <td>12</td>\n",
       "      <td>80.0</td>\n",
       "      <td>0.5625</td>\n",
       "      <td>0.4375</td>\n",
       "      <td>0.0000</td>\n",
       "      <td>24.3370</td>\n",
       "      <td>6.0091</td>\n",
       "      <td>5.7620</td>\n",
       "      <td>89.9995</td>\n",
       "      <td>103.8581</td>\n",
       "      <td>90.0002</td>\n",
       "      <td>-86.814480</td>\n",
       "      <td>9.143618</td>\n",
       "      <td>3303.118777</td>\n",
       "      <td>32</td>\n",
       "      <td>48</td>\n",
       "      <td>9.029838</td>\n",
       "    </tr>\n",
       "    <tr>\n",
       "      <th>4</th>\n",
       "      <td>5</td>\n",
       "      <td>12</td>\n",
       "      <td>80.0</td>\n",
       "      <td>0.1875</td>\n",
       "      <td>0.5000</td>\n",
       "      <td>0.3125</td>\n",
       "      <td>24.6443</td>\n",
       "      <td>6.2906</td>\n",
       "      <td>6.1589</td>\n",
       "      <td>90.0000</td>\n",
       "      <td>104.5929</td>\n",
       "      <td>90.0001</td>\n",
       "      <td>-82.581758</td>\n",
       "      <td>9.324523</td>\n",
       "      <td>3403.103832</td>\n",
       "      <td>32</td>\n",
       "      <td>48</td>\n",
       "      <td>9.208523</td>\n",
       "    </tr>\n",
       "  </tbody>\n",
       "</table>\n",
       "</div>"
      ],
      "text/plain": [
       "   id  spacegroup  number_of_total_atoms  percent_atom_al  percent_atom_ga  \\\n",
       "0   1          33                   80.0           0.1875           0.4688   \n",
       "1   2          33                   80.0           0.7500           0.2500   \n",
       "2   3         167                   30.0           0.6667           0.1667   \n",
       "3   4          12                   80.0           0.5625           0.4375   \n",
       "4   5          12                   80.0           0.1875           0.5000   \n",
       "\n",
       "   percent_atom_in  lattice_vector_1_ang  lattice_vector_2_ang  \\\n",
       "0           0.3438               10.5381                9.0141   \n",
       "1           0.0000                9.8938                8.5014   \n",
       "2           0.1667                4.9811                4.9808   \n",
       "3           0.0000               24.3370                6.0091   \n",
       "4           0.3125               24.6443                6.2906   \n",
       "\n",
       "   lattice_vector_3_ang  lattice_angle_alpha_degree  \\\n",
       "0                9.6361                     89.9997   \n",
       "1                9.1298                     90.0038   \n",
       "2               13.4799                     89.9900   \n",
       "3                5.7620                     89.9995   \n",
       "4                6.1589                     90.0000   \n",
       "\n",
       "   lattice_angle_beta_degree  lattice_angle_gamma_degree  potential  \\\n",
       "0                    90.0003                     90.0006 -29.947552   \n",
       "1                    90.0023                     90.0015 -31.620734   \n",
       "2                    90.0109                    120.0014 -50.717980   \n",
       "3                   103.8581                     90.0002 -86.814480   \n",
       "4                   104.5929                     90.0001 -82.581758   \n",
       "\n",
       "   pack_dens       volume  group15  group17  int_atm_dist  \n",
       "0   6.539984   728.750084       32       48      6.481714  \n",
       "1   6.166898   610.894869       32       48      6.112181  \n",
       "2   5.647889   632.683731       12       18      5.499618  \n",
       "3   9.143618  3303.118777       32       48      9.029838  \n",
       "4   9.324523  3403.103832       32       48      9.208523  "
      ]
     },
     "execution_count": 59,
     "metadata": {},
     "output_type": "execute_result"
    }
   ],
   "source": [
    "test = pd.read_csv('test_v2.csv')\n",
    "test.head()"
   ]
  },
  {
   "cell_type": "code",
   "execution_count": 60,
   "metadata": {},
   "outputs": [
    {
     "name": "stdout",
     "output_type": "stream",
     "text": [
      "(2400, 20)\n",
      "(600, 18)\n"
     ]
    }
   ],
   "source": [
    "print(train.shape)\n",
    "print(test.shape)"
   ]
  },
  {
   "cell_type": "code",
   "execution_count": 61,
   "metadata": {
    "collapsed": true
   },
   "outputs": [],
   "source": [
    "train.id = train.id.astype(int)"
   ]
  },
  {
   "cell_type": "code",
   "execution_count": 62,
   "metadata": {
    "collapsed": true
   },
   "outputs": [],
   "source": [
    "train.set_index('id', inplace=True)\n",
    "test.set_index('id', inplace=True)"
   ]
  },
  {
   "cell_type": "code",
   "execution_count": 63,
   "metadata": {},
   "outputs": [
    {
     "data": {
      "text/html": [
       "<div>\n",
       "<style>\n",
       "    .dataframe thead tr:only-child th {\n",
       "        text-align: right;\n",
       "    }\n",
       "\n",
       "    .dataframe thead th {\n",
       "        text-align: left;\n",
       "    }\n",
       "\n",
       "    .dataframe tbody tr th {\n",
       "        vertical-align: top;\n",
       "    }\n",
       "</style>\n",
       "<table border=\"1\" class=\"dataframe\">\n",
       "  <thead>\n",
       "    <tr style=\"text-align: right;\">\n",
       "      <th></th>\n",
       "      <th>spacegroup</th>\n",
       "      <th>number_of_total_atoms</th>\n",
       "      <th>percent_atom_al</th>\n",
       "      <th>percent_atom_ga</th>\n",
       "      <th>percent_atom_in</th>\n",
       "      <th>lattice_vector_1_ang</th>\n",
       "      <th>lattice_vector_2_ang</th>\n",
       "      <th>lattice_vector_3_ang</th>\n",
       "      <th>lattice_angle_alpha_degree</th>\n",
       "      <th>lattice_angle_beta_degree</th>\n",
       "      <th>lattice_angle_gamma_degree</th>\n",
       "      <th>formation_energy_ev_natom</th>\n",
       "      <th>bandgap_energy_ev</th>\n",
       "      <th>potential</th>\n",
       "      <th>pack_dens</th>\n",
       "      <th>volume</th>\n",
       "      <th>group15</th>\n",
       "      <th>group17</th>\n",
       "      <th>int_atm_dist</th>\n",
       "    </tr>\n",
       "    <tr>\n",
       "      <th>id</th>\n",
       "      <th></th>\n",
       "      <th></th>\n",
       "      <th></th>\n",
       "      <th></th>\n",
       "      <th></th>\n",
       "      <th></th>\n",
       "      <th></th>\n",
       "      <th></th>\n",
       "      <th></th>\n",
       "      <th></th>\n",
       "      <th></th>\n",
       "      <th></th>\n",
       "      <th></th>\n",
       "      <th></th>\n",
       "      <th></th>\n",
       "      <th></th>\n",
       "      <th></th>\n",
       "      <th></th>\n",
       "      <th></th>\n",
       "    </tr>\n",
       "  </thead>\n",
       "  <tbody>\n",
       "    <tr>\n",
       "      <th>1</th>\n",
       "      <td>33.0</td>\n",
       "      <td>80.0</td>\n",
       "      <td>0.625</td>\n",
       "      <td>0.375</td>\n",
       "      <td>0.0</td>\n",
       "      <td>9.9523</td>\n",
       "      <td>8.5513</td>\n",
       "      <td>9.1775</td>\n",
       "      <td>90.0026</td>\n",
       "      <td>90.0023</td>\n",
       "      <td>90.0017</td>\n",
       "      <td>0.068</td>\n",
       "      <td>3.4387</td>\n",
       "      <td>-31.454381</td>\n",
       "      <td>6.201844</td>\n",
       "      <td>621.360462</td>\n",
       "      <td>32.0</td>\n",
       "      <td>48.0</td>\n",
       "      <td>6.146797</td>\n",
       "    </tr>\n",
       "    <tr>\n",
       "      <th>2</th>\n",
       "      <td>194.0</td>\n",
       "      <td>80.0</td>\n",
       "      <td>0.625</td>\n",
       "      <td>0.375</td>\n",
       "      <td>0.0</td>\n",
       "      <td>6.1840</td>\n",
       "      <td>6.1838</td>\n",
       "      <td>23.6287</td>\n",
       "      <td>90.0186</td>\n",
       "      <td>89.9980</td>\n",
       "      <td>120.0025</td>\n",
       "      <td>0.249</td>\n",
       "      <td>2.9210</td>\n",
       "      <td>-52.179568</td>\n",
       "      <td>8.993174</td>\n",
       "      <td>3044.057423</td>\n",
       "      <td>32.0</td>\n",
       "      <td>48.0</td>\n",
       "      <td>8.935653</td>\n",
       "    </tr>\n",
       "  </tbody>\n",
       "</table>\n",
       "</div>"
      ],
      "text/plain": [
       "    spacegroup  number_of_total_atoms  percent_atom_al  percent_atom_ga  \\\n",
       "id                                                                        \n",
       "1         33.0                   80.0            0.625            0.375   \n",
       "2        194.0                   80.0            0.625            0.375   \n",
       "\n",
       "    percent_atom_in  lattice_vector_1_ang  lattice_vector_2_ang  \\\n",
       "id                                                                \n",
       "1               0.0                9.9523                8.5513   \n",
       "2               0.0                6.1840                6.1838   \n",
       "\n",
       "    lattice_vector_3_ang  lattice_angle_alpha_degree  \\\n",
       "id                                                     \n",
       "1                 9.1775                     90.0026   \n",
       "2                23.6287                     90.0186   \n",
       "\n",
       "    lattice_angle_beta_degree  lattice_angle_gamma_degree  \\\n",
       "id                                                          \n",
       "1                     90.0023                     90.0017   \n",
       "2                     89.9980                    120.0025   \n",
       "\n",
       "    formation_energy_ev_natom  bandgap_energy_ev  potential  pack_dens  \\\n",
       "id                                                                       \n",
       "1                       0.068             3.4387 -31.454381   6.201844   \n",
       "2                       0.249             2.9210 -52.179568   8.993174   \n",
       "\n",
       "         volume  group15  group17  int_atm_dist  \n",
       "id                                               \n",
       "1    621.360462     32.0     48.0      6.146797  \n",
       "2   3044.057423     32.0     48.0      8.935653  "
      ]
     },
     "execution_count": 63,
     "metadata": {},
     "output_type": "execute_result"
    }
   ],
   "source": [
    "train.head(2)"
   ]
  },
  {
   "cell_type": "code",
   "execution_count": 64,
   "metadata": {},
   "outputs": [
    {
     "data": {
      "text/html": [
       "<div>\n",
       "<style>\n",
       "    .dataframe thead tr:only-child th {\n",
       "        text-align: right;\n",
       "    }\n",
       "\n",
       "    .dataframe thead th {\n",
       "        text-align: left;\n",
       "    }\n",
       "\n",
       "    .dataframe tbody tr th {\n",
       "        vertical-align: top;\n",
       "    }\n",
       "</style>\n",
       "<table border=\"1\" class=\"dataframe\">\n",
       "  <thead>\n",
       "    <tr style=\"text-align: right;\">\n",
       "      <th></th>\n",
       "      <th>spacegroup</th>\n",
       "      <th>number_of_total_atoms</th>\n",
       "      <th>percent_atom_al</th>\n",
       "      <th>percent_atom_ga</th>\n",
       "      <th>percent_atom_in</th>\n",
       "      <th>lattice_vector_1_ang</th>\n",
       "      <th>lattice_vector_2_ang</th>\n",
       "      <th>lattice_vector_3_ang</th>\n",
       "      <th>lattice_angle_alpha_degree</th>\n",
       "      <th>lattice_angle_beta_degree</th>\n",
       "      <th>lattice_angle_gamma_degree</th>\n",
       "      <th>potential</th>\n",
       "      <th>pack_dens</th>\n",
       "      <th>volume</th>\n",
       "      <th>group15</th>\n",
       "      <th>group17</th>\n",
       "      <th>int_atm_dist</th>\n",
       "    </tr>\n",
       "    <tr>\n",
       "      <th>id</th>\n",
       "      <th></th>\n",
       "      <th></th>\n",
       "      <th></th>\n",
       "      <th></th>\n",
       "      <th></th>\n",
       "      <th></th>\n",
       "      <th></th>\n",
       "      <th></th>\n",
       "      <th></th>\n",
       "      <th></th>\n",
       "      <th></th>\n",
       "      <th></th>\n",
       "      <th></th>\n",
       "      <th></th>\n",
       "      <th></th>\n",
       "      <th></th>\n",
       "      <th></th>\n",
       "    </tr>\n",
       "  </thead>\n",
       "  <tbody>\n",
       "    <tr>\n",
       "      <th>1</th>\n",
       "      <td>33</td>\n",
       "      <td>80.0</td>\n",
       "      <td>0.1875</td>\n",
       "      <td>0.4688</td>\n",
       "      <td>0.3438</td>\n",
       "      <td>10.5381</td>\n",
       "      <td>9.0141</td>\n",
       "      <td>9.6361</td>\n",
       "      <td>89.9997</td>\n",
       "      <td>90.0003</td>\n",
       "      <td>90.0006</td>\n",
       "      <td>-29.947552</td>\n",
       "      <td>6.539984</td>\n",
       "      <td>728.750084</td>\n",
       "      <td>32</td>\n",
       "      <td>48</td>\n",
       "      <td>6.481714</td>\n",
       "    </tr>\n",
       "    <tr>\n",
       "      <th>2</th>\n",
       "      <td>33</td>\n",
       "      <td>80.0</td>\n",
       "      <td>0.7500</td>\n",
       "      <td>0.2500</td>\n",
       "      <td>0.0000</td>\n",
       "      <td>9.8938</td>\n",
       "      <td>8.5014</td>\n",
       "      <td>9.1298</td>\n",
       "      <td>90.0038</td>\n",
       "      <td>90.0023</td>\n",
       "      <td>90.0015</td>\n",
       "      <td>-31.620734</td>\n",
       "      <td>6.166898</td>\n",
       "      <td>610.894869</td>\n",
       "      <td>32</td>\n",
       "      <td>48</td>\n",
       "      <td>6.112181</td>\n",
       "    </tr>\n",
       "  </tbody>\n",
       "</table>\n",
       "</div>"
      ],
      "text/plain": [
       "    spacegroup  number_of_total_atoms  percent_atom_al  percent_atom_ga  \\\n",
       "id                                                                        \n",
       "1           33                   80.0           0.1875           0.4688   \n",
       "2           33                   80.0           0.7500           0.2500   \n",
       "\n",
       "    percent_atom_in  lattice_vector_1_ang  lattice_vector_2_ang  \\\n",
       "id                                                                \n",
       "1            0.3438               10.5381                9.0141   \n",
       "2            0.0000                9.8938                8.5014   \n",
       "\n",
       "    lattice_vector_3_ang  lattice_angle_alpha_degree  \\\n",
       "id                                                     \n",
       "1                 9.6361                     89.9997   \n",
       "2                 9.1298                     90.0038   \n",
       "\n",
       "    lattice_angle_beta_degree  lattice_angle_gamma_degree  potential  \\\n",
       "id                                                                     \n",
       "1                     90.0003                     90.0006 -29.947552   \n",
       "2                     90.0023                     90.0015 -31.620734   \n",
       "\n",
       "    pack_dens      volume  group15  group17  int_atm_dist  \n",
       "id                                                         \n",
       "1    6.539984  728.750084       32       48      6.481714  \n",
       "2    6.166898  610.894869       32       48      6.112181  "
      ]
     },
     "execution_count": 64,
     "metadata": {},
     "output_type": "execute_result"
    }
   ],
   "source": [
    "test.head(2)"
   ]
  },
  {
   "cell_type": "code",
   "execution_count": 65,
   "metadata": {
    "collapsed": true
   },
   "outputs": [],
   "source": [
    "scalar = StandardScaler()"
   ]
  },
  {
   "cell_type": "code",
   "execution_count": 66,
   "metadata": {},
   "outputs": [],
   "source": [
    "full_train = train.columns.tolist()\n",
    "full_test = test.columns.tolist()\n",
    "full_train.remove('formation_energy_ev_natom')\n",
    "full_train.remove('bandgap_energy_ev')\n",
    "X = full_train\n",
    "y = ['formation_energy_ev_natom','bandgap_energy_ev']"
   ]
  },
  {
   "cell_type": "code",
   "execution_count": 67,
   "metadata": {
    "collapsed": true
   },
   "outputs": [],
   "source": [
    "X_data = train[X]\n",
    "y_data = train[y]"
   ]
  },
  {
   "cell_type": "code",
   "execution_count": 68,
   "metadata": {},
   "outputs": [
    {
     "name": "stderr",
     "output_type": "stream",
     "text": [
      "/home/anuj8june/python3env/envs/python3/lib/python3.6/site-packages/ipykernel_launcher.py:1: SettingWithCopyWarning: \n",
      "A value is trying to be set on a copy of a slice from a DataFrame.\n",
      "Try using .loc[row_indexer,col_indexer] = value instead\n",
      "\n",
      "See the caveats in the documentation: http://pandas.pydata.org/pandas-docs/stable/indexing.html#indexing-view-versus-copy\n",
      "  \"\"\"Entry point for launching an IPython kernel.\n",
      "/home/anuj8june/python3env/envs/python3/lib/python3.6/site-packages/pandas/core/frame.py:2356: SettingWithCopyWarning: \n",
      "A value is trying to be set on a copy of a slice from a DataFrame\n",
      "\n",
      "See the caveats in the documentation: http://pandas.pydata.org/pandas-docs/stable/indexing.html#indexing-view-versus-copy\n",
      "  self.loc._setitem_with_indexer((slice(None), indexer), value)\n",
      "/home/anuj8june/python3env/envs/python3/lib/python3.6/site-packages/pandas/core/frame.py:2326: SettingWithCopyWarning: \n",
      "A value is trying to be set on a copy of a slice from a DataFrame\n",
      "\n",
      "See the caveats in the documentation: http://pandas.pydata.org/pandas-docs/stable/indexing.html#indexing-view-versus-copy\n",
      "  self._setitem_array(key, value)\n"
     ]
    }
   ],
   "source": [
    "X_data[X] = scalar.fit_transform(X_data)"
   ]
  },
  {
   "cell_type": "code",
   "execution_count": 69,
   "metadata": {},
   "outputs": [
    {
     "data": {
      "text/html": [
       "<div>\n",
       "<style>\n",
       "    .dataframe thead tr:only-child th {\n",
       "        text-align: right;\n",
       "    }\n",
       "\n",
       "    .dataframe thead th {\n",
       "        text-align: left;\n",
       "    }\n",
       "\n",
       "    .dataframe tbody tr th {\n",
       "        vertical-align: top;\n",
       "    }\n",
       "</style>\n",
       "<table border=\"1\" class=\"dataframe\">\n",
       "  <thead>\n",
       "    <tr style=\"text-align: right;\">\n",
       "      <th></th>\n",
       "      <th>spacegroup</th>\n",
       "      <th>number_of_total_atoms</th>\n",
       "      <th>percent_atom_al</th>\n",
       "      <th>percent_atom_ga</th>\n",
       "      <th>percent_atom_in</th>\n",
       "      <th>lattice_vector_1_ang</th>\n",
       "      <th>lattice_vector_2_ang</th>\n",
       "      <th>lattice_vector_3_ang</th>\n",
       "      <th>lattice_angle_alpha_degree</th>\n",
       "      <th>lattice_angle_beta_degree</th>\n",
       "      <th>lattice_angle_gamma_degree</th>\n",
       "      <th>potential</th>\n",
       "      <th>pack_dens</th>\n",
       "      <th>volume</th>\n",
       "      <th>group15</th>\n",
       "      <th>group17</th>\n",
       "      <th>int_atm_dist</th>\n",
       "    </tr>\n",
       "    <tr>\n",
       "      <th>id</th>\n",
       "      <th></th>\n",
       "      <th></th>\n",
       "      <th></th>\n",
       "      <th></th>\n",
       "      <th></th>\n",
       "      <th></th>\n",
       "      <th></th>\n",
       "      <th></th>\n",
       "      <th></th>\n",
       "      <th></th>\n",
       "      <th></th>\n",
       "      <th></th>\n",
       "      <th></th>\n",
       "      <th></th>\n",
       "      <th></th>\n",
       "      <th></th>\n",
       "      <th></th>\n",
       "    </tr>\n",
       "  </thead>\n",
       "  <tbody>\n",
       "    <tr>\n",
       "      <th>1</th>\n",
       "      <td>-1.281235</td>\n",
       "      <td>0.810885</td>\n",
       "      <td>0.902265</td>\n",
       "      <td>0.284159</td>\n",
       "      <td>-1.162707</td>\n",
       "      <td>-0.013767</td>\n",
       "      <td>0.774800</td>\n",
       "      <td>-0.626795</td>\n",
       "      <td>-0.180793</td>\n",
       "      <td>-0.452319</td>\n",
       "      <td>-0.185047</td>\n",
       "      <td>0.260726</td>\n",
       "      <td>-0.558672</td>\n",
       "      <td>-0.643835</td>\n",
       "      <td>0.810885</td>\n",
       "      <td>0.810885</td>\n",
       "      <td>-0.533471</td>\n",
       "    </tr>\n",
       "    <tr>\n",
       "      <th>2</th>\n",
       "      <td>0.619639</td>\n",
       "      <td>0.810885</td>\n",
       "      <td>0.902265</td>\n",
       "      <td>0.284159</td>\n",
       "      <td>-1.162707</td>\n",
       "      <td>-0.681399</td>\n",
       "      <td>-0.477888</td>\n",
       "      <td>2.024991</td>\n",
       "      <td>-0.168794</td>\n",
       "      <td>-0.453130</td>\n",
       "      <td>0.974936</td>\n",
       "      <td>-0.440920</td>\n",
       "      <td>1.425380</td>\n",
       "      <td>1.456527</td>\n",
       "      <td>0.810885</td>\n",
       "      <td>0.810885</td>\n",
       "      <td>1.433928</td>\n",
       "    </tr>\n",
       "  </tbody>\n",
       "</table>\n",
       "</div>"
      ],
      "text/plain": [
       "    spacegroup  number_of_total_atoms  percent_atom_al  percent_atom_ga  \\\n",
       "id                                                                        \n",
       "1    -1.281235               0.810885         0.902265         0.284159   \n",
       "2     0.619639               0.810885         0.902265         0.284159   \n",
       "\n",
       "    percent_atom_in  lattice_vector_1_ang  lattice_vector_2_ang  \\\n",
       "id                                                                \n",
       "1         -1.162707             -0.013767              0.774800   \n",
       "2         -1.162707             -0.681399             -0.477888   \n",
       "\n",
       "    lattice_vector_3_ang  lattice_angle_alpha_degree  \\\n",
       "id                                                     \n",
       "1              -0.626795                   -0.180793   \n",
       "2               2.024991                   -0.168794   \n",
       "\n",
       "    lattice_angle_beta_degree  lattice_angle_gamma_degree  potential  \\\n",
       "id                                                                     \n",
       "1                   -0.452319                   -0.185047   0.260726   \n",
       "2                   -0.453130                    0.974936  -0.440920   \n",
       "\n",
       "    pack_dens    volume   group15   group17  int_atm_dist  \n",
       "id                                                         \n",
       "1   -0.558672 -0.643835  0.810885  0.810885     -0.533471  \n",
       "2    1.425380  1.456527  0.810885  0.810885      1.433928  "
      ]
     },
     "execution_count": 69,
     "metadata": {},
     "output_type": "execute_result"
    }
   ],
   "source": [
    "X_data.head(2)"
   ]
  },
  {
   "cell_type": "code",
   "execution_count": 70,
   "metadata": {},
   "outputs": [],
   "source": [
    "test[X] = scalar.fit_transform(test)"
   ]
  },
  {
   "cell_type": "code",
   "execution_count": 71,
   "metadata": {},
   "outputs": [
    {
     "data": {
      "text/html": [
       "<div>\n",
       "<style>\n",
       "    .dataframe thead tr:only-child th {\n",
       "        text-align: right;\n",
       "    }\n",
       "\n",
       "    .dataframe thead th {\n",
       "        text-align: left;\n",
       "    }\n",
       "\n",
       "    .dataframe tbody tr th {\n",
       "        vertical-align: top;\n",
       "    }\n",
       "</style>\n",
       "<table border=\"1\" class=\"dataframe\">\n",
       "  <thead>\n",
       "    <tr style=\"text-align: right;\">\n",
       "      <th></th>\n",
       "      <th>spacegroup</th>\n",
       "      <th>number_of_total_atoms</th>\n",
       "      <th>percent_atom_al</th>\n",
       "      <th>percent_atom_ga</th>\n",
       "      <th>percent_atom_in</th>\n",
       "      <th>lattice_vector_1_ang</th>\n",
       "      <th>lattice_vector_2_ang</th>\n",
       "      <th>lattice_vector_3_ang</th>\n",
       "      <th>lattice_angle_alpha_degree</th>\n",
       "      <th>lattice_angle_beta_degree</th>\n",
       "      <th>lattice_angle_gamma_degree</th>\n",
       "      <th>potential</th>\n",
       "      <th>pack_dens</th>\n",
       "      <th>volume</th>\n",
       "      <th>group15</th>\n",
       "      <th>group17</th>\n",
       "      <th>int_atm_dist</th>\n",
       "    </tr>\n",
       "    <tr>\n",
       "      <th>id</th>\n",
       "      <th></th>\n",
       "      <th></th>\n",
       "      <th></th>\n",
       "      <th></th>\n",
       "      <th></th>\n",
       "      <th></th>\n",
       "      <th></th>\n",
       "      <th></th>\n",
       "      <th></th>\n",
       "      <th></th>\n",
       "      <th></th>\n",
       "      <th></th>\n",
       "      <th></th>\n",
       "      <th></th>\n",
       "      <th></th>\n",
       "      <th></th>\n",
       "      <th></th>\n",
       "    </tr>\n",
       "  </thead>\n",
       "  <tbody>\n",
       "    <tr>\n",
       "      <th>1</th>\n",
       "      <td>-1.245661</td>\n",
       "      <td>0.795712</td>\n",
       "      <td>-0.672619</td>\n",
       "      <td>0.633833</td>\n",
       "      <td>0.101962</td>\n",
       "      <td>0.077071</td>\n",
       "      <td>0.984280</td>\n",
       "      <td>-0.516047</td>\n",
       "      <td>-0.160087</td>\n",
       "      <td>-0.459878</td>\n",
       "      <td>-0.263534</td>\n",
       "      <td>0.291157</td>\n",
       "      <td>-0.304732</td>\n",
       "      <td>-0.540337</td>\n",
       "      <td>0.795712</td>\n",
       "      <td>0.795712</td>\n",
       "      <td>-0.282582</td>\n",
       "    </tr>\n",
       "    <tr>\n",
       "      <th>2</th>\n",
       "      <td>-1.245661</td>\n",
       "      <td>0.795712</td>\n",
       "      <td>1.389169</td>\n",
       "      <td>-0.257915</td>\n",
       "      <td>-1.146007</td>\n",
       "      <td>-0.035758</td>\n",
       "      <td>0.723122</td>\n",
       "      <td>-0.609149</td>\n",
       "      <td>-0.156070</td>\n",
       "      <td>-0.459508</td>\n",
       "      <td>-0.263497</td>\n",
       "      <td>0.235078</td>\n",
       "      <td>-0.568059</td>\n",
       "      <td>-0.642435</td>\n",
       "      <td>0.795712</td>\n",
       "      <td>0.795712</td>\n",
       "      <td>-0.540963</td>\n",
       "    </tr>\n",
       "  </tbody>\n",
       "</table>\n",
       "</div>"
      ],
      "text/plain": [
       "    spacegroup  number_of_total_atoms  percent_atom_al  percent_atom_ga  \\\n",
       "id                                                                        \n",
       "1    -1.245661               0.795712        -0.672619         0.633833   \n",
       "2    -1.245661               0.795712         1.389169        -0.257915   \n",
       "\n",
       "    percent_atom_in  lattice_vector_1_ang  lattice_vector_2_ang  \\\n",
       "id                                                                \n",
       "1          0.101962              0.077071              0.984280   \n",
       "2         -1.146007             -0.035758              0.723122   \n",
       "\n",
       "    lattice_vector_3_ang  lattice_angle_alpha_degree  \\\n",
       "id                                                     \n",
       "1              -0.516047                   -0.160087   \n",
       "2              -0.609149                   -0.156070   \n",
       "\n",
       "    lattice_angle_beta_degree  lattice_angle_gamma_degree  potential  \\\n",
       "id                                                                     \n",
       "1                   -0.459878                   -0.263534   0.291157   \n",
       "2                   -0.459508                   -0.263497   0.235078   \n",
       "\n",
       "    pack_dens    volume   group15   group17  int_atm_dist  \n",
       "id                                                         \n",
       "1   -0.304732 -0.540337  0.795712  0.795712     -0.282582  \n",
       "2   -0.568059 -0.642435  0.795712  0.795712     -0.540963  "
      ]
     },
     "execution_count": 71,
     "metadata": {},
     "output_type": "execute_result"
    }
   ],
   "source": [
    "test.head(2)"
   ]
  },
  {
   "cell_type": "code",
   "execution_count": 72,
   "metadata": {
    "collapsed": true
   },
   "outputs": [],
   "source": [
    "X1_train, X1_val, y1_train, y1_val = train_test_split(X_data, y_data['formation_energy_ev_natom'], test_size=0.2, shuffle=True)"
   ]
  },
  {
   "cell_type": "code",
   "execution_count": 73,
   "metadata": {},
   "outputs": [],
   "source": [
    "X2_train, X2_val, y2_train, y2_val = train_test_split(X_data, y_data['bandgap_energy_ev'], test_size=0.2, shuffle=True)"
   ]
  },
  {
   "cell_type": "code",
   "execution_count": 74,
   "metadata": {
    "collapsed": true
   },
   "outputs": [],
   "source": [
    "rmsle_score = make_scorer(mean_squared_log_error, greater_is_better=False)"
   ]
  },
  {
   "cell_type": "code",
   "execution_count": 75,
   "metadata": {
    "collapsed": true
   },
   "outputs": [],
   "source": [
    "mae_score = make_scorer(mean_absolute_error, greater_is_better=False)"
   ]
  },
  {
   "cell_type": "code",
   "execution_count": 76,
   "metadata": {
    "collapsed": true
   },
   "outputs": [],
   "source": [
    "mlp_grid = {\n",
    "        'hidden_layer_sizes': [20,40,60,80,100,120,150],\n",
    "        'activation': ['identity', 'logistic', 'tanh', 'relu'],\n",
    "        'solver': ['lbfgs', 'sgd', 'adam'],\n",
    "        'alpha': [0.0001,0.001,0.01,0.1,1,10,100,1000,10000],\n",
    "        'batch_size':['auto'],\n",
    "        'learning_rate':['constant', 'invscaling', 'adaptive'],\n",
    "        'learning_rate_init':[0.001],\n",
    "        'power_t': [0.5],\n",
    "        'alpha': [0.0001],\n",
    "        'max_iter': [1000,2000],\n",
    "        'early_stopping': [False],\n",
    "        'warm_start': [False]       \n",
    "               }"
   ]
  },
  {
   "cell_type": "code",
   "execution_count": 77,
   "metadata": {},
   "outputs": [],
   "source": [
    "mlp = MLPRegressor(random_state=0)\n",
    "mlp_gs1 = GridSearchCV(mlp, param_grid = mlp_grid, n_jobs=-1, cv=3,  scoring = mae_score, verbose=1)"
   ]
  },
  {
   "cell_type": "code",
   "execution_count": 78,
   "metadata": {},
   "outputs": [
    {
     "name": "stdout",
     "output_type": "stream",
     "text": [
      "Fitting 3 folds for each of 504 candidates, totalling 1512 fits\n"
     ]
    },
    {
     "name": "stderr",
     "output_type": "stream",
     "text": [
      "[Parallel(n_jobs=-1)]: Done  42 tasks      | elapsed:    6.1s\n",
      "[Parallel(n_jobs=-1)]: Done 192 tasks      | elapsed:   38.5s\n",
      "[Parallel(n_jobs=-1)]: Done 442 tasks      | elapsed:  1.6min\n",
      "[Parallel(n_jobs=-1)]: Done 792 tasks      | elapsed:  6.6min\n",
      "[Parallel(n_jobs=-1)]: Done 1242 tasks      | elapsed: 13.7min\n",
      "[Parallel(n_jobs=-1)]: Done 1512 out of 1512 | elapsed: 17.0min finished\n"
     ]
    },
    {
     "data": {
      "text/plain": [
       "GridSearchCV(cv=3, error_score='raise',\n",
       "       estimator=MLPRegressor(activation='relu', alpha=0.0001, batch_size='auto', beta_1=0.9,\n",
       "       beta_2=0.999, early_stopping=False, epsilon=1e-08,\n",
       "       hidden_layer_sizes=(100,), learning_rate='constant',\n",
       "       learning_rate_init=0.001, max_iter=200, momentum=0.9,\n",
       "       nesterovs_momentum=True, power_t=0.5, random_state=0, shuffle=True,\n",
       "       solver='adam', tol=0.0001, validation_fraction=0.1, verbose=False,\n",
       "       warm_start=False),\n",
       "       fit_params=None, iid=True, n_jobs=-1,\n",
       "       param_grid={'hidden_layer_sizes': [20, 40, 60, 80, 100, 120, 150], 'activation': ['identity', 'logistic', 'tanh', 'relu'], 'solver': ['lbfgs', 'sgd', 'adam'], 'alpha': [0.0001], 'batch_size': ['auto'], 'learning_rate': ['constant', 'invscaling', 'adaptive'], 'learning_rate_init': [0.001], 'power_t': [0.5], 'max_iter': [1000, 2000], 'early_stopping': [False], 'warm_start': [False]},\n",
       "       pre_dispatch='2*n_jobs', refit=True, return_train_score='warn',\n",
       "       scoring=make_scorer(mean_absolute_error, greater_is_better=False),\n",
       "       verbose=1)"
      ]
     },
     "execution_count": 78,
     "metadata": {},
     "output_type": "execute_result"
    }
   ],
   "source": [
    "mlp_gs1.fit(X1_train,y1_train)"
   ]
  },
  {
   "cell_type": "code",
   "execution_count": 83,
   "metadata": {},
   "outputs": [
    {
     "name": "stderr",
     "output_type": "stream",
     "text": [
      "/home/anuj8june/python3env/envs/python3/lib/python3.6/site-packages/sklearn/model_selection/_search.py:761: DeprecationWarning: The grid_scores_ attribute was deprecated in version 0.18 in favor of the more elaborate cv_results_ attribute. The grid_scores_ attribute will not be available from 0.20\n",
      "  DeprecationWarning)\n"
     ]
    },
    {
     "data": {
      "text/plain": [
       "[-0.028232303333685493,\n",
       " -0.028232303333685493,\n",
       " -0.028232303333685493,\n",
       " -0.028232303333685493,\n",
       " -0.028232303333685493,\n",
       " -0.028232303333685493,\n",
       " -0.028279211332219587,\n",
       " -0.028279211332219587,\n",
       " -0.028279211332219587,\n",
       " -0.028279211332219587,\n",
       " -0.028279211332219587,\n",
       " -0.028279211332219587]"
      ]
     },
     "execution_count": 83,
     "metadata": {},
     "output_type": "execute_result"
    }
   ],
   "source": [
    "gs1 = [x[1] for x in mlp_gs1.grid_scores_]\n",
    "gs1_filter = [i for i in gs1 if i > -0.0283]\n",
    "gs1_filter"
   ]
  },
  {
   "cell_type": "code",
   "execution_count": 84,
   "metadata": {},
   "outputs": [
    {
     "name": "stderr",
     "output_type": "stream",
     "text": [
      "/home/anuj8june/python3env/envs/python3/lib/python3.6/site-packages/sklearn/model_selection/_search.py:761: DeprecationWarning: The grid_scores_ attribute was deprecated in version 0.18 in favor of the more elaborate cv_results_ attribute. The grid_scores_ attribute will not be available from 0.20\n",
      "  DeprecationWarning)\n"
     ]
    },
    {
     "data": {
      "text/plain": [
       "[mean: -0.02823, std: 0.00043, params: {'activation': 'relu', 'alpha': 0.0001, 'batch_size': 'auto', 'early_stopping': False, 'hidden_layer_sizes': 40, 'learning_rate': 'constant', 'learning_rate_init': 0.001, 'max_iter': 1000, 'power_t': 0.5, 'solver': 'lbfgs', 'warm_start': False},\n",
       " mean: -0.02823, std: 0.00043, params: {'activation': 'relu', 'alpha': 0.0001, 'batch_size': 'auto', 'early_stopping': False, 'hidden_layer_sizes': 40, 'learning_rate': 'constant', 'learning_rate_init': 0.001, 'max_iter': 2000, 'power_t': 0.5, 'solver': 'lbfgs', 'warm_start': False},\n",
       " mean: -0.02823, std: 0.00043, params: {'activation': 'relu', 'alpha': 0.0001, 'batch_size': 'auto', 'early_stopping': False, 'hidden_layer_sizes': 40, 'learning_rate': 'invscaling', 'learning_rate_init': 0.001, 'max_iter': 1000, 'power_t': 0.5, 'solver': 'lbfgs', 'warm_start': False},\n",
       " mean: -0.02823, std: 0.00043, params: {'activation': 'relu', 'alpha': 0.0001, 'batch_size': 'auto', 'early_stopping': False, 'hidden_layer_sizes': 40, 'learning_rate': 'invscaling', 'learning_rate_init': 0.001, 'max_iter': 2000, 'power_t': 0.5, 'solver': 'lbfgs', 'warm_start': False},\n",
       " mean: -0.02823, std: 0.00043, params: {'activation': 'relu', 'alpha': 0.0001, 'batch_size': 'auto', 'early_stopping': False, 'hidden_layer_sizes': 40, 'learning_rate': 'adaptive', 'learning_rate_init': 0.001, 'max_iter': 1000, 'power_t': 0.5, 'solver': 'lbfgs', 'warm_start': False},\n",
       " mean: -0.02823, std: 0.00043, params: {'activation': 'relu', 'alpha': 0.0001, 'batch_size': 'auto', 'early_stopping': False, 'hidden_layer_sizes': 40, 'learning_rate': 'adaptive', 'learning_rate_init': 0.001, 'max_iter': 2000, 'power_t': 0.5, 'solver': 'lbfgs', 'warm_start': False},\n",
       " mean: -0.02828, std: 0.00040, params: {'activation': 'relu', 'alpha': 0.0001, 'batch_size': 'auto', 'early_stopping': False, 'hidden_layer_sizes': 150, 'learning_rate': 'constant', 'learning_rate_init': 0.001, 'max_iter': 1000, 'power_t': 0.5, 'solver': 'lbfgs', 'warm_start': False},\n",
       " mean: -0.02828, std: 0.00040, params: {'activation': 'relu', 'alpha': 0.0001, 'batch_size': 'auto', 'early_stopping': False, 'hidden_layer_sizes': 150, 'learning_rate': 'constant', 'learning_rate_init': 0.001, 'max_iter': 2000, 'power_t': 0.5, 'solver': 'lbfgs', 'warm_start': False},\n",
       " mean: -0.02828, std: 0.00040, params: {'activation': 'relu', 'alpha': 0.0001, 'batch_size': 'auto', 'early_stopping': False, 'hidden_layer_sizes': 150, 'learning_rate': 'invscaling', 'learning_rate_init': 0.001, 'max_iter': 1000, 'power_t': 0.5, 'solver': 'lbfgs', 'warm_start': False},\n",
       " mean: -0.02828, std: 0.00040, params: {'activation': 'relu', 'alpha': 0.0001, 'batch_size': 'auto', 'early_stopping': False, 'hidden_layer_sizes': 150, 'learning_rate': 'invscaling', 'learning_rate_init': 0.001, 'max_iter': 2000, 'power_t': 0.5, 'solver': 'lbfgs', 'warm_start': False},\n",
       " mean: -0.02828, std: 0.00040, params: {'activation': 'relu', 'alpha': 0.0001, 'batch_size': 'auto', 'early_stopping': False, 'hidden_layer_sizes': 150, 'learning_rate': 'adaptive', 'learning_rate_init': 0.001, 'max_iter': 1000, 'power_t': 0.5, 'solver': 'lbfgs', 'warm_start': False},\n",
       " mean: -0.02828, std: 0.00040, params: {'activation': 'relu', 'alpha': 0.0001, 'batch_size': 'auto', 'early_stopping': False, 'hidden_layer_sizes': 150, 'learning_rate': 'adaptive', 'learning_rate_init': 0.001, 'max_iter': 2000, 'power_t': 0.5, 'solver': 'lbfgs', 'warm_start': False}]"
      ]
     },
     "execution_count": 84,
     "metadata": {},
     "output_type": "execute_result"
    }
   ],
   "source": [
    "gs1_model = list()\n",
    "for x  in mlp_gs1.grid_scores_:\n",
    "    if x[1] > -0.0283:\n",
    "        gs1_model.append(x)\n",
    "gs1_model        "
   ]
  },
  {
   "cell_type": "code",
   "execution_count": 85,
   "metadata": {
    "collapsed": true
   },
   "outputs": [],
   "source": [
    "mlp = MLPRegressor()\n",
    "mlp_gs2 = GridSearchCV(mlp, param_grid = mlp_grid, n_jobs=-1, cv=3,  scoring =  mae_score,verbose=1)"
   ]
  },
  {
   "cell_type": "code",
   "execution_count": null,
   "metadata": {},
   "outputs": [
    {
     "name": "stdout",
     "output_type": "stream",
     "text": [
      "Fitting 3 folds for each of 504 candidates, totalling 1512 fits\n"
     ]
    },
    {
     "name": "stderr",
     "output_type": "stream",
     "text": [
      "/home/anuj8june/python3env/envs/python3/lib/python3.6/site-packages/sklearn/neural_network/multilayer_perceptron.py:564: ConvergenceWarning: Stochastic Optimizer: Maximum iterations (1000) reached and the optimization hasn't converged yet.\n",
      "  % self.max_iter, ConvergenceWarning)\n",
      "/home/anuj8june/python3env/envs/python3/lib/python3.6/site-packages/sklearn/neural_network/multilayer_perceptron.py:564: ConvergenceWarning: Stochastic Optimizer: Maximum iterations (1000) reached and the optimization hasn't converged yet.\n",
      "  % self.max_iter, ConvergenceWarning)\n",
      "/home/anuj8june/python3env/envs/python3/lib/python3.6/site-packages/sklearn/neural_network/multilayer_perceptron.py:564: ConvergenceWarning: Stochastic Optimizer: Maximum iterations (1000) reached and the optimization hasn't converged yet.\n",
      "  % self.max_iter, ConvergenceWarning)\n"
     ]
    }
   ],
   "source": [
    "mlp_gs2.fit(X2_train,y2_train)"
   ]
  },
  {
   "cell_type": "code",
   "execution_count": 44,
   "metadata": {},
   "outputs": [
    {
     "data": {
      "text/plain": [
       "[-0.13778701667031154,\n",
       " -0.13785924246795681,\n",
       " -0.13767308452297106,\n",
       " -0.13705880660507622,\n",
       " -0.13798824019670858,\n",
       " -0.13754931893428443,\n",
       " -0.13753209377205833,\n",
       " -0.1379174772801332,\n",
       " -0.13765015984669851,\n",
       " -0.13767502832032424,\n",
       " -0.13731753363413368,\n",
       " -0.13719231392887724]"
      ]
     },
     "execution_count": 44,
     "metadata": {},
     "output_type": "execute_result"
    }
   ],
   "source": [
    "gs2 = [x[1] for x in mlp_gs2.grid_scores_]\n",
    "gs2_filter = [i for i in gs2 if i > -0.138]\n",
    "gs2_filter"
   ]
  },
  {
   "cell_type": "code",
   "execution_count": 48,
   "metadata": {},
   "outputs": [
    {
     "data": {
      "text/plain": [
       "[mean: -0.13779, std: 0.01179, params: {'activation': 'logistic', 'alpha': 0.0001, 'batch_size': 'auto', 'early_stopping': False, 'hidden_layer_sizes': 20, 'learning_rate': 'constant', 'learning_rate_init': 0.001, 'max_iter': 2000, 'power_t': 0.5, 'solver': 'lbfgs', 'warm_start': False},\n",
       " mean: -0.13786, std: 0.01387, params: {'activation': 'logistic', 'alpha': 0.0001, 'batch_size': 'auto', 'early_stopping': False, 'hidden_layer_sizes': 20, 'learning_rate': 'adaptive', 'learning_rate_init': 0.001, 'max_iter': 2000, 'power_t': 0.5, 'solver': 'lbfgs', 'warm_start': False},\n",
       " mean: -0.13767, std: 0.01250, params: {'activation': 'logistic', 'alpha': 0.0001, 'batch_size': 'auto', 'early_stopping': False, 'hidden_layer_sizes': 40, 'learning_rate': 'adaptive', 'learning_rate_init': 0.001, 'max_iter': 1000, 'power_t': 0.5, 'solver': 'lbfgs', 'warm_start': False},\n",
       " mean: -0.13706, std: 0.01135, params: {'activation': 'logistic', 'alpha': 0.0001, 'batch_size': 'auto', 'early_stopping': False, 'hidden_layer_sizes': 60, 'learning_rate': 'constant', 'learning_rate_init': 0.001, 'max_iter': 500, 'power_t': 0.5, 'solver': 'lbfgs', 'warm_start': False},\n",
       " mean: -0.13799, std: 0.01052, params: {'activation': 'logistic', 'alpha': 0.0001, 'batch_size': 'auto', 'early_stopping': False, 'hidden_layer_sizes': 80, 'learning_rate': 'constant', 'learning_rate_init': 0.001, 'max_iter': 1000, 'power_t': 0.5, 'solver': 'lbfgs', 'warm_start': False},\n",
       " mean: -0.13755, std: 0.01371, params: {'activation': 'logistic', 'alpha': 0.0001, 'batch_size': 'auto', 'early_stopping': False, 'hidden_layer_sizes': 80, 'learning_rate': 'invscaling', 'learning_rate_init': 0.001, 'max_iter': 1000, 'power_t': 0.5, 'solver': 'lbfgs', 'warm_start': False},\n",
       " mean: -0.13753, std: 0.01121, params: {'activation': 'logistic', 'alpha': 0.0001, 'batch_size': 'auto', 'early_stopping': False, 'hidden_layer_sizes': 100, 'learning_rate': 'adaptive', 'learning_rate_init': 0.001, 'max_iter': 2000, 'power_t': 0.5, 'solver': 'lbfgs', 'warm_start': False},\n",
       " mean: -0.13792, std: 0.01190, params: {'activation': 'logistic', 'alpha': 0.0001, 'batch_size': 'auto', 'early_stopping': False, 'hidden_layer_sizes': 120, 'learning_rate': 'adaptive', 'learning_rate_init': 0.001, 'max_iter': 1000, 'power_t': 0.5, 'solver': 'lbfgs', 'warm_start': False},\n",
       " mean: -0.13765, std: 0.01285, params: {'activation': 'tanh', 'alpha': 0.0001, 'batch_size': 'auto', 'early_stopping': False, 'hidden_layer_sizes': 80, 'learning_rate': 'adaptive', 'learning_rate_init': 0.001, 'max_iter': 1000, 'power_t': 0.5, 'solver': 'lbfgs', 'warm_start': False},\n",
       " mean: -0.13768, std: 0.01069, params: {'activation': 'tanh', 'alpha': 0.0001, 'batch_size': 'auto', 'early_stopping': False, 'hidden_layer_sizes': 100, 'learning_rate': 'constant', 'learning_rate_init': 0.001, 'max_iter': 1000, 'power_t': 0.5, 'solver': 'lbfgs', 'warm_start': False},\n",
       " mean: -0.13732, std: 0.01220, params: {'activation': 'tanh', 'alpha': 0.0001, 'batch_size': 'auto', 'early_stopping': False, 'hidden_layer_sizes': 120, 'learning_rate': 'constant', 'learning_rate_init': 0.001, 'max_iter': 1000, 'power_t': 0.5, 'solver': 'lbfgs', 'warm_start': False},\n",
       " mean: -0.13719, std: 0.01197, params: {'activation': 'tanh', 'alpha': 0.0001, 'batch_size': 'auto', 'early_stopping': False, 'hidden_layer_sizes': 120, 'learning_rate': 'invscaling', 'learning_rate_init': 0.001, 'max_iter': 1000, 'power_t': 0.5, 'solver': 'lbfgs', 'warm_start': False}]"
      ]
     },
     "execution_count": 48,
     "metadata": {},
     "output_type": "execute_result"
    }
   ],
   "source": [
    "gs2_model = list()\n",
    "for x  in mlp_gs2.grid_scores_:\n",
    "    if x[1] > -0.138:\n",
    "        gs2_model.append(x)\n",
    "gs2_model"
   ]
  },
  {
   "cell_type": "markdown",
   "metadata": {},
   "source": [
    "### Model 1 NN"
   ]
  },
  {
   "cell_type": "code",
   "execution_count": 66,
   "metadata": {},
   "outputs": [
    {
     "data": {
      "text/html": [
       "<div>\n",
       "<style>\n",
       "    .dataframe thead tr:only-child th {\n",
       "        text-align: right;\n",
       "    }\n",
       "\n",
       "    .dataframe thead th {\n",
       "        text-align: left;\n",
       "    }\n",
       "\n",
       "    .dataframe tbody tr th {\n",
       "        vertical-align: top;\n",
       "    }\n",
       "</style>\n",
       "<table border=\"1\" class=\"dataframe\">\n",
       "  <thead>\n",
       "    <tr style=\"text-align: right;\">\n",
       "      <th></th>\n",
       "      <th>spacegroup</th>\n",
       "      <th>number_of_total_atoms</th>\n",
       "      <th>percent_atom_al</th>\n",
       "      <th>percent_atom_ga</th>\n",
       "      <th>percent_atom_in</th>\n",
       "      <th>lattice_vector_1_ang</th>\n",
       "      <th>lattice_vector_2_ang</th>\n",
       "      <th>lattice_vector_3_ang</th>\n",
       "      <th>lattice_angle_alpha_degree</th>\n",
       "      <th>lattice_angle_beta_degree</th>\n",
       "      <th>lattice_angle_gamma_degree</th>\n",
       "    </tr>\n",
       "    <tr>\n",
       "      <th>id</th>\n",
       "      <th></th>\n",
       "      <th></th>\n",
       "      <th></th>\n",
       "      <th></th>\n",
       "      <th></th>\n",
       "      <th></th>\n",
       "      <th></th>\n",
       "      <th></th>\n",
       "      <th></th>\n",
       "      <th></th>\n",
       "      <th></th>\n",
       "    </tr>\n",
       "  </thead>\n",
       "  <tbody>\n",
       "    <tr>\n",
       "      <th>1</th>\n",
       "      <td>2.293023</td>\n",
       "      <td>5.0</td>\n",
       "      <td>2.5625</td>\n",
       "      <td>3.451693</td>\n",
       "      <td>3.064616</td>\n",
       "      <td>3.025389</td>\n",
       "      <td>4.491563</td>\n",
       "      <td>2.602521</td>\n",
       "      <td>3.090841</td>\n",
       "      <td>2.935899</td>\n",
       "      <td>4.001878</td>\n",
       "    </tr>\n",
       "    <tr>\n",
       "      <th>2</th>\n",
       "      <td>2.293023</td>\n",
       "      <td>5.0</td>\n",
       "      <td>4.2500</td>\n",
       "      <td>2.774154</td>\n",
       "      <td>2.000000</td>\n",
       "      <td>2.936887</td>\n",
       "      <td>4.280558</td>\n",
       "      <td>2.525057</td>\n",
       "      <td>3.091556</td>\n",
       "      <td>2.936158</td>\n",
       "      <td>4.001907</td>\n",
       "    </tr>\n",
       "  </tbody>\n",
       "</table>\n",
       "</div>"
      ],
      "text/plain": [
       "    spacegroup  number_of_total_atoms  percent_atom_al  percent_atom_ga  \\\n",
       "id                                                                        \n",
       "1     2.293023                    5.0           2.5625         3.451693   \n",
       "2     2.293023                    5.0           4.2500         2.774154   \n",
       "\n",
       "    percent_atom_in  lattice_vector_1_ang  lattice_vector_2_ang  \\\n",
       "id                                                                \n",
       "1          3.064616              3.025389              4.491563   \n",
       "2          2.000000              2.936887              4.280558   \n",
       "\n",
       "    lattice_vector_3_ang  lattice_angle_alpha_degree  \\\n",
       "id                                                     \n",
       "1               2.602521                    3.090841   \n",
       "2               2.525057                    3.091556   \n",
       "\n",
       "    lattice_angle_beta_degree  lattice_angle_gamma_degree  \n",
       "id                                                         \n",
       "1                    2.935899                    4.001878  \n",
       "2                    2.936158                    4.001907  "
      ]
     },
     "execution_count": 66,
     "metadata": {},
     "output_type": "execute_result"
    }
   ],
   "source": [
    "t = test.columns.tolist()\n",
    "y_test = test.copy()\n",
    "y_test[t] = scalar.fit_transform(test)\n",
    "y_test.head(2)"
   ]
  },
  {
   "cell_type": "code",
   "execution_count": 122,
   "metadata": {
    "collapsed": true
   },
   "outputs": [],
   "source": [
    "m1_nn = MLPRegressor(activation='relu', alpha=0.0001, batch_size='auto', early_stopping=False, hidden_layer_sizes=120, learning_rate='constant', learning_rate_init=0.001, max_iter=2000, power_t=0.5, solver='lbfgs', warm_start=False)\n"
   ]
  },
  {
   "cell_type": "code",
   "execution_count": 123,
   "metadata": {},
   "outputs": [
    {
     "data": {
      "text/plain": [
       "MLPRegressor(activation='relu', alpha=0.0001, batch_size='auto', beta_1=0.9,\n",
       "       beta_2=0.999, early_stopping=False, epsilon=1e-08,\n",
       "       hidden_layer_sizes=120, learning_rate='constant',\n",
       "       learning_rate_init=0.001, max_iter=2000, momentum=0.9,\n",
       "       nesterovs_momentum=True, power_t=0.5, random_state=None,\n",
       "       shuffle=True, solver='lbfgs', tol=0.0001, validation_fraction=0.1,\n",
       "       verbose=False, warm_start=False)"
      ]
     },
     "execution_count": 123,
     "metadata": {},
     "output_type": "execute_result"
    }
   ],
   "source": [
    "m1_nn.fit(X, y['formation_energy_ev_natom'])"
   ]
  },
  {
   "cell_type": "code",
   "execution_count": 124,
   "metadata": {
    "collapsed": true
   },
   "outputs": [],
   "source": [
    "p1 = m1_nn.predict(y_test)"
   ]
  },
  {
   "cell_type": "code",
   "execution_count": 125,
   "metadata": {},
   "outputs": [
    {
     "name": "stdout",
     "output_type": "stream",
     "text": [
      "(600,)\n"
     ]
    }
   ],
   "source": [
    "print(p1.shape)"
   ]
  },
  {
   "cell_type": "markdown",
   "metadata": {},
   "source": [
    "### Model 2 NN"
   ]
  },
  {
   "cell_type": "code",
   "execution_count": 126,
   "metadata": {
    "collapsed": true
   },
   "outputs": [],
   "source": [
    "m2_nn = MLPRegressor(activation='tanh', alpha=0.0001, batch_size='auto', early_stopping=False, hidden_layer_sizes=120, learning_rate='constant', learning_rate_init=0.001, max_iter=500, power_t=0.5, solver='lbfgs', warm_start=False)       "
   ]
  },
  {
   "cell_type": "code",
   "execution_count": 127,
   "metadata": {},
   "outputs": [
    {
     "data": {
      "text/plain": [
       "MLPRegressor(activation='tanh', alpha=0.0001, batch_size='auto', beta_1=0.9,\n",
       "       beta_2=0.999, early_stopping=False, epsilon=1e-08,\n",
       "       hidden_layer_sizes=120, learning_rate='constant',\n",
       "       learning_rate_init=0.001, max_iter=500, momentum=0.9,\n",
       "       nesterovs_momentum=True, power_t=0.5, random_state=None,\n",
       "       shuffle=True, solver='lbfgs', tol=0.0001, validation_fraction=0.1,\n",
       "       verbose=False, warm_start=False)"
      ]
     },
     "execution_count": 127,
     "metadata": {},
     "output_type": "execute_result"
    }
   ],
   "source": [
    "m2_nn.fit(X, y['bandgap_energy_ev'])"
   ]
  },
  {
   "cell_type": "code",
   "execution_count": 128,
   "metadata": {
    "collapsed": true
   },
   "outputs": [],
   "source": [
    "p2 = m2_nn.predict(y_test)"
   ]
  },
  {
   "cell_type": "code",
   "execution_count": 129,
   "metadata": {},
   "outputs": [
    {
     "data": {
      "text/plain": [
       "(600,)"
      ]
     },
     "execution_count": 129,
     "metadata": {},
     "output_type": "execute_result"
    }
   ],
   "source": [
    "p2.shape"
   ]
  },
  {
   "cell_type": "code",
   "execution_count": 130,
   "metadata": {
    "collapsed": true
   },
   "outputs": [],
   "source": [
    "test['formation_energy_ev_natom'] = p1\n",
    "test['bandgap_energy_ev'] = p2"
   ]
  },
  {
   "cell_type": "code",
   "execution_count": 131,
   "metadata": {},
   "outputs": [
    {
     "data": {
      "text/html": [
       "<div>\n",
       "<style>\n",
       "    .dataframe thead tr:only-child th {\n",
       "        text-align: right;\n",
       "    }\n",
       "\n",
       "    .dataframe thead th {\n",
       "        text-align: left;\n",
       "    }\n",
       "\n",
       "    .dataframe tbody tr th {\n",
       "        vertical-align: top;\n",
       "    }\n",
       "</style>\n",
       "<table border=\"1\" class=\"dataframe\">\n",
       "  <thead>\n",
       "    <tr style=\"text-align: right;\">\n",
       "      <th></th>\n",
       "      <th>spacegroup</th>\n",
       "      <th>number_of_total_atoms</th>\n",
       "      <th>percent_atom_al</th>\n",
       "      <th>percent_atom_ga</th>\n",
       "      <th>percent_atom_in</th>\n",
       "      <th>lattice_vector_1_ang</th>\n",
       "      <th>lattice_vector_2_ang</th>\n",
       "      <th>lattice_vector_3_ang</th>\n",
       "      <th>lattice_angle_alpha_degree</th>\n",
       "      <th>lattice_angle_beta_degree</th>\n",
       "      <th>lattice_angle_gamma_degree</th>\n",
       "      <th>formation_energy_ev_natom</th>\n",
       "      <th>bandgap_energy_ev</th>\n",
       "    </tr>\n",
       "    <tr>\n",
       "      <th>id</th>\n",
       "      <th></th>\n",
       "      <th></th>\n",
       "      <th></th>\n",
       "      <th></th>\n",
       "      <th></th>\n",
       "      <th></th>\n",
       "      <th></th>\n",
       "      <th></th>\n",
       "      <th></th>\n",
       "      <th></th>\n",
       "      <th></th>\n",
       "      <th></th>\n",
       "      <th></th>\n",
       "    </tr>\n",
       "  </thead>\n",
       "  <tbody>\n",
       "    <tr>\n",
       "      <th>1</th>\n",
       "      <td>33</td>\n",
       "      <td>80.0</td>\n",
       "      <td>0.1875</td>\n",
       "      <td>0.4688</td>\n",
       "      <td>0.3438</td>\n",
       "      <td>10.5381</td>\n",
       "      <td>9.0141</td>\n",
       "      <td>9.6361</td>\n",
       "      <td>89.9997</td>\n",
       "      <td>90.0003</td>\n",
       "      <td>90.0006</td>\n",
       "      <td>0.207051</td>\n",
       "      <td>1.668168</td>\n",
       "    </tr>\n",
       "    <tr>\n",
       "      <th>2</th>\n",
       "      <td>33</td>\n",
       "      <td>80.0</td>\n",
       "      <td>0.7500</td>\n",
       "      <td>0.2500</td>\n",
       "      <td>0.0000</td>\n",
       "      <td>9.8938</td>\n",
       "      <td>8.5014</td>\n",
       "      <td>9.1298</td>\n",
       "      <td>90.0038</td>\n",
       "      <td>90.0023</td>\n",
       "      <td>90.0015</td>\n",
       "      <td>0.069204</td>\n",
       "      <td>3.997254</td>\n",
       "    </tr>\n",
       "  </tbody>\n",
       "</table>\n",
       "</div>"
      ],
      "text/plain": [
       "    spacegroup  number_of_total_atoms  percent_atom_al  percent_atom_ga  \\\n",
       "id                                                                        \n",
       "1           33                   80.0           0.1875           0.4688   \n",
       "2           33                   80.0           0.7500           0.2500   \n",
       "\n",
       "    percent_atom_in  lattice_vector_1_ang  lattice_vector_2_ang  \\\n",
       "id                                                                \n",
       "1            0.3438               10.5381                9.0141   \n",
       "2            0.0000                9.8938                8.5014   \n",
       "\n",
       "    lattice_vector_3_ang  lattice_angle_alpha_degree  \\\n",
       "id                                                     \n",
       "1                 9.6361                     89.9997   \n",
       "2                 9.1298                     90.0038   \n",
       "\n",
       "    lattice_angle_beta_degree  lattice_angle_gamma_degree  \\\n",
       "id                                                          \n",
       "1                     90.0003                     90.0006   \n",
       "2                     90.0023                     90.0015   \n",
       "\n",
       "    formation_energy_ev_natom  bandgap_energy_ev  \n",
       "id                                                \n",
       "1                    0.207051           1.668168  \n",
       "2                    0.069204           3.997254  "
      ]
     },
     "execution_count": 131,
     "metadata": {},
     "output_type": "execute_result"
    }
   ],
   "source": [
    "test.head(2)"
   ]
  },
  {
   "cell_type": "code",
   "execution_count": 132,
   "metadata": {},
   "outputs": [
    {
     "data": {
      "text/html": [
       "<div>\n",
       "<style>\n",
       "    .dataframe thead tr:only-child th {\n",
       "        text-align: right;\n",
       "    }\n",
       "\n",
       "    .dataframe thead th {\n",
       "        text-align: left;\n",
       "    }\n",
       "\n",
       "    .dataframe tbody tr th {\n",
       "        vertical-align: top;\n",
       "    }\n",
       "</style>\n",
       "<table border=\"1\" class=\"dataframe\">\n",
       "  <thead>\n",
       "    <tr style=\"text-align: right;\">\n",
       "      <th></th>\n",
       "      <th>formation_energy_ev_natom</th>\n",
       "      <th>bandgap_energy_ev</th>\n",
       "    </tr>\n",
       "    <tr>\n",
       "      <th>id</th>\n",
       "      <th></th>\n",
       "      <th></th>\n",
       "    </tr>\n",
       "  </thead>\n",
       "  <tbody>\n",
       "    <tr>\n",
       "      <th>1</th>\n",
       "      <td>0.207051</td>\n",
       "      <td>1.668168</td>\n",
       "    </tr>\n",
       "    <tr>\n",
       "      <th>2</th>\n",
       "      <td>0.069204</td>\n",
       "      <td>3.997254</td>\n",
       "    </tr>\n",
       "    <tr>\n",
       "      <th>3</th>\n",
       "      <td>0.147716</td>\n",
       "      <td>3.436736</td>\n",
       "    </tr>\n",
       "    <tr>\n",
       "      <th>4</th>\n",
       "      <td>0.035946</td>\n",
       "      <td>3.044159</td>\n",
       "    </tr>\n",
       "    <tr>\n",
       "      <th>5</th>\n",
       "      <td>0.143977</td>\n",
       "      <td>1.650324</td>\n",
       "    </tr>\n",
       "  </tbody>\n",
       "</table>\n",
       "</div>"
      ],
      "text/plain": [
       "    formation_energy_ev_natom  bandgap_energy_ev\n",
       "id                                              \n",
       "1                    0.207051           1.668168\n",
       "2                    0.069204           3.997254\n",
       "3                    0.147716           3.436736\n",
       "4                    0.035946           3.044159\n",
       "5                    0.143977           1.650324"
      ]
     },
     "execution_count": 132,
     "metadata": {},
     "output_type": "execute_result"
    }
   ],
   "source": [
    "dfcsv = test[['formation_energy_ev_natom','bandgap_energy_ev']]\n",
    "dfcsv.head()"
   ]
  },
  {
   "cell_type": "code",
   "execution_count": 137,
   "metadata": {
    "collapsed": true
   },
   "outputs": [],
   "source": [
    "for i,row in dfcsv[dfcsv['formation_energy_ev_natom'] <= 0.0].iterrows():\n",
    "    dfcsv.at[i,'formation_energy_ev_natom'] = dfcsv['formation_energy_ev_natom'].mean()"
   ]
  },
  {
   "cell_type": "code",
   "execution_count": 139,
   "metadata": {
    "collapsed": true
   },
   "outputs": [],
   "source": [
    "#dfcsv.to_csv('sub2_nn.csv')"
   ]
  },
  {
   "cell_type": "code",
   "execution_count": null,
   "metadata": {
    "collapsed": true
   },
   "outputs": [],
   "source": []
  }
 ],
 "metadata": {
  "kernelspec": {
   "display_name": "Python 3",
   "language": "python",
   "name": "python3"
  },
  "language_info": {
   "codemirror_mode": {
    "name": "ipython",
    "version": 3
   },
   "file_extension": ".py",
   "mimetype": "text/x-python",
   "name": "python",
   "nbconvert_exporter": "python",
   "pygments_lexer": "ipython3",
   "version": "3.6.3"
  }
 },
 "nbformat": 4,
 "nbformat_minor": 2
}
