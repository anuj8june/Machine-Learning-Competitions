{
 "cells": [
  {
   "cell_type": "code",
   "execution_count": 17,
   "metadata": {
    "collapsed": true
   },
   "outputs": [],
   "source": [
    "import pandas as pd\n",
    "import numpy as np"
   ]
  },
  {
   "cell_type": "code",
   "execution_count": 18,
   "metadata": {
    "collapsed": true
   },
   "outputs": [],
   "source": [
    "sub2 = pd.read_csv('sub2.csv')\n",
    "sub3 = pd.read_csv('sub3.csv')\n",
    "sub4 = pd.read_csv('sub4.csv')"
   ]
  },
  {
   "cell_type": "code",
   "execution_count": 19,
   "metadata": {},
   "outputs": [],
   "source": [
    "sub8 = sub2.copy()"
   ]
  },
  {
   "cell_type": "code",
   "execution_count": 20,
   "metadata": {},
   "outputs": [
    {
     "data": {
      "text/html": [
       "<div>\n",
       "<style>\n",
       "    .dataframe thead tr:only-child th {\n",
       "        text-align: right;\n",
       "    }\n",
       "\n",
       "    .dataframe thead th {\n",
       "        text-align: left;\n",
       "    }\n",
       "\n",
       "    .dataframe tbody tr th {\n",
       "        vertical-align: top;\n",
       "    }\n",
       "</style>\n",
       "<table border=\"1\" class=\"dataframe\">\n",
       "  <thead>\n",
       "    <tr style=\"text-align: right;\">\n",
       "      <th></th>\n",
       "      <th>id</th>\n",
       "      <th>toxic</th>\n",
       "      <th>severe_toxic</th>\n",
       "      <th>obscene</th>\n",
       "      <th>threat</th>\n",
       "      <th>insult</th>\n",
       "      <th>identity_hate</th>\n",
       "    </tr>\n",
       "  </thead>\n",
       "  <tbody>\n",
       "    <tr>\n",
       "      <th>0</th>\n",
       "      <td>00001cee341fdb12</td>\n",
       "      <td>0.990186</td>\n",
       "      <td>0.096575</td>\n",
       "      <td>0.976535</td>\n",
       "      <td>0.015117</td>\n",
       "      <td>0.913195</td>\n",
       "      <td>0.147946</td>\n",
       "    </tr>\n",
       "    <tr>\n",
       "      <th>1</th>\n",
       "      <td>0000247867823ef7</td>\n",
       "      <td>0.033304</td>\n",
       "      <td>0.005266</td>\n",
       "      <td>0.018315</td>\n",
       "      <td>0.002521</td>\n",
       "      <td>0.021748</td>\n",
       "      <td>0.006421</td>\n",
       "    </tr>\n",
       "    <tr>\n",
       "      <th>2</th>\n",
       "      <td>00013b17ad220c46</td>\n",
       "      <td>0.002127</td>\n",
       "      <td>0.000959</td>\n",
       "      <td>0.001645</td>\n",
       "      <td>0.000595</td>\n",
       "      <td>0.001416</td>\n",
       "      <td>0.000758</td>\n",
       "    </tr>\n",
       "    <tr>\n",
       "      <th>3</th>\n",
       "      <td>00017563c3f7919a</td>\n",
       "      <td>0.006652</td>\n",
       "      <td>0.002736</td>\n",
       "      <td>0.004846</td>\n",
       "      <td>0.001536</td>\n",
       "      <td>0.005530</td>\n",
       "      <td>0.002270</td>\n",
       "    </tr>\n",
       "    <tr>\n",
       "      <th>4</th>\n",
       "      <td>00017695ad8997eb</td>\n",
       "      <td>0.032317</td>\n",
       "      <td>0.002675</td>\n",
       "      <td>0.010017</td>\n",
       "      <td>0.001398</td>\n",
       "      <td>0.012615</td>\n",
       "      <td>0.001975</td>\n",
       "    </tr>\n",
       "  </tbody>\n",
       "</table>\n",
       "</div>"
      ],
      "text/plain": [
       "                 id     toxic  severe_toxic   obscene    threat    insult  \\\n",
       "0  00001cee341fdb12  0.990186      0.096575  0.976535  0.015117  0.913195   \n",
       "1  0000247867823ef7  0.033304      0.005266  0.018315  0.002521  0.021748   \n",
       "2  00013b17ad220c46  0.002127      0.000959  0.001645  0.000595  0.001416   \n",
       "3  00017563c3f7919a  0.006652      0.002736  0.004846  0.001536  0.005530   \n",
       "4  00017695ad8997eb  0.032317      0.002675  0.010017  0.001398  0.012615   \n",
       "\n",
       "   identity_hate  \n",
       "0       0.147946  \n",
       "1       0.006421  \n",
       "2       0.000758  \n",
       "3       0.002270  \n",
       "4       0.001975  "
      ]
     },
     "execution_count": 20,
     "metadata": {},
     "output_type": "execute_result"
    }
   ],
   "source": [
    "sub8.head()"
   ]
  },
  {
   "cell_type": "code",
   "execution_count": 26,
   "metadata": {},
   "outputs": [],
   "source": [
    "sub8['toxic'] = (1/3)*(sub8['toxic'] + sub3['toxic'] + sub4['toxic'])\n",
    "sub8['severe_toxic'] = (1/3)*(sub8['severe_toxic'] + sub3['severe_toxic'] + sub4['severe_toxic'])\n",
    "sub8['obscene'] = (1/3)*(sub8['obscene'] + sub3['obscene'] + sub4['obscene'])\n",
    "sub8['threat'] = (1/3)*(sub8['threat'] + sub3['threat'] + sub4['threat'])\n",
    "sub8['insult'] = (1/3)*(sub8['insult'] + sub3['insult'] + sub4['insult'])\n",
    "sub8['identity_hate'] = (1/3)*(sub8['identity_hate'] + sub3['identity_hate'] + sub4['identity_hate'])"
   ]
  },
  {
   "cell_type": "code",
   "execution_count": 28,
   "metadata": {},
   "outputs": [],
   "source": [
    "sub8.to_csv('sub8.csv',index=False)"
   ]
  }
 ],
 "metadata": {
  "kernelspec": {
   "display_name": "Python 3",
   "language": "python",
   "name": "python3"
  },
  "language_info": {
   "codemirror_mode": {
    "name": "ipython",
    "version": 3
   },
   "file_extension": ".py",
   "mimetype": "text/x-python",
   "name": "python",
   "nbconvert_exporter": "python",
   "pygments_lexer": "ipython3",
   "version": "3.6.3"
  }
 },
 "nbformat": 4,
 "nbformat_minor": 2
}
