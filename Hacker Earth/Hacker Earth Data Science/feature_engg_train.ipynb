{
 "cells": [
  {
   "cell_type": "markdown",
   "metadata": {},
   "source": [
    "# Kickstarter \n",
    "\n",
    "### Loading relevent libraries and dataset"
   ]
  },
  {
   "cell_type": "code",
   "execution_count": 1,
   "metadata": {
    "collapsed": true
   },
   "outputs": [],
   "source": [
    "import pandas as pd\n",
    "import numpy as np\n",
    "from datetime import datetime\n",
    "from datetime import date\n",
    "from nltk.corpus import stopwords\n",
    "from nltk import word_tokenize\n",
    "from nltk.stem.wordnet import WordNetLemmatizer\n",
    "from collections import Counter\n",
    "from nltk import word_tokenize"
   ]
  },
  {
   "cell_type": "code",
   "execution_count": 2,
   "metadata": {},
   "outputs": [
    {
     "data": {
      "text/html": [
       "<div>\n",
       "<style>\n",
       "    .dataframe thead tr:only-child th {\n",
       "        text-align: right;\n",
       "    }\n",
       "\n",
       "    .dataframe thead th {\n",
       "        text-align: left;\n",
       "    }\n",
       "\n",
       "    .dataframe tbody tr th {\n",
       "        vertical-align: top;\n",
       "    }\n",
       "</style>\n",
       "<table border=\"1\" class=\"dataframe\">\n",
       "  <thead>\n",
       "    <tr style=\"text-align: right;\">\n",
       "      <th></th>\n",
       "      <th>project_id</th>\n",
       "      <th>name</th>\n",
       "      <th>desc</th>\n",
       "      <th>goal</th>\n",
       "      <th>keywords</th>\n",
       "      <th>disable_communication</th>\n",
       "      <th>country</th>\n",
       "      <th>currency</th>\n",
       "      <th>deadline</th>\n",
       "      <th>state_changed_at</th>\n",
       "      <th>created_at</th>\n",
       "      <th>launched_at</th>\n",
       "      <th>backers_count</th>\n",
       "      <th>final_status</th>\n",
       "    </tr>\n",
       "  </thead>\n",
       "  <tbody>\n",
       "    <tr>\n",
       "      <th>0</th>\n",
       "      <td>kkst1451568084</td>\n",
       "      <td>drawing for dollars</td>\n",
       "      <td>I like drawing pictures. and then i color them...</td>\n",
       "      <td>20.0</td>\n",
       "      <td>drawing-for-dollars</td>\n",
       "      <td>False</td>\n",
       "      <td>US</td>\n",
       "      <td>USD</td>\n",
       "      <td>1241333999</td>\n",
       "      <td>1241334017</td>\n",
       "      <td>1240600507</td>\n",
       "      <td>1240602723</td>\n",
       "      <td>3</td>\n",
       "      <td>1</td>\n",
       "    </tr>\n",
       "    <tr>\n",
       "      <th>1</th>\n",
       "      <td>kkst1474482071</td>\n",
       "      <td>Sponsor Dereck Blackburn (Lostwars) Artist in ...</td>\n",
       "      <td>I, Dereck Blackburn will be taking upon an inc...</td>\n",
       "      <td>300.0</td>\n",
       "      <td>sponsor-dereck-blackburn-lostwars-artist-in-re...</td>\n",
       "      <td>False</td>\n",
       "      <td>US</td>\n",
       "      <td>USD</td>\n",
       "      <td>1242429000</td>\n",
       "      <td>1242432018</td>\n",
       "      <td>1240960224</td>\n",
       "      <td>1240975592</td>\n",
       "      <td>2</td>\n",
       "      <td>0</td>\n",
       "    </tr>\n",
       "    <tr>\n",
       "      <th>2</th>\n",
       "      <td>kkst183622197</td>\n",
       "      <td>Mr. Squiggles</td>\n",
       "      <td>So I saw darkpony's successfully funded drawin...</td>\n",
       "      <td>30.0</td>\n",
       "      <td>mr-squiggles</td>\n",
       "      <td>False</td>\n",
       "      <td>US</td>\n",
       "      <td>USD</td>\n",
       "      <td>1243027560</td>\n",
       "      <td>1243027818</td>\n",
       "      <td>1242163613</td>\n",
       "      <td>1242164398</td>\n",
       "      <td>0</td>\n",
       "      <td>0</td>\n",
       "    </tr>\n",
       "  </tbody>\n",
       "</table>\n",
       "</div>"
      ],
      "text/plain": [
       "       project_id                                               name  \\\n",
       "0  kkst1451568084                                drawing for dollars   \n",
       "1  kkst1474482071  Sponsor Dereck Blackburn (Lostwars) Artist in ...   \n",
       "2   kkst183622197                                      Mr. Squiggles   \n",
       "\n",
       "                                                desc   goal  \\\n",
       "0  I like drawing pictures. and then i color them...   20.0   \n",
       "1  I, Dereck Blackburn will be taking upon an inc...  300.0   \n",
       "2  So I saw darkpony's successfully funded drawin...   30.0   \n",
       "\n",
       "                                            keywords  disable_communication  \\\n",
       "0                                drawing-for-dollars                  False   \n",
       "1  sponsor-dereck-blackburn-lostwars-artist-in-re...                  False   \n",
       "2                                       mr-squiggles                  False   \n",
       "\n",
       "  country currency    deadline  state_changed_at  created_at  launched_at  \\\n",
       "0      US      USD  1241333999        1241334017  1240600507   1240602723   \n",
       "1      US      USD  1242429000        1242432018  1240960224   1240975592   \n",
       "2      US      USD  1243027560        1243027818  1242163613   1242164398   \n",
       "\n",
       "   backers_count  final_status  \n",
       "0              3             1  \n",
       "1              2             0  \n",
       "2              0             0  "
      ]
     },
     "execution_count": 2,
     "metadata": {},
     "output_type": "execute_result"
    }
   ],
   "source": [
    "train = pd.read_csv('train.csv')\n",
    "train.head(3)"
   ]
  },
  {
   "cell_type": "code",
   "execution_count": 3,
   "metadata": {},
   "outputs": [
    {
     "data": {
      "text/html": [
       "<div>\n",
       "<style>\n",
       "    .dataframe thead tr:only-child th {\n",
       "        text-align: right;\n",
       "    }\n",
       "\n",
       "    .dataframe thead th {\n",
       "        text-align: left;\n",
       "    }\n",
       "\n",
       "    .dataframe tbody tr th {\n",
       "        vertical-align: top;\n",
       "    }\n",
       "</style>\n",
       "<table border=\"1\" class=\"dataframe\">\n",
       "  <thead>\n",
       "    <tr style=\"text-align: right;\">\n",
       "      <th></th>\n",
       "      <th>project_id</th>\n",
       "      <th>name</th>\n",
       "      <th>desc</th>\n",
       "      <th>goal</th>\n",
       "      <th>keywords</th>\n",
       "      <th>disable_communication</th>\n",
       "      <th>country</th>\n",
       "      <th>currency</th>\n",
       "      <th>deadline</th>\n",
       "      <th>state_changed_at</th>\n",
       "      <th>created_at</th>\n",
       "      <th>launched_at</th>\n",
       "    </tr>\n",
       "  </thead>\n",
       "  <tbody>\n",
       "    <tr>\n",
       "      <th>0</th>\n",
       "      <td>kkst917493670</td>\n",
       "      <td>Bràthair.</td>\n",
       "      <td>My first film, of many to come. Trying to purs...</td>\n",
       "      <td>7000.0</td>\n",
       "      <td>brathair</td>\n",
       "      <td>False</td>\n",
       "      <td>US</td>\n",
       "      <td>USD</td>\n",
       "      <td>1449619185</td>\n",
       "      <td>1449619185</td>\n",
       "      <td>1446002581</td>\n",
       "      <td>1446159585</td>\n",
       "    </tr>\n",
       "    <tr>\n",
       "      <th>1</th>\n",
       "      <td>kkst1664901914</td>\n",
       "      <td>THE SCREENWRITER</td>\n",
       "      <td>A young man that has earned his master's in sc...</td>\n",
       "      <td>35000.0</td>\n",
       "      <td>the-screenwriter</td>\n",
       "      <td>False</td>\n",
       "      <td>US</td>\n",
       "      <td>USD</td>\n",
       "      <td>1453435620</td>\n",
       "      <td>1453435620</td>\n",
       "      <td>1450297323</td>\n",
       "      <td>1450411620</td>\n",
       "    </tr>\n",
       "    <tr>\n",
       "      <th>2</th>\n",
       "      <td>kkst925125077</td>\n",
       "      <td>The Hornets Nest the Fairmont Heights Story</td>\n",
       "      <td>Film about a high school constructed for negro...</td>\n",
       "      <td>49500.0</td>\n",
       "      <td>the-hornets-nest-the-fairmont-heights-story</td>\n",
       "      <td>False</td>\n",
       "      <td>US</td>\n",
       "      <td>USD</td>\n",
       "      <td>1451780700</td>\n",
       "      <td>1451780700</td>\n",
       "      <td>1448581356</td>\n",
       "      <td>1448672128</td>\n",
       "    </tr>\n",
       "  </tbody>\n",
       "</table>\n",
       "</div>"
      ],
      "text/plain": [
       "       project_id                                         name  \\\n",
       "0   kkst917493670                                    Bràthair.   \n",
       "1  kkst1664901914                             THE SCREENWRITER   \n",
       "2   kkst925125077  The Hornets Nest the Fairmont Heights Story   \n",
       "\n",
       "                                                desc     goal  \\\n",
       "0  My first film, of many to come. Trying to purs...   7000.0   \n",
       "1  A young man that has earned his master's in sc...  35000.0   \n",
       "2  Film about a high school constructed for negro...  49500.0   \n",
       "\n",
       "                                      keywords  disable_communication country  \\\n",
       "0                                     brathair                  False      US   \n",
       "1                             the-screenwriter                  False      US   \n",
       "2  the-hornets-nest-the-fairmont-heights-story                  False      US   \n",
       "\n",
       "  currency    deadline  state_changed_at  created_at  launched_at  \n",
       "0      USD  1449619185        1449619185  1446002581   1446159585  \n",
       "1      USD  1453435620        1453435620  1450297323   1450411620  \n",
       "2      USD  1451780700        1451780700  1448581356   1448672128  "
      ]
     },
     "execution_count": 3,
     "metadata": {},
     "output_type": "execute_result"
    }
   ],
   "source": [
    "test = pd.read_csv('test.csv')\n",
    "test.head(3)"
   ]
  },
  {
   "cell_type": "markdown",
   "metadata": {},
   "source": [
    "### Analyzing datasets"
   ]
  },
  {
   "cell_type": "code",
   "execution_count": 4,
   "metadata": {},
   "outputs": [
    {
     "name": "stdout",
     "output_type": "stream",
     "text": [
      "train length:108129\n",
      "test length:63465\n"
     ]
    }
   ],
   "source": [
    "print('train length:{0}'.format(len(train)))\n",
    "print('test length:{0}'.format(len(test)))"
   ]
  },
  {
   "cell_type": "code",
   "execution_count": 5,
   "metadata": {},
   "outputs": [
    {
     "name": "stdout",
     "output_type": "stream",
     "text": [
      "train length:project_id                object\n",
      "name                      object\n",
      "desc                      object\n",
      "goal                     float64\n",
      "keywords                  object\n",
      "disable_communication       bool\n",
      "country                   object\n",
      "currency                  object\n",
      "deadline                   int64\n",
      "state_changed_at           int64\n",
      "created_at                 int64\n",
      "launched_at                int64\n",
      "backers_count              int64\n",
      "final_status               int64\n",
      "dtype: object\n",
      "\n",
      "test length:project_id                object\n",
      "name                      object\n",
      "desc                      object\n",
      "goal                     float64\n",
      "keywords                  object\n",
      "disable_communication       bool\n",
      "country                   object\n",
      "currency                  object\n",
      "deadline                   int64\n",
      "state_changed_at           int64\n",
      "created_at                 int64\n",
      "launched_at                int64\n",
      "dtype: object\n"
     ]
    }
   ],
   "source": [
    "print('train length:{0}\\n'.format(train.dtypes))\n",
    "print('test length:{0}'.format(test.dtypes))"
   ]
  },
  {
   "cell_type": "code",
   "execution_count": 6,
   "metadata": {
    "collapsed": true
   },
   "outputs": [],
   "source": [
    "X = train.copy()\n",
    "y = test.copy()"
   ]
  },
  {
   "cell_type": "code",
   "execution_count": 7,
   "metadata": {},
   "outputs": [
    {
     "data": {
      "text/plain": [
       "Index(['backers_count', 'ca_d', 'ca_m', 'ca_y', 'country', 'created_at',\n",
       "       'currency', 'deadline', 'desc', 'disable_communication', 'dl_d', 'dl_m',\n",
       "       'dl_y', 'final_status', 'goal', 'keywords', 'la_d', 'la_m', 'la_y',\n",
       "       'launched_at', 'name', 'project_id', 'sc_d', 'sc_m', 'sc_y',\n",
       "       'state_changed_at'],\n",
       "      dtype='object')"
      ]
     },
     "execution_count": 7,
     "metadata": {},
     "output_type": "execute_result"
    }
   ],
   "source": [
    "X = pd.concat([X,pd.DataFrame(columns=['dl_y','dl_m','dl_d','sc_y','sc_m','sc_d','ca_y','ca_m','ca_d','la_y','la_m','la_d'])])\n",
    "X.columns"
   ]
  },
  {
   "cell_type": "code",
   "execution_count": 8,
   "metadata": {
    "collapsed": true
   },
   "outputs": [],
   "source": [
    "X['dl_y'] = 0\n",
    "X['dl_m'] = 0\n",
    "X['dl_d'] = 0\n",
    "X['sc_y'] = 0\n",
    "X['sc_m'] = 0\n",
    "X['sc_d'] = 0\n",
    "X['ca_y'] = 0\n",
    "X['ca_m'] = 0\n",
    "X['ca_d'] = 0\n",
    "X['la_y'] = 0\n",
    "X['la_m'] = 0\n",
    "X['la_d'] = 0"
   ]
  },
  {
   "cell_type": "code",
   "execution_count": 9,
   "metadata": {
    "collapsed": true
   },
   "outputs": [],
   "source": [
    "for i, row in X.iterrows():\n",
    "    date_d = datetime.fromtimestamp(row['deadline']).strftime('%Y-%m-%d')\n",
    "    date_s = datetime.fromtimestamp(row['state_changed_at']).strftime('%Y-%m-%d')\n",
    "    date_c = datetime.fromtimestamp(row['created_at']).strftime('%Y-%m-%d')\n",
    "    date_l = datetime.fromtimestamp(row['launched_at']).strftime('%Y-%m-%d')\n",
    "    X.at[i,'dl_y'] = date_d[:4]\n",
    "    X.at[i,'dl_m'] = date_d[5:7]\n",
    "    X.at[i,'dl_d'] = date_d[8:]\n",
    "    X.at[i,'sc_y'] = date_s[:4]\n",
    "    X.at[i,'sc_m'] = date_s[5:7]\n",
    "    X.at[i,'sc_d'] = date_s[8:]\n",
    "    X.at[i,'ca_y'] = date_c[:4]\n",
    "    X.at[i,'ca_m'] = date_c[5:7]\n",
    "    X.at[i,'ca_d'] = date_c[8:]\n",
    "    X.at[i,'la_y'] = date_l[:4]\n",
    "    X.at[i,'la_m'] = date_l[5:7]\n",
    "    X.at[i,'la_d'] = date_l[8:]"
   ]
  },
  {
   "cell_type": "code",
   "execution_count": 10,
   "metadata": {},
   "outputs": [
    {
     "data": {
      "text/plain": [
       "Index(['backers_count', 'ca_d', 'ca_m', 'ca_y', 'country', 'currency', 'desc',\n",
       "       'disable_communication', 'dl_d', 'dl_m', 'dl_y', 'final_status', 'goal',\n",
       "       'keywords', 'la_d', 'la_m', 'la_y', 'name', 'project_id', 'sc_d',\n",
       "       'sc_m', 'sc_y'],\n",
       "      dtype='object')"
      ]
     },
     "execution_count": 10,
     "metadata": {},
     "output_type": "execute_result"
    }
   ],
   "source": [
    "X.drop(['deadline','state_changed_at','created_at','launched_at'], axis=1, inplace=True)\n",
    "X.columns"
   ]
  },
  {
   "cell_type": "code",
   "execution_count": 11,
   "metadata": {},
   "outputs": [
    {
     "data": {
      "text/html": [
       "<div>\n",
       "<style>\n",
       "    .dataframe thead tr:only-child th {\n",
       "        text-align: right;\n",
       "    }\n",
       "\n",
       "    .dataframe thead th {\n",
       "        text-align: left;\n",
       "    }\n",
       "\n",
       "    .dataframe tbody tr th {\n",
       "        vertical-align: top;\n",
       "    }\n",
       "</style>\n",
       "<table border=\"1\" class=\"dataframe\">\n",
       "  <thead>\n",
       "    <tr style=\"text-align: right;\">\n",
       "      <th></th>\n",
       "      <th>dl_d</th>\n",
       "      <th>dl_m</th>\n",
       "      <th>dl_y</th>\n",
       "      <th>final_status</th>\n",
       "      <th>goal</th>\n",
       "      <th>keywords</th>\n",
       "      <th>la_d</th>\n",
       "      <th>la_m</th>\n",
       "      <th>la_y</th>\n",
       "      <th>name</th>\n",
       "      <th>project_id</th>\n",
       "      <th>sc_d</th>\n",
       "    </tr>\n",
       "  </thead>\n",
       "  <tbody>\n",
       "    <tr>\n",
       "      <th>0</th>\n",
       "      <td>3</td>\n",
       "      <td>5</td>\n",
       "      <td>2009</td>\n",
       "      <td>1.0</td>\n",
       "      <td>20.0</td>\n",
       "      <td>drawing-for-dollars</td>\n",
       "      <td>25</td>\n",
       "      <td>4</td>\n",
       "      <td>2009</td>\n",
       "      <td>drawing for dollars</td>\n",
       "      <td>kkst1451568084</td>\n",
       "      <td>3</td>\n",
       "    </tr>\n",
       "    <tr>\n",
       "      <th>1</th>\n",
       "      <td>16</td>\n",
       "      <td>5</td>\n",
       "      <td>2009</td>\n",
       "      <td>0.0</td>\n",
       "      <td>300.0</td>\n",
       "      <td>sponsor-dereck-blackburn-lostwars-artist-in-re...</td>\n",
       "      <td>29</td>\n",
       "      <td>4</td>\n",
       "      <td>2009</td>\n",
       "      <td>Sponsor Dereck Blackburn (Lostwars) Artist in ...</td>\n",
       "      <td>kkst1474482071</td>\n",
       "      <td>16</td>\n",
       "    </tr>\n",
       "    <tr>\n",
       "      <th>2</th>\n",
       "      <td>23</td>\n",
       "      <td>5</td>\n",
       "      <td>2009</td>\n",
       "      <td>0.0</td>\n",
       "      <td>30.0</td>\n",
       "      <td>mr-squiggles</td>\n",
       "      <td>13</td>\n",
       "      <td>5</td>\n",
       "      <td>2009</td>\n",
       "      <td>Mr. Squiggles</td>\n",
       "      <td>kkst183622197</td>\n",
       "      <td>23</td>\n",
       "    </tr>\n",
       "    <tr>\n",
       "      <th>3</th>\n",
       "      <td>29</td>\n",
       "      <td>5</td>\n",
       "      <td>2009</td>\n",
       "      <td>1.0</td>\n",
       "      <td>500.0</td>\n",
       "      <td>help-me-write-my-second-novel</td>\n",
       "      <td>29</td>\n",
       "      <td>4</td>\n",
       "      <td>2009</td>\n",
       "      <td>Help me write my second novel.</td>\n",
       "      <td>kkst597742710</td>\n",
       "      <td>29</td>\n",
       "    </tr>\n",
       "    <tr>\n",
       "      <th>4</th>\n",
       "      <td>31</td>\n",
       "      <td>5</td>\n",
       "      <td>2009</td>\n",
       "      <td>0.0</td>\n",
       "      <td>2000.0</td>\n",
       "      <td>support-casting-my-sculpture-in-bronze</td>\n",
       "      <td>1</td>\n",
       "      <td>5</td>\n",
       "      <td>2009</td>\n",
       "      <td>Support casting my sculpture in bronze</td>\n",
       "      <td>kkst1913131122</td>\n",
       "      <td>31</td>\n",
       "    </tr>\n",
       "    <tr>\n",
       "      <th>5</th>\n",
       "      <td>1</td>\n",
       "      <td>6</td>\n",
       "      <td>2009</td>\n",
       "      <td>0.0</td>\n",
       "      <td>700.0</td>\n",
       "      <td>daily-digest</td>\n",
       "      <td>5</td>\n",
       "      <td>5</td>\n",
       "      <td>2009</td>\n",
       "      <td>daily digest</td>\n",
       "      <td>kkst1085176748</td>\n",
       "      <td>1</td>\n",
       "    </tr>\n",
       "    <tr>\n",
       "      <th>6</th>\n",
       "      <td>1</td>\n",
       "      <td>6</td>\n",
       "      <td>2009</td>\n",
       "      <td>0.0</td>\n",
       "      <td>250.0</td>\n",
       "      <td>igoozex-free-iphone-app</td>\n",
       "      <td>8</td>\n",
       "      <td>5</td>\n",
       "      <td>2009</td>\n",
       "      <td>iGoozex - Free iPhone app</td>\n",
       "      <td>kkst1468954715</td>\n",
       "      <td>1</td>\n",
       "    </tr>\n",
       "    <tr>\n",
       "      <th>7</th>\n",
       "      <td>4</td>\n",
       "      <td>6</td>\n",
       "      <td>2009</td>\n",
       "      <td>1.0</td>\n",
       "      <td>1000.0</td>\n",
       "      <td>drive-a-faster-car-20</td>\n",
       "      <td>5</td>\n",
       "      <td>5</td>\n",
       "      <td>2009</td>\n",
       "      <td>Drive A Faster Car 2.0</td>\n",
       "      <td>kkst194050612</td>\n",
       "      <td>4</td>\n",
       "    </tr>\n",
       "    <tr>\n",
       "      <th>8</th>\n",
       "      <td>6</td>\n",
       "      <td>6</td>\n",
       "      <td>2009</td>\n",
       "      <td>0.0</td>\n",
       "      <td>5000.0</td>\n",
       "      <td>lostles-at-tinys-giant</td>\n",
       "      <td>5</td>\n",
       "      <td>5</td>\n",
       "      <td>2009</td>\n",
       "      <td>\"\"\"\"\"\"\"\"\"\"\"\"\"\"\"\"\"\"\"\"\"\"\"\"\"\"\"\"\"\"\"\"\"\"\"\"\"\"\"\"\"\"\"\"\"\"...</td>\n",
       "      <td>kkst708883590</td>\n",
       "      <td>6</td>\n",
       "    </tr>\n",
       "    <tr>\n",
       "      <th>9</th>\n",
       "      <td>14</td>\n",
       "      <td>6</td>\n",
       "      <td>2009</td>\n",
       "      <td>0.0</td>\n",
       "      <td>3500.0</td>\n",
       "      <td>choose-your-own-adventure-a-robot-painting-series</td>\n",
       "      <td>14</td>\n",
       "      <td>5</td>\n",
       "      <td>2009</td>\n",
       "      <td>Choose Your Own Adventure - A Robot Painting S...</td>\n",
       "      <td>kkst890976740</td>\n",
       "      <td>14</td>\n",
       "    </tr>\n",
       "  </tbody>\n",
       "</table>\n",
       "</div>"
      ],
      "text/plain": [
       "   dl_d  dl_m  dl_y  final_status    goal  \\\n",
       "0     3     5  2009           1.0    20.0   \n",
       "1    16     5  2009           0.0   300.0   \n",
       "2    23     5  2009           0.0    30.0   \n",
       "3    29     5  2009           1.0   500.0   \n",
       "4    31     5  2009           0.0  2000.0   \n",
       "5     1     6  2009           0.0   700.0   \n",
       "6     1     6  2009           0.0   250.0   \n",
       "7     4     6  2009           1.0  1000.0   \n",
       "8     6     6  2009           0.0  5000.0   \n",
       "9    14     6  2009           0.0  3500.0   \n",
       "\n",
       "                                            keywords  la_d  la_m  la_y  \\\n",
       "0                                drawing-for-dollars    25     4  2009   \n",
       "1  sponsor-dereck-blackburn-lostwars-artist-in-re...    29     4  2009   \n",
       "2                                       mr-squiggles    13     5  2009   \n",
       "3                      help-me-write-my-second-novel    29     4  2009   \n",
       "4             support-casting-my-sculpture-in-bronze     1     5  2009   \n",
       "5                                       daily-digest     5     5  2009   \n",
       "6                            igoozex-free-iphone-app     8     5  2009   \n",
       "7                              drive-a-faster-car-20     5     5  2009   \n",
       "8                             lostles-at-tinys-giant     5     5  2009   \n",
       "9  choose-your-own-adventure-a-robot-painting-series    14     5  2009   \n",
       "\n",
       "                                                name      project_id  sc_d  \n",
       "0                                drawing for dollars  kkst1451568084     3  \n",
       "1  Sponsor Dereck Blackburn (Lostwars) Artist in ...  kkst1474482071    16  \n",
       "2                                      Mr. Squiggles   kkst183622197    23  \n",
       "3                     Help me write my second novel.   kkst597742710    29  \n",
       "4             Support casting my sculpture in bronze  kkst1913131122    31  \n",
       "5                                       daily digest  kkst1085176748     1  \n",
       "6                          iGoozex - Free iPhone app  kkst1468954715     1  \n",
       "7                             Drive A Faster Car 2.0   kkst194050612     4  \n",
       "8  \"\"\"\"\"\"\"\"\"\"\"\"\"\"\"\"\"\"\"\"\"\"\"\"\"\"\"\"\"\"\"\"\"\"\"\"\"\"\"\"\"\"\"\"\"\"...   kkst708883590     6  \n",
       "9  Choose Your Own Adventure - A Robot Painting S...   kkst890976740    14  "
      ]
     },
     "execution_count": 11,
     "metadata": {},
     "output_type": "execute_result"
    }
   ],
   "source": [
    "X.iloc[:,8:20].head(10)"
   ]
  },
  {
   "cell_type": "code",
   "execution_count": 12,
   "metadata": {
    "collapsed": true
   },
   "outputs": [],
   "source": [
    "X['duration'] = 0\n",
    "for i, row in X.iterrows():\n",
    "    dur = date(X.iloc[i]['dl_y'],X.iloc[i]['dl_m'],X.iloc[i]['dl_d']) - date(X.iloc[i]['ca_y'],X.iloc[i]['ca_m'],X.iloc[i]['ca_d'])\n",
    "    X.at[i,'duration'] = str(dur).split(' ')[0]"
   ]
  },
  {
   "cell_type": "code",
   "execution_count": 13,
   "metadata": {
    "collapsed": true
   },
   "outputs": [],
   "source": [
    "X.drop(['dl_d','sc_d','ca_d','la_d'], axis=1, inplace=True)"
   ]
  },
  {
   "cell_type": "code",
   "execution_count": 14,
   "metadata": {
    "collapsed": true
   },
   "outputs": [],
   "source": [
    "X['disable_communication'].replace([False,True],[0,1], inplace=True)"
   ]
  },
  {
   "cell_type": "code",
   "execution_count": 15,
   "metadata": {
    "collapsed": true
   },
   "outputs": [],
   "source": [
    "country = pd.get_dummies(X['country'],prefix='cntry')\n",
    "X = pd.concat([X, country], axis=1)"
   ]
  },
  {
   "cell_type": "code",
   "execution_count": 16,
   "metadata": {
    "collapsed": true
   },
   "outputs": [],
   "source": [
    "X.drop('cntry_DE', axis=1, inplace=True)"
   ]
  },
  {
   "cell_type": "code",
   "execution_count": 17,
   "metadata": {
    "collapsed": true
   },
   "outputs": [],
   "source": [
    "X.drop('country', axis=1, inplace=True)"
   ]
  },
  {
   "cell_type": "code",
   "execution_count": 18,
   "metadata": {
    "collapsed": true
   },
   "outputs": [],
   "source": [
    "currency = pd.get_dummies(X['currency'],prefix='curr')\n",
    "X = pd.concat([X, currency], axis=1)"
   ]
  },
  {
   "cell_type": "code",
   "execution_count": 19,
   "metadata": {
    "collapsed": true
   },
   "outputs": [],
   "source": [
    "X.drop('currency', axis=1, inplace=True)"
   ]
  },
  {
   "cell_type": "code",
   "execution_count": 20,
   "metadata": {},
   "outputs": [
    {
     "name": "stdout",
     "output_type": "stream",
     "text": [
      "backers_count            0\n",
      "ca_m                     0\n",
      "ca_y                     0\n",
      "desc                     0\n",
      "disable_communication    0\n",
      "dl_m                     0\n",
      "dl_y                     0\n",
      "final_status             0\n",
      "goal                     0\n",
      "keywords                 0\n",
      "la_m                     0\n",
      "la_y                     0\n",
      "name                     0\n",
      "project_id               0\n",
      "sc_m                     0\n",
      "sc_y                     0\n",
      "duration                 0\n",
      "cntry_AU                 0\n",
      "cntry_CA                 0\n",
      "cntry_DK                 0\n",
      "cntry_GB                 0\n",
      "cntry_IE                 0\n",
      "cntry_NL                 0\n",
      "cntry_NO                 0\n",
      "cntry_NZ                 0\n",
      "cntry_SE                 0\n",
      "cntry_US                 0\n",
      "curr_AUD                 0\n",
      "curr_CAD                 0\n",
      "curr_DKK                 0\n",
      "curr_EUR                 0\n",
      "curr_GBP                 0\n",
      "curr_NOK                 0\n",
      "curr_NZD                 0\n",
      "curr_SEK                 0\n",
      "curr_USD                 0\n",
      "dtype: int64\n",
      "108121\n"
     ]
    }
   ],
   "source": [
    "X.dropna(axis=0, how='any', inplace=True)\n",
    "print(X.isnull().sum())\n",
    "print(len(X))"
   ]
  },
  {
   "cell_type": "code",
   "execution_count": 21,
   "metadata": {
    "collapsed": true
   },
   "outputs": [],
   "source": [
    "tokens = list()\n",
    "for i, row in X.iterrows():\n",
    "    toks = row['keywords'].split('-')\n",
    "    tokens.append(toks)"
   ]
  },
  {
   "cell_type": "code",
   "execution_count": 22,
   "metadata": {
    "collapsed": true,
    "scrolled": true
   },
   "outputs": [],
   "source": [
    "stop_clean = list()\n",
    "for j in tokens:\n",
    "    temp = list()\n",
    "    for i in j :\n",
    "        if i.lower() not in stopwords.words('english'):\n",
    "            temp.append(i.lower())\n",
    "    stop_clean.append(temp)"
   ]
  },
  {
   "cell_type": "code",
   "execution_count": 23,
   "metadata": {
    "collapsed": true
   },
   "outputs": [],
   "source": [
    "lemm_toks = list()\n",
    "lemm = WordNetLemmatizer()\n",
    "for i in stop_clean:\n",
    "    temp = list()\n",
    "    for j in i:\n",
    "        word = lemm.lemmatize(j,'a')\n",
    "        word = lemm.lemmatize(word,'s')\n",
    "        word = lemm.lemmatize(word,'r')\n",
    "        word = lemm.lemmatize(word,'n')\n",
    "        word = lemm.lemmatize(word,'v')\n",
    "        temp.append(word)\n",
    "    lemm_toks.append(temp)"
   ]
  },
  {
   "cell_type": "code",
   "execution_count": 24,
   "metadata": {
    "collapsed": true
   },
   "outputs": [],
   "source": [
    "master_list = list()\n",
    "for i in lemm_toks:\n",
    "    for j in i:\n",
    "        master_list.append(j)"
   ]
  },
  {
   "cell_type": "code",
   "execution_count": 25,
   "metadata": {
    "collapsed": true
   },
   "outputs": [],
   "source": [
    "master_filter = [i for i in master_list if len(i)>2]"
   ]
  },
  {
   "cell_type": "code",
   "execution_count": 26,
   "metadata": {
    "collapsed": true
   },
   "outputs": [],
   "source": [
    "word_cnt = dict()\n",
    "for val in master_filter:\n",
    "    if val in word_cnt:\n",
    "        word_cnt[val] += 1\n",
    "    else:\n",
    "        word_cnt[val] = 1"
   ]
  },
  {
   "cell_type": "code",
   "execution_count": 27,
   "metadata": {
    "collapsed": true
   },
   "outputs": [],
   "source": [
    "word_cnt_filter = {k:v for k,v in word_cnt.items() if v >= 5}    "
   ]
  },
  {
   "cell_type": "code",
   "execution_count": 28,
   "metadata": {
    "collapsed": true
   },
   "outputs": [],
   "source": [
    "coupons = list()\n",
    "for i, row in X.iterrows():\n",
    "    coup = word_tokenize(row['desc'])\n",
    "    coupons.append(coup)"
   ]
  },
  {
   "cell_type": "code",
   "execution_count": 29,
   "metadata": {
    "collapsed": true
   },
   "outputs": [],
   "source": [
    "coupons_lower = list()\n",
    "for i in coupons:\n",
    "    temp = list()\n",
    "    for j in i:\n",
    "        if len(j) > 2:\n",
    "            temp.append(j.lower())\n",
    "    coupons_lower.append(temp)"
   ]
  },
  {
   "cell_type": "code",
   "execution_count": 30,
   "metadata": {
    "collapsed": true,
    "scrolled": false
   },
   "outputs": [],
   "source": [
    "stop_coupons = list()\n",
    "for j in coupons_lower:\n",
    "    temp = list()\n",
    "    for i in j :\n",
    "        if i.lower() not in stopwords.words('english'):\n",
    "            temp.append(i)\n",
    "    stop_coupons.append(temp)"
   ]
  },
  {
   "cell_type": "code",
   "execution_count": 31,
   "metadata": {
    "collapsed": true
   },
   "outputs": [],
   "source": [
    "lemm_coup = list()\n",
    "lemm = WordNetLemmatizer()\n",
    "for i in stop_coupons:\n",
    "    temp = list()\n",
    "    for j in i:\n",
    "        word = lemm.lemmatize(j,'a')\n",
    "        word = lemm.lemmatize(word,'s')\n",
    "        word = lemm.lemmatize(word,'r')\n",
    "        word = lemm.lemmatize(word,'n')\n",
    "        word = lemm.lemmatize(word,'v')\n",
    "        temp.append(word)\n",
    "    lemm_coup.append(temp)"
   ]
  },
  {
   "cell_type": "code",
   "execution_count": 32,
   "metadata": {
    "collapsed": true
   },
   "outputs": [],
   "source": [
    "master_coup = list()\n",
    "for i in lemm_coup:\n",
    "    for j in i:\n",
    "        master_coup.append(j)"
   ]
  },
  {
   "cell_type": "code",
   "execution_count": 33,
   "metadata": {
    "collapsed": true
   },
   "outputs": [],
   "source": [
    "word_coup = dict()\n",
    "for val in master_coup:\n",
    "    if val in word_coup:\n",
    "        word_coup[val] += 1\n",
    "    else:\n",
    "        word_coup[val] = 1"
   ]
  },
  {
   "cell_type": "code",
   "execution_count": 34,
   "metadata": {
    "collapsed": true
   },
   "outputs": [],
   "source": [
    "word_cnt_coup = {k:v for k,v in word_coup.items() if v >= 5} "
   ]
  },
  {
   "cell_type": "code",
   "execution_count": 35,
   "metadata": {
    "collapsed": true
   },
   "outputs": [],
   "source": [
    "filter_keys = list()\n",
    "for i, val in enumerate(lemm_toks):\n",
    "    temp = list()\n",
    "    coupo = lemm_coup[i]\n",
    "    for j in val:\n",
    "        if j in coupo:\n",
    "            temp.append(j)\n",
    "    filter_keys.append(temp)           "
   ]
  },
  {
   "cell_type": "code",
   "execution_count": 36,
   "metadata": {
    "collapsed": true
   },
   "outputs": [],
   "source": [
    "master_keys_list = [j for i in filter_keys for j in i]"
   ]
  },
  {
   "cell_type": "code",
   "execution_count": 37,
   "metadata": {
    "collapsed": true
   },
   "outputs": [],
   "source": [
    "for i, val in enumerate(filter_keys):\n",
    "    if len(val) == 0:\n",
    "        for j in lemm_coup[i]:\n",
    "            if j in master_keys_list:\n",
    "                filter_keys[i].append(j)"
   ]
  },
  {
   "cell_type": "code",
   "execution_count": 38,
   "metadata": {
    "collapsed": true
   },
   "outputs": [],
   "source": [
    "for i, val in enumerate(filter_keys):\n",
    "    if len(val) == 0:\n",
    "        for j in lemm_toks[i]:\n",
    "            if j in master_keys_list:\n",
    "                filter_keys[i].append(j)"
   ]
  },
  {
   "cell_type": "code",
   "execution_count": 39,
   "metadata": {
    "collapsed": true
   },
   "outputs": [],
   "source": [
    "master_words = [j for i in filter_keys for j in i]"
   ]
  },
  {
   "cell_type": "code",
   "execution_count": 40,
   "metadata": {
    "collapsed": true
   },
   "outputs": [],
   "source": [
    "master_words_count = dict()\n",
    "for i in master_words:\n",
    "    if i in master_words_count:\n",
    "        master_words_count[i] += 1\n",
    "    else:\n",
    "        master_words_count[i] = 1"
   ]
  },
  {
   "cell_type": "code",
   "execution_count": 41,
   "metadata": {
    "collapsed": true
   },
   "outputs": [],
   "source": [
    "master_words_count_filter = {k:v for k,v in master_words_count.items() if v >= 25}"
   ]
  },
  {
   "cell_type": "code",
   "execution_count": 42,
   "metadata": {
    "collapsed": true
   },
   "outputs": [],
   "source": [
    "repos = list()\n",
    "for k, v in master_words_count_filter.items():\n",
    "    repos.append(k)"
   ]
  },
  {
   "cell_type": "code",
   "execution_count": 43,
   "metadata": {
    "collapsed": true
   },
   "outputs": [],
   "source": [
    "keywords = list()\n",
    "for i,val in enumerate(filter_keys):\n",
    "    temp = list()\n",
    "    for j in val:\n",
    "        if j in repos:\n",
    "            temp.append(j)\n",
    "    keywords.append(temp)"
   ]
  },
  {
   "cell_type": "code",
   "execution_count": 49,
   "metadata": {
    "collapsed": true
   },
   "outputs": [],
   "source": [
    "selected_keys = pd.DataFrame(0, index=np.arange(0), columns=repos)"
   ]
  },
  {
   "cell_type": "code",
   "execution_count": 50,
   "metadata": {},
   "outputs": [
    {
     "data": {
      "text/html": [
       "<div>\n",
       "<style>\n",
       "    .dataframe thead tr:only-child th {\n",
       "        text-align: right;\n",
       "    }\n",
       "\n",
       "    .dataframe thead th {\n",
       "        text-align: left;\n",
       "    }\n",
       "\n",
       "    .dataframe tbody tr th {\n",
       "        vertical-align: top;\n",
       "    }\n",
       "</style>\n",
       "<table border=\"1\" class=\"dataframe\">\n",
       "  <thead>\n",
       "    <tr style=\"text-align: right;\">\n",
       "      <th></th>\n",
       "      <th>draw</th>\n",
       "      <th>fund</th>\n",
       "      <th>dollar</th>\n",
       "      <th>project</th>\n",
       "      <th>think</th>\n",
       "      <th>fun</th>\n",
       "      <th>guy</th>\n",
       "      <th>call</th>\n",
       "      <th>help</th>\n",
       "      <th>write</th>\n",
       "      <th>...</th>\n",
       "      <th>patent</th>\n",
       "      <th>kiln</th>\n",
       "      <th>tasty</th>\n",
       "      <th>throne</th>\n",
       "      <th>selfie</th>\n",
       "      <th>soy</th>\n",
       "      <th>salad</th>\n",
       "      <th>jewellery</th>\n",
       "      <th>denim</th>\n",
       "      <th>jerky</th>\n",
       "    </tr>\n",
       "  </thead>\n",
       "  <tbody>\n",
       "  </tbody>\n",
       "</table>\n",
       "<p>0 rows × 2732 columns</p>\n",
       "</div>"
      ],
      "text/plain": [
       "Empty DataFrame\n",
       "Columns: [draw, fund, dollar, project, think, fun, guy, call, help, write, second, novel, sculpture, live, brooklyn, make, check, http, free, iphone, app, drive, fast, car, giant, choose, adventure, paint, series, book, artist, inspire, digital, pixel, game, miniature, icon, professional, creator, producer, web, video, put, together, pedal, frank, issue, party, puzzle, might, become, movie, postcard, three, year, move, texas, spend, entire, life, midwest, summer, week, travel, watercolor, interview, people, podcast, economic, trouble, great, one, favorite, album, time, tiny, label, new, fall, fly, complete, documentary, future, independent, music, industry, face, photo, friend, combination, finally, create, method, use, social, medium, network, twitter, facebook, yet, ...]\n",
       "Index: []\n",
       "\n",
       "[0 rows x 2732 columns]"
      ]
     },
     "execution_count": 50,
     "metadata": {},
     "output_type": "execute_result"
    }
   ],
   "source": [
    "selected_keys"
   ]
  },
  {
   "cell_type": "code",
   "execution_count": null,
   "metadata": {
    "collapsed": true
   },
   "outputs": [],
   "source": [
    "selected_keys"
   ]
  }
 ],
 "metadata": {
  "kernelspec": {
   "display_name": "Python 3",
   "language": "python",
   "name": "python3"
  },
  "language_info": {
   "codemirror_mode": {
    "name": "ipython",
    "version": 3
   },
   "file_extension": ".py",
   "mimetype": "text/x-python",
   "name": "python",
   "nbconvert_exporter": "python",
   "pygments_lexer": "ipython3",
   "version": "3.6.3"
  }
 },
 "nbformat": 4,
 "nbformat_minor": 2
}
