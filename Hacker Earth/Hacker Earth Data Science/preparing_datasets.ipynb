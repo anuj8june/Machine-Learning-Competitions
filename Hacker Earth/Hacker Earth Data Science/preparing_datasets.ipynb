{
 "cells": [
  {
   "cell_type": "markdown",
   "metadata": {},
   "source": [
    "# Kickstarter \n",
    "\n",
    "### Loading relevent libraries and dataset"
   ]
  },
  {
   "cell_type": "code",
   "execution_count": 1,
   "metadata": {
    "collapsed": true
   },
   "outputs": [],
   "source": [
    "import pandas as pd\n",
    "import numpy as np\n",
    "from datetime import datetime\n",
    "from datetime import date\n",
    "from nltk.corpus import stopwords\n",
    "from nltk import word_tokenize\n",
    "from nltk.stem.wordnet import WordNetLemmatizer\n",
    "from collections import Counter\n",
    "from nltk import word_tokenize"
   ]
  },
  {
   "cell_type": "code",
   "execution_count": 2,
   "metadata": {},
   "outputs": [
    {
     "data": {
      "text/html": [
       "<div>\n",
       "<style>\n",
       "    .dataframe thead tr:only-child th {\n",
       "        text-align: right;\n",
       "    }\n",
       "\n",
       "    .dataframe thead th {\n",
       "        text-align: left;\n",
       "    }\n",
       "\n",
       "    .dataframe tbody tr th {\n",
       "        vertical-align: top;\n",
       "    }\n",
       "</style>\n",
       "<table border=\"1\" class=\"dataframe\">\n",
       "  <thead>\n",
       "    <tr style=\"text-align: right;\">\n",
       "      <th></th>\n",
       "      <th>project_id</th>\n",
       "      <th>name</th>\n",
       "      <th>desc</th>\n",
       "      <th>goal</th>\n",
       "      <th>keywords</th>\n",
       "      <th>disable_communication</th>\n",
       "      <th>country</th>\n",
       "      <th>currency</th>\n",
       "      <th>deadline</th>\n",
       "      <th>state_changed_at</th>\n",
       "      <th>created_at</th>\n",
       "      <th>launched_at</th>\n",
       "      <th>backers_count</th>\n",
       "      <th>final_status</th>\n",
       "    </tr>\n",
       "  </thead>\n",
       "  <tbody>\n",
       "    <tr>\n",
       "      <th>0</th>\n",
       "      <td>kkst1451568084</td>\n",
       "      <td>drawing for dollars</td>\n",
       "      <td>I like drawing pictures. and then i color them...</td>\n",
       "      <td>20.0</td>\n",
       "      <td>drawing-for-dollars</td>\n",
       "      <td>False</td>\n",
       "      <td>US</td>\n",
       "      <td>USD</td>\n",
       "      <td>1241333999</td>\n",
       "      <td>1241334017</td>\n",
       "      <td>1240600507</td>\n",
       "      <td>1240602723</td>\n",
       "      <td>3</td>\n",
       "      <td>1</td>\n",
       "    </tr>\n",
       "    <tr>\n",
       "      <th>1</th>\n",
       "      <td>kkst1474482071</td>\n",
       "      <td>Sponsor Dereck Blackburn (Lostwars) Artist in ...</td>\n",
       "      <td>I, Dereck Blackburn will be taking upon an inc...</td>\n",
       "      <td>300.0</td>\n",
       "      <td>sponsor-dereck-blackburn-lostwars-artist-in-re...</td>\n",
       "      <td>False</td>\n",
       "      <td>US</td>\n",
       "      <td>USD</td>\n",
       "      <td>1242429000</td>\n",
       "      <td>1242432018</td>\n",
       "      <td>1240960224</td>\n",
       "      <td>1240975592</td>\n",
       "      <td>2</td>\n",
       "      <td>0</td>\n",
       "    </tr>\n",
       "  </tbody>\n",
       "</table>\n",
       "</div>"
      ],
      "text/plain": [
       "       project_id                                               name  \\\n",
       "0  kkst1451568084                                drawing for dollars   \n",
       "1  kkst1474482071  Sponsor Dereck Blackburn (Lostwars) Artist in ...   \n",
       "\n",
       "                                                desc   goal  \\\n",
       "0  I like drawing pictures. and then i color them...   20.0   \n",
       "1  I, Dereck Blackburn will be taking upon an inc...  300.0   \n",
       "\n",
       "                                            keywords  disable_communication  \\\n",
       "0                                drawing-for-dollars                  False   \n",
       "1  sponsor-dereck-blackburn-lostwars-artist-in-re...                  False   \n",
       "\n",
       "  country currency    deadline  state_changed_at  created_at  launched_at  \\\n",
       "0      US      USD  1241333999        1241334017  1240600507   1240602723   \n",
       "1      US      USD  1242429000        1242432018  1240960224   1240975592   \n",
       "\n",
       "   backers_count  final_status  \n",
       "0              3             1  \n",
       "1              2             0  "
      ]
     },
     "execution_count": 2,
     "metadata": {},
     "output_type": "execute_result"
    }
   ],
   "source": [
    "train = pd.read_csv('train.csv')\n",
    "train.head(2)"
   ]
  },
  {
   "cell_type": "code",
   "execution_count": 3,
   "metadata": {},
   "outputs": [
    {
     "data": {
      "text/html": [
       "<div>\n",
       "<style>\n",
       "    .dataframe thead tr:only-child th {\n",
       "        text-align: right;\n",
       "    }\n",
       "\n",
       "    .dataframe thead th {\n",
       "        text-align: left;\n",
       "    }\n",
       "\n",
       "    .dataframe tbody tr th {\n",
       "        vertical-align: top;\n",
       "    }\n",
       "</style>\n",
       "<table border=\"1\" class=\"dataframe\">\n",
       "  <thead>\n",
       "    <tr style=\"text-align: right;\">\n",
       "      <th></th>\n",
       "      <th>project_id</th>\n",
       "      <th>name</th>\n",
       "      <th>desc</th>\n",
       "      <th>goal</th>\n",
       "      <th>keywords</th>\n",
       "      <th>disable_communication</th>\n",
       "      <th>country</th>\n",
       "      <th>currency</th>\n",
       "      <th>deadline</th>\n",
       "      <th>state_changed_at</th>\n",
       "      <th>created_at</th>\n",
       "      <th>launched_at</th>\n",
       "    </tr>\n",
       "  </thead>\n",
       "  <tbody>\n",
       "    <tr>\n",
       "      <th>0</th>\n",
       "      <td>kkst917493670</td>\n",
       "      <td>Bràthair.</td>\n",
       "      <td>My first film, of many to come. Trying to purs...</td>\n",
       "      <td>7000.0</td>\n",
       "      <td>brathair</td>\n",
       "      <td>False</td>\n",
       "      <td>US</td>\n",
       "      <td>USD</td>\n",
       "      <td>1449619185</td>\n",
       "      <td>1449619185</td>\n",
       "      <td>1446002581</td>\n",
       "      <td>1446159585</td>\n",
       "    </tr>\n",
       "    <tr>\n",
       "      <th>1</th>\n",
       "      <td>kkst1664901914</td>\n",
       "      <td>THE SCREENWRITER</td>\n",
       "      <td>A young man that has earned his master's in sc...</td>\n",
       "      <td>35000.0</td>\n",
       "      <td>the-screenwriter</td>\n",
       "      <td>False</td>\n",
       "      <td>US</td>\n",
       "      <td>USD</td>\n",
       "      <td>1453435620</td>\n",
       "      <td>1453435620</td>\n",
       "      <td>1450297323</td>\n",
       "      <td>1450411620</td>\n",
       "    </tr>\n",
       "  </tbody>\n",
       "</table>\n",
       "</div>"
      ],
      "text/plain": [
       "       project_id              name  \\\n",
       "0   kkst917493670         Bràthair.   \n",
       "1  kkst1664901914  THE SCREENWRITER   \n",
       "\n",
       "                                                desc     goal  \\\n",
       "0  My first film, of many to come. Trying to purs...   7000.0   \n",
       "1  A young man that has earned his master's in sc...  35000.0   \n",
       "\n",
       "           keywords  disable_communication country currency    deadline  \\\n",
       "0          brathair                  False      US      USD  1449619185   \n",
       "1  the-screenwriter                  False      US      USD  1453435620   \n",
       "\n",
       "   state_changed_at  created_at  launched_at  \n",
       "0        1449619185  1446002581   1446159585  \n",
       "1        1453435620  1450297323   1450411620  "
      ]
     },
     "execution_count": 3,
     "metadata": {},
     "output_type": "execute_result"
    }
   ],
   "source": [
    "test = pd.read_csv('test.csv')\n",
    "test.head(2)"
   ]
  },
  {
   "cell_type": "markdown",
   "metadata": {},
   "source": [
    "### Analyzing datasets"
   ]
  },
  {
   "cell_type": "code",
   "execution_count": 4,
   "metadata": {},
   "outputs": [
    {
     "name": "stdout",
     "output_type": "stream",
     "text": [
      "train length:108129\n",
      "test length:63465\n"
     ]
    }
   ],
   "source": [
    "print('train length:{0}'.format(len(train)))\n",
    "print('test length:{0}'.format(len(test)))"
   ]
  },
  {
   "cell_type": "code",
   "execution_count": 5,
   "metadata": {},
   "outputs": [
    {
     "name": "stdout",
     "output_type": "stream",
     "text": [
      "train length:project_id                object\n",
      "name                      object\n",
      "desc                      object\n",
      "goal                     float64\n",
      "keywords                  object\n",
      "disable_communication       bool\n",
      "country                   object\n",
      "currency                  object\n",
      "deadline                   int64\n",
      "state_changed_at           int64\n",
      "created_at                 int64\n",
      "launched_at                int64\n",
      "backers_count              int64\n",
      "final_status               int64\n",
      "dtype: object\n",
      "\n",
      "test length:project_id                object\n",
      "name                      object\n",
      "desc                      object\n",
      "goal                     float64\n",
      "keywords                  object\n",
      "disable_communication       bool\n",
      "country                   object\n",
      "currency                  object\n",
      "deadline                   int64\n",
      "state_changed_at           int64\n",
      "created_at                 int64\n",
      "launched_at                int64\n",
      "dtype: object\n"
     ]
    }
   ],
   "source": [
    "print('train length:{0}\\n'.format(train.dtypes))\n",
    "print('test length:{0}'.format(test.dtypes))"
   ]
  },
  {
   "cell_type": "code",
   "execution_count": 6,
   "metadata": {
    "collapsed": true
   },
   "outputs": [],
   "source": [
    "X = train.copy()\n",
    "y = test.copy()"
   ]
  },
  {
   "cell_type": "code",
   "execution_count": 7,
   "metadata": {},
   "outputs": [
    {
     "data": {
      "text/plain": [
       "Index(['backers_count', 'ca_d', 'ca_m', 'ca_y', 'country', 'created_at',\n",
       "       'currency', 'deadline', 'desc', 'disable_communication', 'dl_d', 'dl_m',\n",
       "       'dl_y', 'final_status', 'goal', 'keywords', 'la_d', 'la_m', 'la_y',\n",
       "       'launched_at', 'name', 'project_id', 'sc_d', 'sc_m', 'sc_y',\n",
       "       'state_changed_at'],\n",
       "      dtype='object')"
      ]
     },
     "execution_count": 7,
     "metadata": {},
     "output_type": "execute_result"
    }
   ],
   "source": [
    "X = pd.concat([X,pd.DataFrame(columns=['dl_y','dl_m','dl_d','sc_y','sc_m','sc_d','ca_y','ca_m','ca_d','la_y','la_m','la_d'])])\n",
    "X.columns"
   ]
  },
  {
   "cell_type": "code",
   "execution_count": 8,
   "metadata": {},
   "outputs": [
    {
     "data": {
      "text/plain": [
       "Index(['ca_d', 'ca_m', 'ca_y', 'country', 'created_at', 'currency', 'deadline',\n",
       "       'desc', 'disable_communication', 'dl_d', 'dl_m', 'dl_y', 'goal',\n",
       "       'keywords', 'la_d', 'la_m', 'la_y', 'launched_at', 'name', 'project_id',\n",
       "       'sc_d', 'sc_m', 'sc_y', 'state_changed_at'],\n",
       "      dtype='object')"
      ]
     },
     "execution_count": 8,
     "metadata": {},
     "output_type": "execute_result"
    }
   ],
   "source": [
    "y = pd.concat([y,pd.DataFrame(columns=['dl_y','dl_m','dl_d','sc_y','sc_m','sc_d','ca_y','ca_m','ca_d','la_y','la_m','la_d'])])\n",
    "y.columns"
   ]
  },
  {
   "cell_type": "code",
   "execution_count": 9,
   "metadata": {},
   "outputs": [
    {
     "name": "stdout",
     "output_type": "stream",
     "text": [
      "24\n",
      "26\n"
     ]
    }
   ],
   "source": [
    "print(len(y.columns.tolist()))\n",
    "print(len(X.columns.tolist()))"
   ]
  },
  {
   "cell_type": "code",
   "execution_count": 10,
   "metadata": {
    "collapsed": true
   },
   "outputs": [],
   "source": [
    "X.drop('backers_count', axis=1, inplace=True)"
   ]
  },
  {
   "cell_type": "code",
   "execution_count": 11,
   "metadata": {
    "collapsed": true
   },
   "outputs": [],
   "source": [
    "X['dl_y'] = 0\n",
    "X['dl_m'] = 0\n",
    "X['dl_d'] = 0\n",
    "X['sc_y'] = 0\n",
    "X['sc_m'] = 0\n",
    "X['sc_d'] = 0\n",
    "X['ca_y'] = 0\n",
    "X['ca_m'] = 0\n",
    "X['ca_d'] = 0\n",
    "X['la_y'] = 0\n",
    "X['la_m'] = 0\n",
    "X['la_d'] = 0"
   ]
  },
  {
   "cell_type": "code",
   "execution_count": 12,
   "metadata": {
    "collapsed": true
   },
   "outputs": [],
   "source": [
    "y['dl_y'] = 0\n",
    "y['dl_m'] = 0\n",
    "y['dl_d'] = 0\n",
    "y['sc_y'] = 0\n",
    "y['sc_m'] = 0\n",
    "y['sc_d'] = 0\n",
    "y['ca_y'] = 0\n",
    "y['ca_m'] = 0\n",
    "y['ca_d'] = 0\n",
    "y['la_y'] = 0\n",
    "y['la_m'] = 0\n",
    "y['la_d'] = 0"
   ]
  },
  {
   "cell_type": "code",
   "execution_count": 13,
   "metadata": {
    "collapsed": true
   },
   "outputs": [],
   "source": [
    "for i, row in X.iterrows():\n",
    "    date_d = datetime.fromtimestamp(row['deadline']).strftime('%Y-%m-%d')\n",
    "    date_s = datetime.fromtimestamp(row['state_changed_at']).strftime('%Y-%m-%d')\n",
    "    date_c = datetime.fromtimestamp(row['created_at']).strftime('%Y-%m-%d')\n",
    "    date_l = datetime.fromtimestamp(row['launched_at']).strftime('%Y-%m-%d')\n",
    "    X.at[i,'dl_y'] = date_d[:4]\n",
    "    X.at[i,'dl_m'] = date_d[5:7]\n",
    "    X.at[i,'dl_d'] = date_d[8:]\n",
    "    X.at[i,'sc_y'] = date_s[:4]\n",
    "    X.at[i,'sc_m'] = date_s[5:7]\n",
    "    X.at[i,'sc_d'] = date_s[8:]\n",
    "    X.at[i,'ca_y'] = date_c[:4]\n",
    "    X.at[i,'ca_m'] = date_c[5:7]\n",
    "    X.at[i,'ca_d'] = date_c[8:]\n",
    "    X.at[i,'la_y'] = date_l[:4]\n",
    "    X.at[i,'la_m'] = date_l[5:7]\n",
    "    X.at[i,'la_d'] = date_l[8:]"
   ]
  },
  {
   "cell_type": "code",
   "execution_count": 14,
   "metadata": {
    "collapsed": true
   },
   "outputs": [],
   "source": [
    "for i, row in y.iterrows():\n",
    "    date_d = datetime.fromtimestamp(row['deadline']).strftime('%Y-%m-%d')\n",
    "    date_s = datetime.fromtimestamp(row['state_changed_at']).strftime('%Y-%m-%d')\n",
    "    date_c = datetime.fromtimestamp(row['created_at']).strftime('%Y-%m-%d')\n",
    "    date_l = datetime.fromtimestamp(row['launched_at']).strftime('%Y-%m-%d')\n",
    "    y.at[i,'dl_y'] = date_d[:4]\n",
    "    y.at[i,'dl_m'] = date_d[5:7]\n",
    "    y.at[i,'dl_d'] = date_d[8:]\n",
    "    y.at[i,'sc_y'] = date_s[:4]\n",
    "    y.at[i,'sc_m'] = date_s[5:7]\n",
    "    y.at[i,'sc_d'] = date_s[8:]\n",
    "    y.at[i,'ca_y'] = date_c[:4]\n",
    "    y.at[i,'ca_m'] = date_c[5:7]\n",
    "    y.at[i,'ca_d'] = date_c[8:]\n",
    "    y.at[i,'la_y'] = date_l[:4]\n",
    "    y.at[i,'la_m'] = date_l[5:7]\n",
    "    y.at[i,'la_d'] = date_l[8:]"
   ]
  },
  {
   "cell_type": "code",
   "execution_count": 15,
   "metadata": {},
   "outputs": [
    {
     "data": {
      "text/plain": [
       "Index(['ca_d', 'ca_m', 'ca_y', 'country', 'currency', 'desc',\n",
       "       'disable_communication', 'dl_d', 'dl_m', 'dl_y', 'final_status', 'goal',\n",
       "       'keywords', 'la_d', 'la_m', 'la_y', 'name', 'project_id', 'sc_d',\n",
       "       'sc_m', 'sc_y'],\n",
       "      dtype='object')"
      ]
     },
     "execution_count": 15,
     "metadata": {},
     "output_type": "execute_result"
    }
   ],
   "source": [
    "X.drop(['deadline','state_changed_at','created_at','launched_at'], axis=1, inplace=True)\n",
    "X.columns"
   ]
  },
  {
   "cell_type": "code",
   "execution_count": 16,
   "metadata": {},
   "outputs": [
    {
     "data": {
      "text/plain": [
       "Index(['ca_d', 'ca_m', 'ca_y', 'country', 'currency', 'desc',\n",
       "       'disable_communication', 'dl_d', 'dl_m', 'dl_y', 'goal', 'keywords',\n",
       "       'la_d', 'la_m', 'la_y', 'name', 'project_id', 'sc_d', 'sc_m', 'sc_y'],\n",
       "      dtype='object')"
      ]
     },
     "execution_count": 16,
     "metadata": {},
     "output_type": "execute_result"
    }
   ],
   "source": [
    "y.drop(['deadline','state_changed_at','created_at','launched_at'], axis=1, inplace=True)\n",
    "y.columns"
   ]
  },
  {
   "cell_type": "code",
   "execution_count": 17,
   "metadata": {
    "collapsed": true
   },
   "outputs": [],
   "source": [
    "X['duration'] = 0\n",
    "for i, row in X.iterrows():\n",
    "    dur = date(X.iloc[i]['dl_y'],X.iloc[i]['dl_m'],X.iloc[i]['dl_d']) - date(X.iloc[i]['ca_y'],X.iloc[i]['ca_m'],X.iloc[i]['ca_d'])\n",
    "    X.at[i,'duration'] = str(dur).split(' ')[0]"
   ]
  },
  {
   "cell_type": "code",
   "execution_count": 18,
   "metadata": {
    "collapsed": true
   },
   "outputs": [],
   "source": [
    "y['duration'] = 0\n",
    "for i, row in y.iterrows():\n",
    "    dur = date(y.iloc[i]['dl_y'],y.iloc[i]['dl_m'],y.iloc[i]['dl_d']) - date(y.iloc[i]['ca_y'],y.iloc[i]['ca_m'],y.iloc[i]['ca_d'])\n",
    "    y.at[i,'duration'] = str(dur).split(' ')[0]"
   ]
  },
  {
   "cell_type": "code",
   "execution_count": 19,
   "metadata": {
    "collapsed": true
   },
   "outputs": [],
   "source": [
    "X.drop(['dl_d','sc_d','ca_d','la_d'], axis=1, inplace=True)"
   ]
  },
  {
   "cell_type": "code",
   "execution_count": 20,
   "metadata": {
    "collapsed": true
   },
   "outputs": [],
   "source": [
    "y.drop(['dl_d','sc_d','ca_d','la_d'], axis=1, inplace=True)"
   ]
  },
  {
   "cell_type": "code",
   "execution_count": 21,
   "metadata": {
    "collapsed": true
   },
   "outputs": [],
   "source": [
    "X['disable_communication'].replace([False,True],[0,1], inplace=True)"
   ]
  },
  {
   "cell_type": "code",
   "execution_count": 22,
   "metadata": {
    "collapsed": true
   },
   "outputs": [],
   "source": [
    "y['disable_communication'].replace([False,True],[0,1], inplace=True)"
   ]
  },
  {
   "cell_type": "code",
   "execution_count": 23,
   "metadata": {},
   "outputs": [
    {
     "data": {
      "text/plain": [
       "ca_m                     0\n",
       "ca_y                     0\n",
       "country                  0\n",
       "currency                 0\n",
       "desc                     0\n",
       "disable_communication    0\n",
       "dl_m                     0\n",
       "dl_y                     0\n",
       "final_status             0\n",
       "goal                     0\n",
       "keywords                 0\n",
       "la_m                     0\n",
       "la_y                     0\n",
       "name                     0\n",
       "project_id               0\n",
       "sc_m                     0\n",
       "sc_y                     0\n",
       "duration                 0\n",
       "dtype: int64"
      ]
     },
     "execution_count": 23,
     "metadata": {},
     "output_type": "execute_result"
    }
   ],
   "source": [
    "X.dropna(axis=0, how='any',inplace=True)\n",
    "X.isnull().sum()"
   ]
  },
  {
   "cell_type": "code",
   "execution_count": 24,
   "metadata": {
    "collapsed": true
   },
   "outputs": [],
   "source": [
    "xl = X['country'].unique().tolist()\n",
    "yl = y['country'].unique().tolist()\n",
    "cmn = list()\n",
    "for val in yl:\n",
    "    if val not in xl:\n",
    "        cmn.append(val)"
   ]
  },
  {
   "cell_type": "code",
   "execution_count": 25,
   "metadata": {
    "collapsed": true
   },
   "outputs": [],
   "source": [
    "for i, row in X.iterrows():\n",
    "    if row['country'] in cmn:\n",
    "        X.at[i,'country'] = 'ZZ'"
   ]
  },
  {
   "cell_type": "code",
   "execution_count": 26,
   "metadata": {
    "collapsed": true
   },
   "outputs": [],
   "source": [
    "for i, row in y.iterrows():\n",
    "    if row['country'] in cmn:\n",
    "        y.at[i,'country'] = 'ZZ'"
   ]
  },
  {
   "cell_type": "code",
   "execution_count": 27,
   "metadata": {
    "collapsed": true
   },
   "outputs": [],
   "source": [
    "country_x = pd.get_dummies(X['country'],prefix='cntry')\n",
    "X = pd.concat([X, country_x], axis=1)"
   ]
  },
  {
   "cell_type": "code",
   "execution_count": 28,
   "metadata": {
    "collapsed": true
   },
   "outputs": [],
   "source": [
    "country_y = pd.get_dummies(y['country'],prefix='cntry')\n",
    "y = pd.concat([y, country_y], axis=1)"
   ]
  },
  {
   "cell_type": "code",
   "execution_count": 29,
   "metadata": {
    "collapsed": true
   },
   "outputs": [],
   "source": [
    "X.drop('cntry_DE', axis=1, inplace=True)"
   ]
  },
  {
   "cell_type": "code",
   "execution_count": 30,
   "metadata": {
    "collapsed": true
   },
   "outputs": [],
   "source": [
    "y.drop(['cntry_ZZ','cntry_DE'], axis=1, inplace=True)"
   ]
  },
  {
   "cell_type": "code",
   "execution_count": 31,
   "metadata": {
    "collapsed": true
   },
   "outputs": [],
   "source": [
    "X.drop('country', axis=1, inplace=True)"
   ]
  },
  {
   "cell_type": "code",
   "execution_count": 32,
   "metadata": {
    "collapsed": true
   },
   "outputs": [],
   "source": [
    "y.drop('country', axis=1, inplace=True)"
   ]
  },
  {
   "cell_type": "code",
   "execution_count": 33,
   "metadata": {
    "collapsed": true
   },
   "outputs": [],
   "source": [
    "xc = X['currency'].unique().tolist()\n",
    "yc = y['currency'].unique().tolist()\n",
    "cmn = list()\n",
    "for val in yc:\n",
    "    if val not in xc:\n",
    "        cmn.append(val)"
   ]
  },
  {
   "cell_type": "code",
   "execution_count": 34,
   "metadata": {
    "collapsed": true
   },
   "outputs": [],
   "source": [
    "for i, row in y.iterrows():\n",
    "    if row['currency'] in cmn:\n",
    "        y.at[i,'currency'] = 'ZZZ'"
   ]
  },
  {
   "cell_type": "code",
   "execution_count": 35,
   "metadata": {
    "collapsed": true
   },
   "outputs": [],
   "source": [
    "currency = pd.get_dummies(X['currency'],prefix='curr')\n",
    "X = pd.concat([X, currency], axis=1)"
   ]
  },
  {
   "cell_type": "code",
   "execution_count": 36,
   "metadata": {
    "collapsed": true
   },
   "outputs": [],
   "source": [
    "currency = pd.get_dummies(y['currency'],prefix='curr')\n",
    "y = pd.concat([y, currency], axis=1)"
   ]
  },
  {
   "cell_type": "code",
   "execution_count": 37,
   "metadata": {},
   "outputs": [
    {
     "data": {
      "text/plain": [
       "Index(['ca_m', 'ca_y', 'currency', 'desc', 'disable_communication', 'dl_m',\n",
       "       'dl_y', 'goal', 'keywords', 'la_m', 'la_y', 'name', 'project_id',\n",
       "       'sc_m', 'sc_y', 'duration', 'cntry_AU', 'cntry_CA', 'cntry_DK',\n",
       "       'cntry_GB', 'cntry_IE', 'cntry_NL', 'cntry_NO', 'cntry_NZ', 'cntry_SE',\n",
       "       'cntry_US', 'curr_AUD', 'curr_CAD', 'curr_DKK', 'curr_EUR', 'curr_GBP',\n",
       "       'curr_NOK', 'curr_NZD', 'curr_SEK', 'curr_USD', 'curr_ZZZ'],\n",
       "      dtype='object')"
      ]
     },
     "execution_count": 37,
     "metadata": {},
     "output_type": "execute_result"
    }
   ],
   "source": [
    "y.columns"
   ]
  },
  {
   "cell_type": "code",
   "execution_count": 38,
   "metadata": {
    "collapsed": true
   },
   "outputs": [],
   "source": [
    "y.drop('curr_ZZZ', axis=1, inplace=True)"
   ]
  },
  {
   "cell_type": "code",
   "execution_count": 39,
   "metadata": {
    "collapsed": true
   },
   "outputs": [],
   "source": [
    "X.drop('currency', axis=1, inplace=True)"
   ]
  },
  {
   "cell_type": "code",
   "execution_count": 40,
   "metadata": {
    "collapsed": true
   },
   "outputs": [],
   "source": [
    "y.drop('currency', axis=1, inplace=True)"
   ]
  },
  {
   "cell_type": "code",
   "execution_count": 41,
   "metadata": {
    "collapsed": true
   },
   "outputs": [],
   "source": [
    "y.fillna(value='',axis=0, inplace=True)"
   ]
  },
  {
   "cell_type": "code",
   "execution_count": 42,
   "metadata": {
    "collapsed": true
   },
   "outputs": [],
   "source": [
    "tokens_x = list()\n",
    "for i, row in X.iterrows():\n",
    "    toks = row['keywords'].split('-')\n",
    "    tokens_x.append(toks)"
   ]
  },
  {
   "cell_type": "code",
   "execution_count": 43,
   "metadata": {
    "collapsed": true
   },
   "outputs": [],
   "source": [
    "tokens_y = list()\n",
    "for i, row in y.iterrows():\n",
    "    toks = row['keywords'].split('-')\n",
    "    tokens_y.append(toks)"
   ]
  },
  {
   "cell_type": "code",
   "execution_count": 44,
   "metadata": {
    "collapsed": true,
    "scrolled": true
   },
   "outputs": [],
   "source": [
    "stop_clean_x = list()\n",
    "for j in tokens_x:\n",
    "    temp = list()\n",
    "    for i in j :\n",
    "        if i.lower() not in stopwords.words('english'):\n",
    "            temp.append(i.lower())\n",
    "    stop_clean_x.append(temp)"
   ]
  },
  {
   "cell_type": "code",
   "execution_count": 45,
   "metadata": {
    "collapsed": true
   },
   "outputs": [],
   "source": [
    "stop_clean_y = list()\n",
    "for j in tokens_y:\n",
    "    temp = list()\n",
    "    for i in j :\n",
    "        if i.lower() not in stopwords.words('english'):\n",
    "            temp.append(i.lower())\n",
    "    stop_clean_y.append(temp)"
   ]
  },
  {
   "cell_type": "code",
   "execution_count": 46,
   "metadata": {
    "collapsed": true
   },
   "outputs": [],
   "source": [
    "lemm_toks_x = list()\n",
    "lemm = WordNetLemmatizer()\n",
    "for i in stop_clean_x:\n",
    "    temp = list()\n",
    "    for j in i:\n",
    "        word = lemm.lemmatize(j,'a')\n",
    "        word = lemm.lemmatize(word,'s')\n",
    "        word = lemm.lemmatize(word,'r')\n",
    "        word = lemm.lemmatize(word,'n')\n",
    "        word = lemm.lemmatize(word,'v')\n",
    "        temp.append(word)\n",
    "    lemm_toks_x.append(temp)"
   ]
  },
  {
   "cell_type": "code",
   "execution_count": 47,
   "metadata": {
    "collapsed": true
   },
   "outputs": [],
   "source": [
    "lemm_toks_y = list()\n",
    "lemm = WordNetLemmatizer()\n",
    "for i in stop_clean_y:\n",
    "    temp = list()\n",
    "    for j in i:\n",
    "        word = lemm.lemmatize(j,'a')\n",
    "        word = lemm.lemmatize(word,'s')\n",
    "        word = lemm.lemmatize(word,'r')\n",
    "        word = lemm.lemmatize(word,'n')\n",
    "        word = lemm.lemmatize(word,'v')\n",
    "        temp.append(word)\n",
    "    lemm_toks_y.append(temp)"
   ]
  },
  {
   "cell_type": "code",
   "execution_count": 48,
   "metadata": {
    "collapsed": true
   },
   "outputs": [],
   "source": [
    "master_list_x = list()\n",
    "for i in lemm_toks_x:\n",
    "    for j in i:\n",
    "        master_list_x.append(j)"
   ]
  },
  {
   "cell_type": "code",
   "execution_count": 49,
   "metadata": {
    "collapsed": true
   },
   "outputs": [],
   "source": [
    "master_list_y = list()\n",
    "for i in lemm_toks_y:\n",
    "    for j in i:\n",
    "        master_list_y.append(j)"
   ]
  },
  {
   "cell_type": "code",
   "execution_count": 50,
   "metadata": {
    "collapsed": true
   },
   "outputs": [],
   "source": [
    "master_filter_x = [i for i in master_list_x if len(i)>2]"
   ]
  },
  {
   "cell_type": "code",
   "execution_count": 51,
   "metadata": {
    "collapsed": true
   },
   "outputs": [],
   "source": [
    "master_filter_y = [i for i in master_list_y if len(i)>2]"
   ]
  },
  {
   "cell_type": "code",
   "execution_count": 52,
   "metadata": {
    "collapsed": true
   },
   "outputs": [],
   "source": [
    "ck = pd.read_csv('common_keys.csv')\n",
    "ck_cols = ck.columns.tolist()"
   ]
  },
  {
   "cell_type": "code",
   "execution_count": 53,
   "metadata": {},
   "outputs": [
    {
     "data": {
      "text/plain": [
       "['do', 'go', 'la', 'le', 'io', 'us']"
      ]
     },
     "execution_count": 53,
     "metadata": {},
     "output_type": "execute_result"
    }
   ],
   "source": [
    "count = list()\n",
    "for val in ck_cols:\n",
    "    if val not in master_filter_y:\n",
    "        count.append(val)\n",
    "count "
   ]
  },
  {
   "cell_type": "code",
   "execution_count": 54,
   "metadata": {
    "collapsed": true
   },
   "outputs": [],
   "source": [
    "for val in count:\n",
    "    ck_cols.remove(val)"
   ]
  },
  {
   "cell_type": "code",
   "execution_count": 55,
   "metadata": {
    "collapsed": true
   },
   "outputs": [],
   "source": [
    "X_f_c = pd.DataFrame(0, index=np.arange(len(X)), columns=ck_cols)"
   ]
  },
  {
   "cell_type": "code",
   "execution_count": 56,
   "metadata": {
    "collapsed": true
   },
   "outputs": [],
   "source": [
    "y_f_c = pd.DataFrame(0, index=np.arange(len(y)), columns=ck_cols)"
   ]
  },
  {
   "cell_type": "code",
   "execution_count": 57,
   "metadata": {
    "collapsed": true
   },
   "outputs": [],
   "source": [
    "lemm_toks_filter_x = list()\n",
    "for val in lemm_toks_x:\n",
    "    temp = list()\n",
    "    for i in val:\n",
    "        if len(i) > 2:\n",
    "            temp.append(i)\n",
    "    lemm_toks_filter_x.append(temp)"
   ]
  },
  {
   "cell_type": "code",
   "execution_count": 58,
   "metadata": {
    "collapsed": true
   },
   "outputs": [],
   "source": [
    "lemm_toks_filter_y = list()\n",
    "for val in lemm_toks_y:\n",
    "    temp = list()\n",
    "    for i in val:\n",
    "        if len(i) > 2:\n",
    "            temp.append(i)\n",
    "    lemm_toks_filter_y.append(temp)"
   ]
  },
  {
   "cell_type": "code",
   "execution_count": 59,
   "metadata": {
    "collapsed": true
   },
   "outputs": [],
   "source": [
    "for i, val in enumerate(lemm_toks_x):\n",
    "    for j in val:\n",
    "        if j in ck_cols:\n",
    "            X_f_c.at[i,j] = 1      "
   ]
  },
  {
   "cell_type": "code",
   "execution_count": 60,
   "metadata": {
    "collapsed": true
   },
   "outputs": [],
   "source": [
    "for i, val in enumerate(lemm_toks_y):\n",
    "    for j in val:\n",
    "        if j in ck_cols:\n",
    "            y_f_c.at[i,j] = 1      "
   ]
  },
  {
   "cell_type": "code",
   "execution_count": 61,
   "metadata": {
    "collapsed": true
   },
   "outputs": [],
   "source": [
    "X.reset_index(drop=True,inplace=True)"
   ]
  },
  {
   "cell_type": "code",
   "execution_count": 62,
   "metadata": {},
   "outputs": [],
   "source": [
    "X = pd.concat([X, X_f_c], axis=1)"
   ]
  },
  {
   "cell_type": "code",
   "execution_count": 63,
   "metadata": {
    "collapsed": true
   },
   "outputs": [],
   "source": [
    "y = pd.concat([y.reset_index(drop=True), y_f_c.reset_index(drop=True)], axis=1)"
   ]
  },
  {
   "cell_type": "code",
   "execution_count": 64,
   "metadata": {
    "collapsed": true
   },
   "outputs": [],
   "source": [
    "X.drop(['project_id','name','desc','keywords'], axis=1, inplace=True)"
   ]
  },
  {
   "cell_type": "code",
   "execution_count": 65,
   "metadata": {
    "collapsed": true
   },
   "outputs": [],
   "source": [
    "y.drop(['project_id','name','desc','keywords'], axis=1, inplace=True)"
   ]
  },
  {
   "cell_type": "code",
   "execution_count": 66,
   "metadata": {
    "collapsed": true
   },
   "outputs": [],
   "source": [
    "Xli = X.columns.tolist()\n",
    "yli = y.columns.tolist()"
   ]
  },
  {
   "cell_type": "code",
   "execution_count": 67,
   "metadata": {
    "collapsed": true
   },
   "outputs": [],
   "source": [
    "X.to_csv('train_prep.csv', index=False)"
   ]
  },
  {
   "cell_type": "code",
   "execution_count": 68,
   "metadata": {
    "collapsed": true
   },
   "outputs": [],
   "source": [
    "y.to_csv('test_prep.csv', index=False)"
   ]
  }
 ],
 "metadata": {
  "kernelspec": {
   "display_name": "Python 3",
   "language": "python",
   "name": "python3"
  },
  "language_info": {
   "codemirror_mode": {
    "name": "ipython",
    "version": 3
   },
   "file_extension": ".py",
   "mimetype": "text/x-python",
   "name": "python",
   "nbconvert_exporter": "python",
   "pygments_lexer": "ipython3",
   "version": "3.6.3"
  }
 },
 "nbformat": 4,
 "nbformat_minor": 2
}
